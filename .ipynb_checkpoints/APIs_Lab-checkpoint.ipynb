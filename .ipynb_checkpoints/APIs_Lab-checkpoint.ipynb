{
 "cells": [
  {
   "cell_type": "markdown",
   "metadata": {},
   "source": [
    "# Basics"
   ]
  },
  {
   "cell_type": "code",
   "execution_count": 1,
   "metadata": {
    "collapsed": true
   },
   "outputs": [],
   "source": [
    "import requests"
   ]
  },
  {
   "cell_type": "code",
   "execution_count": 2,
   "metadata": {},
   "outputs": [
    {
     "name": "stdout",
     "output_type": "stream",
     "text": [
      "404\n"
     ]
    }
   ],
   "source": [
    "#find the right url\n",
    "response = requests.get(\"http://api.open-notify.org/iss-pass\")\n",
    "print(response.status_code) #bad url"
   ]
  },
  {
   "cell_type": "code",
   "execution_count": 3,
   "metadata": {},
   "outputs": [
    {
     "name": "stdout",
     "output_type": "stream",
     "text": [
      "200\n"
     ]
    }
   ],
   "source": [
    "response = requests.get(\"http://api.open-notify.org/iss-now.json\")\n",
    "print(response.status_code) #correct url"
   ]
  },
  {
   "cell_type": "code",
   "execution_count": 34,
   "metadata": {},
   "outputs": [
    {
     "name": "stdout",
     "output_type": "stream",
     "text": [
      "{\"timestamp\": 1517270245, \"message\": \"success\", \"iss_position\": {\"longitude\": \"111.9839\", \"latitude\": \"-50.3576\"}}\n",
      "<class 'requests.models.Response'>\n"
     ]
    }
   ],
   "source": [
    "#inspect content: \n",
    "print(response.content) # gives information about what is in the request we submitted\n",
    "#check response type\n",
    "print(type(response))"
   ]
  },
  {
   "cell_type": "code",
   "execution_count": 35,
   "metadata": {},
   "outputs": [
    {
     "data": {
      "text/plain": [
       "{u'latitude': u'-50.3576', u'longitude': u'111.9839'}"
      ]
     },
     "execution_count": 35,
     "metadata": {},
     "output_type": "execute_result"
    }
   ],
   "source": [
    "#convert to json and extract fields of interest\n",
    "data = response.json()\n",
    "data['iss_position']"
   ]
  },
  {
   "cell_type": "code",
   "execution_count": 78,
   "metadata": {},
   "outputs": [
    {
     "data": {
      "text/plain": [
       "{'Content-Length': '114', 'Server': 'nginx/1.10.3', 'Connection': 'keep-alive', 'Date': 'Tue, 30 Jan 2018 03:12:05 GMT', 'access-control-allow-origin': '*', 'Content-Type': 'application/json'}"
      ]
     },
     "execution_count": 78,
     "metadata": {},
     "output_type": "execute_result"
    }
   ],
   "source": [
    "response.headers"
   ]
  },
  {
   "cell_type": "markdown",
   "metadata": {},
   "source": [
    "# Dumping Data to DB"
   ]
  },
  {
   "cell_type": "code",
   "execution_count": 62,
   "metadata": {
    "collapsed": true
   },
   "outputs": [],
   "source": [
    "import sqlite3\n",
    "conn = sqlite3.connect('./test_db.sqlite')\n",
    "#to close connection: conn.close()\n",
    "#to commit changes: conn.commit."
   ]
  },
  {
   "cell_type": "code",
   "execution_count": 53,
   "metadata": {},
   "outputs": [
    {
     "data": {
      "text/plain": [
       "<sqlite3.Cursor at 0x10f2f3f10>"
      ]
     },
     "execution_count": 53,
     "metadata": {},
     "output_type": "execute_result"
    }
   ],
   "source": [
    "#create table\n",
    "iss_location = 'iss_location'  # name of the table to be created\n",
    "c = conn.cursor()\n",
    "\n",
    "c.execute('CREATE TABLE iss_location (timestamp, longitude, latitude)')"
   ]
  },
  {
   "cell_type": "code",
   "execution_count": 71,
   "metadata": {},
   "outputs": [
    {
     "name": "stdout",
     "output_type": "stream",
     "text": [
      "(1517281918, u'117.1028', u'-45.0615')\n",
      "(1517281921, u'117.2935', u'-44.9840')\n",
      "(1517281923, u'117.4458', u'-44.9218')\n",
      "(1517281925, u'117.5977', u'-44.8593')\n"
     ]
    }
   ],
   "source": [
    "#populate with data\n",
    "import time\n",
    "for i in range(1,5):\n",
    "    response = requests.get(\"http://api.open-notify.org/iss-now.json\")\n",
    "    data = response.json()\n",
    "    ts = data['timestamp']\n",
    "    longitude = data['iss_position']['longitude']\n",
    "    latitude = data['iss_position']['latitude']\n",
    "    print(ts,longitude,latitude)\n",
    "    c.execute('INSERT INTO iss_location VALUES ({timestamp},{longitude},{latitude})'\\\n",
    "            .format(timestamp = ts, longitude=longitude, latitude=latitude))\n",
    "    \n",
    "    time.sleep(2)\n",
    "\n"
   ]
  },
  {
   "cell_type": "code",
   "execution_count": 72,
   "metadata": {
    "collapsed": true
   },
   "outputs": [],
   "source": [
    "conn.commit()"
   ]
  },
  {
   "cell_type": "code",
   "execution_count": 73,
   "metadata": {
    "collapsed": true
   },
   "outputs": [],
   "source": [
    "res = c.execute('SELECT * FROM iss_location')"
   ]
  },
  {
   "cell_type": "code",
   "execution_count": 75,
   "metadata": {},
   "outputs": [
    {
     "data": {
      "text/plain": [
       "[(1517281722, 100.4825, -49.8734),\n",
       " (1517281724, 100.6676, -49.8384),\n",
       " (1517281726, 100.8524, -49.8032),\n",
       " (1517281728, 101.0831, -49.7586),\n",
       " (1517281918, 117.1028, -45.0615),\n",
       " (1517281921, 117.2935, -44.984),\n",
       " (1517281923, 117.4458, -44.9218),\n",
       " (1517281925, 117.5977, -44.8593)]"
      ]
     },
     "execution_count": 75,
     "metadata": {},
     "output_type": "execute_result"
    }
   ],
   "source": [
    "res.fetchall()"
   ]
  },
  {
   "cell_type": "code",
   "execution_count": 76,
   "metadata": {
    "collapsed": true
   },
   "outputs": [],
   "source": [
    "conn.close()"
   ]
  },
  {
   "cell_type": "markdown",
   "metadata": {},
   "source": [
    "# Authentication"
   ]
  },
  {
   "cell_type": "code",
   "execution_count": 49,
   "metadata": {},
   "outputs": [
    {
     "name": "stdout",
     "output_type": "stream",
     "text": [
      "200\n"
     ]
    }
   ],
   "source": [
    "#basic authentication \n",
    "#github\n",
    "from requests.auth import HTTPBasicAuth\n",
    "response = requests.get('https://api.github.com/user', auth=HTTPBasicAuth('anathan90', password))\n",
    "print(response.status_code)"
   ]
  },
  {
   "cell_type": "code",
   "execution_count": 50,
   "metadata": {
    "collapsed": true
   },
   "outputs": [
    {
     "data": {
      "text/plain": [
       "{u'avatar_url': u'https://avatars0.githubusercontent.com/u/11650419?v=4',\n",
       " u'bio': None,\n",
       " u'blog': u'',\n",
       " u'collaborators': 0,\n",
       " u'company': None,\n",
       " u'created_at': u'2015-03-25T15:40:19Z',\n",
       " u'disk_usage': 43424,\n",
       " u'email': None,\n",
       " u'events_url': u'https://api.github.com/users/anathan90/events{/privacy}',\n",
       " u'followers': 2,\n",
       " u'followers_url': u'https://api.github.com/users/anathan90/followers',\n",
       " u'following': 0,\n",
       " u'following_url': u'https://api.github.com/users/anathan90/following{/other_user}',\n",
       " u'gists_url': u'https://api.github.com/users/anathan90/gists{/gist_id}',\n",
       " u'gravatar_id': u'',\n",
       " u'hireable': None,\n",
       " u'html_url': u'https://github.com/anathan90',\n",
       " u'id': 11650419,\n",
       " u'location': None,\n",
       " u'login': u'anathan90',\n",
       " u'name': None,\n",
       " u'organizations_url': u'https://api.github.com/users/anathan90/orgs',\n",
       " u'owned_private_repos': 0,\n",
       " u'plan': {u'collaborators': 0,\n",
       "  u'name': u'free',\n",
       "  u'private_repos': 0,\n",
       "  u'space': 976562499},\n",
       " u'private_gists': 0,\n",
       " u'public_gists': 0,\n",
       " u'public_repos': 2,\n",
       " u'received_events_url': u'https://api.github.com/users/anathan90/received_events',\n",
       " u'repos_url': u'https://api.github.com/users/anathan90/repos',\n",
       " u'site_admin': False,\n",
       " u'starred_url': u'https://api.github.com/users/anathan90/starred{/owner}{/repo}',\n",
       " u'subscriptions_url': u'https://api.github.com/users/anathan90/subscriptions',\n",
       " u'total_private_repos': 0,\n",
       " u'two_factor_authentication': False,\n",
       " u'type': u'User',\n",
       " u'updated_at': u'2017-11-04T14:36:58Z',\n",
       " u'url': u'https://api.github.com/users/anathan90'}"
      ]
     },
     "execution_count": 50,
     "metadata": {},
     "output_type": "execute_result"
    }
   ],
   "source": [
    "response.json()"
   ]
  },
  {
   "cell_type": "code",
   "execution_count": 93,
   "metadata": {},
   "outputs": [
    {
     "data": {
      "text/plain": [
       "{u'base': u'stations',\n",
       " u'clouds': {u'all': 1},\n",
       " u'cod': 200,\n",
       " u'coord': {u'lat': 42.04, u'lon': -87.69},\n",
       " u'dt': 1517326500,\n",
       " u'id': 4891382,\n",
       " u'main': {u'humidity': 73,\n",
       "  u'pressure': 1033,\n",
       "  u'temp': 266.03,\n",
       "  u'temp_max': 267.15,\n",
       "  u'temp_min': 264.15},\n",
       " u'name': u'Evanston',\n",
       " u'sys': {u'country': u'US',\n",
       "  u'id': 966,\n",
       "  u'message': 0.0041,\n",
       "  u'sunrise': 1517317494,\n",
       "  u'sunset': 1517353436,\n",
       "  u'type': 1},\n",
       " u'visibility': 16093,\n",
       " u'weather': [{u'description': u'clear sky',\n",
       "   u'icon': u'01d',\n",
       "   u'id': 800,\n",
       "   u'main': u'Clear'}],\n",
       " u'wind': {u'deg': 287.002, u'speed': 2.72}}"
      ]
     },
     "execution_count": 93,
     "metadata": {},
     "output_type": "execute_result"
    }
   ],
   "source": [
    "#authentication with API key\n",
    "# openweather\n",
    "api_key = '9d13386f5a8622f9daad72794e5c0c7b'\n",
    "city = 'Evanston,il,us' #weather?q=\n",
    "zipcode = '60614,us' #weather?zip=\n",
    "response = requests.get('http://api.openweathermap.org/data/2.5/weather?q='+city+'&APPID='+api_key)\n",
    "response.json()"
   ]
  },
  {
   "cell_type": "code",
   "execution_count": 2,
   "metadata": {
    "collapsed": true
   },
   "outputs": [],
   "source": [
    "from oauth2client.service_account import ServiceAccountCredentials\n"
   ]
  },
  {
   "cell_type": "code",
   "execution_count": 5,
   "metadata": {},
   "outputs": [
    {
     "name": "stdout",
     "output_type": "stream",
     "text": [
      "[{'Year': 2014, 'Value': 522397.0907, 'Country or Area': 'Australia'}, {'Year': 2013, 'Value': 526882.6673, 'Country or Area': 'Australia'}, {'Year': 2012, 'Value': 537377.5715, 'Country or Area': 'Australia'}, {'Year': 2011, 'Value': 534089.7987, 'Country or Area': 'Australia'}, {'Year': 2010, 'Value': 533917.4363, 'Country or Area': 'Australia'}, {'Year': 2009, 'Value': 537889.8926, 'Country or Area': 'Australia'}, {'Year': 2008, 'Value': 533693.5082, 'Country or Area': 'Australia'}, {'Year': 2007, 'Value': 529842.8703, 'Country or Area': 'Australia'}, {'Year': 2006, 'Value': 522517.1917, 'Country or Area': 'Australia'}, {'Year': 2005, 'Value': 518850.7595, 'Country or Area': 'Australia'}, {'Year': 2004, 'Value': 511710.242, 'Country or Area': 'Australia'}, {'Year': 2003, 'Value': 495154.086, 'Country or Area': 'Australia'}, {'Year': 2002, 'Value': 494740.1008, 'Country or Area': 'Australia'}, {'Year': 2001, 'Value': 491441.6959, 'Country or Area': 'Australia'}, {'Year': 2000, 'Value': 483445.8267, 'Country or Area': 'Australia'}, {'Year': 1999, 'Value': 472245.9908, 'Country or Area': 'Australia'}, {'Year': 1998, 'Value': 466382.1125, 'Country or Area': 'Australia'}, {'Year': 1997, 'Value': 451721.7178, 'Country or Area': 'Australia'}, {'Year': 1996, 'Value': 439803.9622, 'Country or Area': 'Australia'}, {'Year': 1995, 'Value': 433478.6508, 'Country or Area': 'Australia'}, {'Year': 1994, 'Value': 424092.9594, 'Country or Area': 'Australia'}, {'Year': 1993, 'Value': 423764.9326, 'Country or Area': 'Australia'}, {'Year': 1992, 'Value': 423080.1082, 'Country or Area': 'Australia'}, {'Year': 1991, 'Value': 418674.0575, 'Country or Area': 'Australia'}, {'Year': 1990, 'Value': 418623.0496, 'Country or Area': 'Australia'}, {'Year': 2014, 'Value': 76332.61859, 'Country or Area': 'Austria'}, {'Year': 2013, 'Value': 80042.54184, 'Country or Area': 'Austria'}, {'Year': 2012, 'Value': 79897.1151, 'Country or Area': 'Austria'}, {'Year': 2011, 'Value': 82626.63802, 'Country or Area': 'Austria'}, {'Year': 2010, 'Value': 84946.01971, 'Country or Area': 'Austria'}, {'Year': 2009, 'Value': 80190.65144, 'Country or Area': 'Austria'}, {'Year': 2008, 'Value': 87101.13468, 'Country or Area': 'Austria'}, {'Year': 2007, 'Value': 87241.15453, 'Country or Area': 'Austria'}, {'Year': 2006, 'Value': 89981.02128, 'Country or Area': 'Austria'}, {'Year': 2005, 'Value': 92810.4872, 'Country or Area': 'Austria'}, {'Year': 2004, 'Value': 91835.89424, 'Country or Area': 'Austria'}, {'Year': 2003, 'Value': 92018.48114, 'Country or Area': 'Austria'}, {'Year': 2002, 'Value': 86129.54644, 'Country or Area': 'Austria'}, {'Year': 2001, 'Value': 84380.80689, 'Country or Area': 'Austria'}, {'Year': 2000, 'Value': 80429.34339, 'Country or Area': 'Austria'}, {'Year': 1999, 'Value': 80106.71718, 'Country or Area': 'Austria'}, {'Year': 1998, 'Value': 81770.83956, 'Country or Area': 'Austria'}, {'Year': 1997, 'Value': 82474.39203, 'Country or Area': 'Austria'}, {'Year': 1996, 'Value': 83008.8063, 'Country or Area': 'Austria'}, {'Year': 1995, 'Value': 79813.03454, 'Country or Area': 'Austria'}, {'Year': 1994, 'Value': 76503.48529, 'Country or Area': 'Austria'}, {'Year': 1993, 'Value': 75988.22704, 'Country or Area': 'Austria'}, {'Year': 1992, 'Value': 75930.99577, 'Country or Area': 'Austria'}, {'Year': 1991, 'Value': 82636.90347, 'Country or Area': 'Austria'}, {'Year': 1990, 'Value': 78844.62726, 'Country or Area': 'Austria'}, {'Year': 2014, 'Value': 91895.64656, 'Country or Area': 'Belarus'}, {'Year': 2013, 'Value': 93037.24545, 'Country or Area': 'Belarus'}, {'Year': 2012, 'Value': 90925.11458, 'Country or Area': 'Belarus'}, {'Year': 2011, 'Value': 91671.72701, 'Country or Area': 'Belarus'}, {'Year': 2010, 'Value': 91183.54936, 'Country or Area': 'Belarus'}, {'Year': 2009, 'Value': 89223.65626, 'Country or Area': 'Belarus'}, {'Year': 2008, 'Value': 92364.34897, 'Country or Area': 'Belarus'}, {'Year': 2007, 'Value': 88920.64195, 'Country or Area': 'Belarus'}, {'Year': 2006, 'Value': 89449.65545, 'Country or Area': 'Belarus'}, {'Year': 2005, 'Value': 85596.0987, 'Country or Area': 'Belarus'}, {'Year': 2004, 'Value': 83688.29957, 'Country or Area': 'Belarus'}, {'Year': 2003, 'Value': 79158.71882, 'Country or Area': 'Belarus'}, {'Year': 2002, 'Value': 76683.86789, 'Country or Area': 'Belarus'}, {'Year': 2001, 'Value': 77921.82759, 'Country or Area': 'Belarus'}, {'Year': 2000, 'Value': 77959.72496, 'Country or Area': 'Belarus'}, {'Year': 1999, 'Value': 79497.84206, 'Country or Area': 'Belarus'}, {'Year': 1998, 'Value': 82668.83156, 'Country or Area': 'Belarus'}, {'Year': 1997, 'Value': 86282.50594, 'Country or Area': 'Belarus'}, {'Year': 1996, 'Value': 82375.19422, 'Country or Area': 'Belarus'}, {'Year': 1995, 'Value': 80369.78235, 'Country or Area': 'Belarus'}, {'Year': 1994, 'Value': 88206.35674, 'Country or Area': 'Belarus'}, {'Year': 1993, 'Value': 103951.5253, 'Country or Area': 'Belarus'}, {'Year': 1992, 'Value': 116588.6865, 'Country or Area': 'Belarus'}, {'Year': 1991, 'Value': 125601.0529, 'Country or Area': 'Belarus'}, {'Year': 1990, 'Value': 133457.162, 'Country or Area': 'Belarus'}, {'Year': 2014, 'Value': 113866.619, 'Country or Area': 'Belgium'}, {'Year': 2013, 'Value': 119375.3015, 'Country or Area': 'Belgium'}, {'Year': 2012, 'Value': 118761.3382, 'Country or Area': 'Belgium'}, {'Year': 2011, 'Value': 122833.3955, 'Country or Area': 'Belgium'}, {'Year': 2010, 'Value': 133258.4057, 'Country or Area': 'Belgium'}, {'Year': 2009, 'Value': 125811.802, 'Country or Area': 'Belgium'}, {'Year': 2008, 'Value': 138749.6261, 'Country or Area': 'Belgium'}, {'Year': 2007, 'Value': 136451.3393, 'Country or Area': 'Belgium'}, {'Year': 2006, 'Value': 141046.7075, 'Country or Area': 'Belgium'}, {'Year': 2005, 'Value': 144803.082, 'Country or Area': 'Belgium'}, {'Year': 2004, 'Value': 148971.4048, 'Country or Area': 'Belgium'}, {'Year': 2003, 'Value': 147579.0697, 'Country or Area': 'Belgium'}, {'Year': 2002, 'Value': 147240.3653, 'Country or Area': 'Belgium'}, {'Year': 2001, 'Value': 147626.1335, 'Country or Area': 'Belgium'}, {'Year': 2000, 'Value': 149213.0172, 'Country or Area': 'Belgium'}, {'Year': 1999, 'Value': 148062.4436, 'Country or Area': 'Belgium'}, {'Year': 1998, 'Value': 154340.3929, 'Country or Area': 'Belgium'}, {'Year': 1997, 'Value': 149163.4559, 'Country or Area': 'Belgium'}, {'Year': 1996, 'Value': 157656.6871, 'Country or Area': 'Belgium'}, {'Year': 1995, 'Value': 154020.2937, 'Country or Area': 'Belgium'}, {'Year': 1994, 'Value': 151882.3725, 'Country or Area': 'Belgium'}, {'Year': 1993, 'Value': 147393.3946, 'Country or Area': 'Belgium'}, {'Year': 1992, 'Value': 148384.7268, 'Country or Area': 'Belgium'}, {'Year': 1991, 'Value': 148825.6994, 'Country or Area': 'Belgium'}, {'Year': 1990, 'Value': 146021.2368, 'Country or Area': 'Belgium'}, {'Year': 2014, 'Value': 747171.8726, 'Country or Area': 'Canada'}, {'Year': 2013, 'Value': 737423.1353, 'Country or Area': 'Canada'}, {'Year': 2012, 'Value': 729475.8887, 'Country or Area': 'Canada'}, {'Year': 2011, 'Value': 722862.5069, 'Country or Area': 'Canada'}, {'Year': 2010, 'Value': 718178.0802, 'Country or Area': 'Canada'}, {'Year': 2009, 'Value': 702098.4196, 'Country or Area': 'Canada'}, {'Year': 2008, 'Value': 743519.6585, 'Country or Area': 'Canada'}, {'Year': 2007, 'Value': 766021.8069, 'Country or Area': 'Canada'}, {'Year': 2006, 'Value': 746308.2144, 'Country or Area': 'Canada'}, {'Year': 2005, 'Value': 753897.5783, 'Country or Area': 'Canada'}, {'Year': 2004, 'Value': 769691.1854, 'Country or Area': 'Canada'}, {'Year': 2003, 'Value': 766107.8949, 'Country or Area': 'Canada'}, {'Year': 2002, 'Value': 752124.4809, 'Country or Area': 'Canada'}, {'Year': 2001, 'Value': 737198.312, 'Country or Area': 'Canada'}, {'Year': 2000, 'Value': 745991.031, 'Country or Area': 'Canada'}, {'Year': 1999, 'Value': 729415.1152, 'Country or Area': 'Canada'}, {'Year': 1998, 'Value': 728148.9967, 'Country or Area': 'Canada'}, {'Year': 1997, 'Value': 702636.4264, 'Country or Area': 'Canada'}, {'Year': 1996, 'Value': 690743.6423, 'Country or Area': 'Canada'}, {'Year': 1995, 'Value': 688384.4054, 'Country or Area': 'Canada'}, {'Year': 1994, 'Value': 652999.1378, 'Country or Area': 'Canada'}, {'Year': 1993, 'Value': 631353.6369, 'Country or Area': 'Canada'}, {'Year': 1992, 'Value': 625134.0035, 'Country or Area': 'Canada'}, {'Year': 1991, 'Value': 611861.1293, 'Country or Area': 'Canada'}, {'Year': 1990, 'Value': 616908.1109, 'Country or Area': 'Canada'}, {'Year': 2014, 'Value': 22898.87816, 'Country or Area': 'Croatia'}, {'Year': 2013, 'Value': 23770.55277, 'Country or Area': 'Croatia'}, {'Year': 2012, 'Value': 24734.64982, 'Country or Area': 'Croatia'}, {'Year': 2011, 'Value': 26773.82634, 'Country or Area': 'Croatia'}, {'Year': 2010, 'Value': 27280.22983, 'Country or Area': 'Croatia'}, {'Year': 2009, 'Value': 27909.1257, 'Country or Area': 'Croatia'}, {'Year': 2008, 'Value': 29825.9472, 'Country or Area': 'Croatia'}, {'Year': 2007, 'Value': 30972.91209, 'Country or Area': 'Croatia'}, {'Year': 2006, 'Value': 29555.68223, 'Country or Area': 'Croatia'}, {'Year': 2005, 'Value': 29285.75158, 'Country or Area': 'Croatia'}, {'Year': 2004, 'Value': 28875.98477, 'Country or Area': 'Croatia'}, {'Year': 2003, 'Value': 28782.82133, 'Country or Area': 'Croatia'}, {'Year': 2002, 'Value': 27420.09657, 'Country or Area': 'Croatia'}, {'Year': 2001, 'Value': 26394.04568, 'Country or Area': 'Croatia'}, {'Year': 2000, 'Value': 25172.96286, 'Country or Area': 'Croatia'}, {'Year': 1999, 'Value': 25519.08337, 'Country or Area': 'Croatia'}, {'Year': 1998, 'Value': 24459.71085, 'Country or Area': 'Croatia'}, {'Year': 1997, 'Value': 24126.27377, 'Country or Area': 'Croatia'}, {'Year': 1996, 'Value': 22882.96315, 'Country or Area': 'Croatia'}, {'Year': 1995, 'Value': 22296.16725, 'Country or Area': 'Croatia'}, {'Year': 1994, 'Value': 21712.76398, 'Country or Area': 'Croatia'}, {'Year': 1993, 'Value': 22658.29448, 'Country or Area': 'Croatia'}, {'Year': 1992, 'Value': 22538.0339, 'Country or Area': 'Croatia'}, {'Year': 1991, 'Value': 24408.68379, 'Country or Area': 'Croatia'}, {'Year': 1990, 'Value': 31204.63126, 'Country or Area': 'Croatia'}, {'Year': 2014, 'Value': 8453.767413, 'Country or Area': 'Cyprus'}, {'Year': 2013, 'Value': 8020.09847, 'Country or Area': 'Cyprus'}, {'Year': 2012, 'Value': 8769.366026, 'Country or Area': 'Cyprus'}, {'Year': 2011, 'Value': 9296.16313, 'Country or Area': 'Cyprus'}, {'Year': 2010, 'Value': 9571.65722, 'Country or Area': 'Cyprus'}, {'Year': 2009, 'Value': 9872.183688, 'Country or Area': 'Cyprus'}, {'Year': 2008, 'Value': 10093.26997, 'Country or Area': 'Cyprus'}, {'Year': 2007, 'Value': 9913.234617, 'Country or Area': 'Cyprus'}, {'Year': 2006, 'Value': 9567.547193, 'Country or Area': 'Cyprus'}, {'Year': 2005, 'Value': 9307.980559, 'Country or Area': 'Cyprus'}, {'Year': 2004, 'Value': 9144.371422, 'Country or Area': 'Cyprus'}, {'Year': 2003, 'Value': 8914.583093, 'Country or Area': 'Cyprus'}, {'Year': 2002, 'Value': 8519.081403, 'Country or Area': 'Cyprus'}, {'Year': 2001, 'Value': 8282.548071, 'Country or Area': 'Cyprus'}, {'Year': 2000, 'Value': 8326.885734, 'Country or Area': 'Cyprus'}, {'Year': 1999, 'Value': 8059.083391, 'Country or Area': 'Cyprus'}, {'Year': 1998, 'Value': 7799.559257, 'Country or Area': 'Cyprus'}, {'Year': 1997, 'Value': 7473.095092, 'Country or Area': 'Cyprus'}, {'Year': 1996, 'Value': 7343.53788, 'Country or Area': 'Cyprus'}, {'Year': 1995, 'Value': 7046.932611, 'Country or Area': 'Cyprus'}, {'Year': 1994, 'Value': 7103.132678, 'Country or Area': 'Cyprus'}, {'Year': 1993, 'Value': 6858.740687, 'Country or Area': 'Cyprus'}, {'Year': 1992, 'Value': 6559.330635, 'Country or Area': 'Cyprus'}, {'Year': 1991, 'Value': 6121.529001, 'Country or Area': 'Cyprus'}, {'Year': 1990, 'Value': 5624.649922, 'Country or Area': 'Cyprus'}, {'Year': 2014, 'Value': 125033.1058, 'Country or Area': 'Czech Republic'}, {'Year': 2013, 'Value': 129786.7336, 'Country or Area': 'Czech Republic'}, {'Year': 2012, 'Value': 133778.9063, 'Country or Area': 'Czech Republic'}, {'Year': 2011, 'Value': 137948.6187, 'Country or Area': 'Czech Republic'}, {'Year': 2010, 'Value': 139148.9519, 'Country or Area': 'Czech Republic'}, {'Year': 2009, 'Value': 137086.779, 'Country or Area': 'Czech Republic'}, {'Year': 2008, 'Value': 145567.0807, 'Country or Area': 'Czech Republic'}, {'Year': 2007, 'Value': 150213.5026, 'Country or Area': 'Czech Republic'}, {'Year': 2006, 'Value': 149389.7761, 'Country or Area': 'Czech Republic'}, {'Year': 2005, 'Value': 147600.4766, 'Country or Area': 'Czech Republic'}, {'Year': 2004, 'Value': 149733.0152, 'Country or Area': 'Czech Republic'}, {'Year': 2003, 'Value': 148967.2385, 'Country or Area': 'Czech Republic'}, {'Year': 2002, 'Value': 145622.9659, 'Country or Area': 'Czech Republic'}, {'Year': 2001, 'Value': 149273.3873, 'Country or Area': 'Czech Republic'}, {'Year': 2000, 'Value': 149753.5765, 'Country or Area': 'Czech Republic'}, {'Year': 1999, 'Value': 140428.9498, 'Country or Area': 'Czech Republic'}, {'Year': 1998, 'Value': 149574.3513, 'Country or Area': 'Czech Republic'}, {'Year': 1997, 'Value': 155548.7263, 'Country or Area': 'Czech Republic'}, {'Year': 1996, 'Value': 159496.5601, 'Country or Area': 'Czech Republic'}, {'Year': 1995, 'Value': 157350.4034, 'Country or Area': 'Czech Republic'}, {'Year': 1994, 'Value': 156919.265, 'Country or Area': 'Czech Republic'}, {'Year': 1993, 'Value': 164865.6926, 'Country or Area': 'Czech Republic'}, {'Year': 1992, 'Value': 172740.6263, 'Country or Area': 'Czech Republic'}, {'Year': 1991, 'Value': 179630.5482, 'Country or Area': 'Czech Republic'}, {'Year': 1990, 'Value': 198621.2408, 'Country or Area': 'Czech Republic'}, {'Year': 2014, 'Value': 51206.67239, 'Country or Area': 'Denmark'}, {'Year': 2013, 'Value': 55435.0429, 'Country or Area': 'Denmark'}, {'Year': 2012, 'Value': 53408.40702, 'Country or Area': 'Denmark'}, {'Year': 2011, 'Value': 58244.36229, 'Country or Area': 'Denmark'}, {'Year': 2010, 'Value': 63499.83666, 'Country or Area': 'Denmark'}, {'Year': 2009, 'Value': 63066.65781, 'Country or Area': 'Denmark'}, {'Year': 2008, 'Value': 65963.76336, 'Country or Area': 'Denmark'}, {'Year': 2007, 'Value': 69661.17965, 'Country or Area': 'Denmark'}, {'Year': 2006, 'Value': 74321.35766, 'Country or Area': 'Denmark'}, {'Year': 2005, 'Value': 66594.68095, 'Country or Area': 'Denmark'}, {'Year': 2004, 'Value': 71072.6799, 'Country or Area': 'Denmark'}, {'Year': 2003, 'Value': 77212.64038, 'Country or Area': 'Denmark'}, {'Year': 2002, 'Value': 72260.10994, 'Country or Area': 'Denmark'}, {'Year': 2001, 'Value': 72757.1164, 'Country or Area': 'Denmark'}, {'Year': 2000, 'Value': 71007.92972, 'Country or Area': 'Denmark'}, {'Year': 1999, 'Value': 75520.27018, 'Country or Area': 'Denmark'}, {'Year': 1998, 'Value': 78033.54562, 'Country or Area': 'Denmark'}, {'Year': 1997, 'Value': 82264.66887, 'Country or Area': 'Denmark'}, {'Year': 1996, 'Value': 91956.10049, 'Country or Area': 'Denmark'}, {'Year': 1995, 'Value': 78984.87189, 'Country or Area': 'Denmark'}, {'Year': 1994, 'Value': 82064.66451, 'Country or Area': 'Denmark'}, {'Year': 1993, 'Value': 78138.19306, 'Country or Area': 'Denmark'}, {'Year': 1992, 'Value': 76260.99113, 'Country or Area': 'Denmark'}, {'Year': 1991, 'Value': 82163.93252, 'Country or Area': 'Denmark'}, {'Year': 1990, 'Value': 71470.18321, 'Country or Area': 'Denmark'}, {'Year': 2014, 'Value': 21059.24014, 'Country or Area': 'Estonia'}, {'Year': 2013, 'Value': 21676.70633, 'Country or Area': 'Estonia'}, {'Year': 2012, 'Value': 19423.32536, 'Country or Area': 'Estonia'}, {'Year': 2011, 'Value': 20485.03604, 'Country or Area': 'Estonia'}, {'Year': 2010, 'Value': 19911.68188, 'Country or Area': 'Estonia'}, {'Year': 2009, 'Value': 16181.96539, 'Country or Area': 'Estonia'}, {'Year': 2008, 'Value': 19374.62399, 'Country or Area': 'Estonia'}, {'Year': 2007, 'Value': 20816.93529, 'Country or Area': 'Estonia'}, {'Year': 2006, 'Value': 17686.4656, 'Country or Area': 'Estonia'}, {'Year': 2005, 'Value': 18297.67469, 'Country or Area': 'Estonia'}, {'Year': 2004, 'Value': 19055.48748, 'Country or Area': 'Estonia'}, {'Year': 2003, 'Value': 18782.3647, 'Country or Area': 'Estonia'}, {'Year': 2002, 'Value': 16930.09073, 'Country or Area': 'Estonia'}, {'Year': 2001, 'Value': 17473.02305, 'Country or Area': 'Estonia'}, {'Year': 2000, 'Value': 17061.85258, 'Country or Area': 'Estonia'}, {'Year': 1999, 'Value': 17358.50047, 'Country or Area': 'Estonia'}, {'Year': 1998, 'Value': 18705.82349, 'Country or Area': 'Estonia'}, {'Year': 1997, 'Value': 20262.1584, 'Country or Area': 'Estonia'}, {'Year': 1996, 'Value': 20631.75266, 'Country or Area': 'Estonia'}, {'Year': 1995, 'Value': 19934.79058, 'Country or Area': 'Estonia'}, {'Year': 1994, 'Value': 21713.16326, 'Country or Area': 'Estonia'}, {'Year': 1993, 'Value': 21001.97124, 'Country or Area': 'Estonia'}, {'Year': 1992, 'Value': 26876.48065, 'Country or Area': 'Estonia'}, {'Year': 1991, 'Value': 36794.56259, 'Country or Area': 'Estonia'}, {'Year': 1990, 'Value': 39965.16872, 'Country or Area': 'Estonia'}, {'Year': 2014, 'Value': 4282156.782, 'Country or Area': 'European Union'}, {'Year': 2013, 'Value': 4467372.636, 'Country or Area': 'European Union'}, {'Year': 2012, 'Value': 4558269.857, 'Country or Area': 'European Union'}, {'Year': 2011, 'Value': 4624392.118, 'Country or Area': 'European Union'}, {'Year': 2010, 'Value': 4780148.283, 'Country or Area': 'European Union'}, {'Year': 2009, 'Value': 4672791.931, 'Country or Area': 'European Union'}, {'Year': 2008, 'Value': 5036304.24, 'Country or Area': 'European Union'}, {'Year': 2007, 'Value': 5146226.256, 'Country or Area': 'European Union'}, {'Year': 2006, 'Value': 5205374.697, 'Country or Area': 'European Union'}, {'Year': 2005, 'Value': 5216650.608, 'Country or Area': 'European Union'}, {'Year': 2004, 'Value': 5256647.343, 'Country or Area': 'European Union'}, {'Year': 2003, 'Value': 5261522.707, 'Country or Area': 'European Union'}, {'Year': 2002, 'Value': 5174907.866, 'Country or Area': 'European Union'}, {'Year': 2001, 'Value': 5218920.548, 'Country or Area': 'European Union'}, {'Year': 2000, 'Value': 5167968.222, 'Country or Area': 'European Union'}, {'Year': 1999, 'Value': 5159735.323, 'Country or Area': 'European Union'}, {'Year': 1998, 'Value': 5272462.07, 'Country or Area': 'European Union'}, {'Year': 1997, 'Value': 5320564.723, 'Country or Area': 'European Union'}, {'Year': 1996, 'Value': 5420397.75, 'Country or Area': 'European Union'}, {'Year': 1995, 'Value': 5313164.015, 'Country or Area': 'European Union'}, {'Year': 1994, 'Value': 5262577.906, 'Country or Area': 'European Union'}, {'Year': 1993, 'Value': 5287674.684, 'Country or Area': 'European Union'}, {'Year': 1992, 'Value': 5386789.046, 'Country or Area': 'European Union'}, {'Year': 1991, 'Value': 5566394.793, 'Country or Area': 'European Union'}, {'Year': 1990, 'Value': 5664845.838, 'Country or Area': 'European Union'}, {'Year': 2014, 'Value': 59105.07719, 'Country or Area': 'Finland'}, {'Year': 2013, 'Value': 63276.88851, 'Country or Area': 'Finland'}, {'Year': 2012, 'Value': 62403.74806, 'Country or Area': 'Finland'}, {'Year': 2011, 'Value': 68033.96543, 'Country or Area': 'Finland'}, {'Year': 2010, 'Value': 75930.97023, 'Country or Area': 'Finland'}, {'Year': 2009, 'Value': 67670.29116, 'Country or Area': 'Finland'}, {'Year': 2008, 'Value': 71324.57544, 'Country or Area': 'Finland'}, {'Year': 2007, 'Value': 79212.7392, 'Country or Area': 'Finland'}, {'Year': 2006, 'Value': 80739.06852, 'Country or Area': 'Finland'}, {'Year': 2005, 'Value': 69548.85785, 'Country or Area': 'Finland'}, {'Year': 2004, 'Value': 81433.97219, 'Country or Area': 'Finland'}, {'Year': 2003, 'Value': 85219.29866, 'Country or Area': 'Finland'}, {'Year': 2002, 'Value': 77740.96021, 'Country or Area': 'Finland'}, {'Year': 2001, 'Value': 75324.05622, 'Country or Area': 'Finland'}, {'Year': 2000, 'Value': 70009.50459, 'Country or Area': 'Finland'}, {'Year': 1999, 'Value': 71916.26719, 'Country or Area': 'Finland'}, {'Year': 1998, 'Value': 72547.80107, 'Country or Area': 'Finland'}, {'Year': 1997, 'Value': 76216.93438, 'Country or Area': 'Finland'}, {'Year': 1996, 'Value': 77635.89885, 'Country or Area': 'Finland'}, {'Year': 1995, 'Value': 71848.42178, 'Country or Area': 'Finland'}, {'Year': 1994, 'Value': 75401.54162, 'Country or Area': 'Finland'}, {'Year': 1993, 'Value': 69898.93168, 'Country or Area': 'Finland'}, {'Year': 1992, 'Value': 67657.25516, 'Country or Area': 'Finland'}, {'Year': 1991, 'Value': 69069.95246, 'Country or Area': 'Finland'}, {'Year': 1990, 'Value': 71338.5624, 'Country or Area': 'Finland'}, {'Year': 2014, 'Value': 465369.5273, 'Country or Area': 'France'}, {'Year': 2013, 'Value': 492151.894, 'Country or Area': 'France'}, {'Year': 2012, 'Value': 493928.8044, 'Country or Area': 'France'}, {'Year': 2011, 'Value': 492623.1582, 'Country or Area': 'France'}, {'Year': 2010, 'Value': 519972.3331, 'Country or Area': 'France'}, {'Year': 2009, 'Value': 511294.6138, 'Country or Area': 'France'}, {'Year': 2008, 'Value': 531834.0468, 'Country or Area': 'France'}, {'Year': 2007, 'Value': 538725.7882, 'Country or Area': 'France'}, {'Year': 2006, 'Value': 547645.1505, 'Country or Area': 'France'}, {'Year': 2005, 'Value': 559398.8057, 'Country or Area': 'France'}, {'Year': 2004, 'Value': 556057.0067, 'Country or Area': 'France'}, {'Year': 2003, 'Value': 558762.9157, 'Country or Area': 'France'}, {'Year': 2002, 'Value': 552270.726, 'Country or Area': 'France'}, {'Year': 2001, 'Value': 558213.5207, 'Country or Area': 'France'}, {'Year': 2000, 'Value': 558215.9727, 'Country or Area': 'France'}, {'Year': 1999, 'Value': 562048.359, 'Country or Area': 'France'}, {'Year': 1998, 'Value': 575083.6307, 'Country or Area': 'France'}, {'Year': 1997, 'Value': 558839.4905, 'Country or Area': 'France'}, {'Year': 1996, 'Value': 565422.0126, 'Country or Area': 'France'}, {'Year': 1995, 'Value': 550558.0985, 'Country or Area': 'France'}, {'Year': 1994, 'Value': 542394.7538, 'Country or Area': 'France'}, {'Year': 1993, 'Value': 543333.15, 'Country or Area': 'France'}, {'Year': 1992, 'Value': 565981.2929, 'Country or Area': 'France'}, {'Year': 1991, 'Value': 577151.6607, 'Country or Area': 'France'}, {'Year': 1990, 'Value': 551057.0296, 'Country or Area': 'France'}, {'Year': 2014, 'Value': 901763.9388, 'Country or Area': 'Germany'}, {'Year': 2013, 'Value': 945150.948, 'Country or Area': 'Germany'}, {'Year': 2012, 'Value': 926338.3616, 'Country or Area': 'Germany'}, {'Year': 2011, 'Value': 921829.7435, 'Country or Area': 'Germany'}, {'Year': 2010, 'Value': 941038.6912, 'Country or Area': 'Germany'}, {'Year': 2009, 'Value': 906423.0287, 'Country or Area': 'Germany'}, {'Year': 2008, 'Value': 973942.1713, 'Country or Area': 'Germany'}, {'Year': 2007, 'Value': 971998.3262, 'Country or Area': 'Germany'}, {'Year': 2006, 'Value': 999043.9004, 'Country or Area': 'Germany'}, {'Year': 2005, 'Value': 991848.6871, 'Country or Area': 'Germany'}, {'Year': 2004, 'Value': 1017294.03, 'Country or Area': 'Germany'}, {'Year': 2003, 'Value': 1033727.656, 'Country or Area': 'Germany'}, {'Year': 2002, 'Value': 1036942.439, 'Country or Area': 'Germany'}, {'Year': 2001, 'Value': 1058070.103, 'Country or Area': 'Germany'}, {'Year': 2000, 'Value': 1043294.434, 'Country or Area': 'Germany'}, {'Year': 1999, 'Value': 1045419.709, 'Country or Area': 'Germany'}, {'Year': 1998, 'Value': 1078643.502, 'Country or Area': 'Germany'}, {'Year': 1997, 'Value': 1104243.754, 'Country or Area': 'Germany'}, {'Year': 1996, 'Value': 1138767.658, 'Country or Area': 'Germany'}, {'Year': 1995, 'Value': 1120943.905, 'Country or Area': 'Germany'}, {'Year': 1994, 'Value': 1124257.533, 'Country or Area': 'Germany'}, {'Year': 1993, 'Value': 1143674.902, 'Country or Area': 'Germany'}, {'Year': 1992, 'Value': 1152900.328, 'Country or Area': 'Germany'}, {'Year': 1991, 'Value': 1203219.256, 'Country or Area': 'Germany'}, {'Year': 1990, 'Value': 1249828.649, 'Country or Area': 'Germany'}, {'Year': 2014, 'Value': 101298.1841, 'Country or Area': 'Greece'}, {'Year': 2013, 'Value': 104564.0312, 'Country or Area': 'Greece'}, {'Year': 2012, 'Value': 112086.4364, 'Country or Area': 'Greece'}, {'Year': 2011, 'Value': 115576.7833, 'Country or Area': 'Greece'}, {'Year': 2010, 'Value': 118626.5175, 'Country or Area': 'Greece'}, {'Year': 2009, 'Value': 124697.1953, 'Country or Area': 'Greece'}, {'Year': 2008, 'Value': 131199.9519, 'Country or Area': 'Greece'}, {'Year': 2007, 'Value': 134852.8423, 'Country or Area': 'Greece'}, {'Year': 2006, 'Value': 132065.2567, 'Country or Area': 'Greece'}, {'Year': 2005, 'Value': 135924.2261, 'Country or Area': 'Greece'}, {'Year': 2004, 'Value': 132286.0236, 'Country or Area': 'Greece'}, {'Year': 2003, 'Value': 131655.1834, 'Country or Area': 'Greece'}, {'Year': 2002, 'Value': 128160.9982, 'Country or Area': 'Greece'}, {'Year': 2001, 'Value': 128248.6825, 'Country or Area': 'Greece'}, {'Year': 2000, 'Value': 127570.605, 'Country or Area': 'Greece'}, {'Year': 1999, 'Value': 124462.644, 'Country or Area': 'Greece'}, {'Year': 1998, 'Value': 124288.8938, 'Country or Area': 'Greece'}, {'Year': 1997, 'Value': 118682.4535, 'Country or Area': 'Greece'}, {'Year': 1996, 'Value': 113843.0458, 'Country or Area': 'Greece'}, {'Year': 1995, 'Value': 110704.1113, 'Country or Area': 'Greece'}, {'Year': 1994, 'Value': 108402.5584, 'Country or Area': 'Greece'}, {'Year': 1993, 'Value': 105565.3211, 'Country or Area': 'Greece'}, {'Year': 1992, 'Value': 106017.5386, 'Country or Area': 'Greece'}, {'Year': 1991, 'Value': 104767.8446, 'Country or Area': 'Greece'}, {'Year': 1990, 'Value': 104716.4921, 'Country or Area': 'Greece'}, {'Year': 2014, 'Value': 57225.15528, 'Country or Area': 'Hungary'}, {'Year': 2013, 'Value': 57553.8333, 'Country or Area': 'Hungary'}, {'Year': 2012, 'Value': 60106.89997, 'Country or Area': 'Hungary'}, {'Year': 2011, 'Value': 63808.01416, 'Country or Area': 'Hungary'}, {'Year': 2010, 'Value': 65523.68954, 'Country or Area': 'Hungary'}, {'Year': 2009, 'Value': 65082.92351, 'Country or Area': 'Hungary'}, {'Year': 2008, 'Value': 71340.37003, 'Country or Area': 'Hungary'}, {'Year': 2007, 'Value': 73091.61961, 'Country or Area': 'Hungary'}, {'Year': 2006, 'Value': 74880.30523, 'Country or Area': 'Hungary'}, {'Year': 2005, 'Value': 75933.27704, 'Country or Area': 'Hungary'}, {'Year': 2004, 'Value': 76126.46663, 'Country or Area': 'Hungary'}, {'Year': 2003, 'Value': 77192.40058, 'Country or Area': 'Hungary'}, {'Year': 2002, 'Value': 74153.5782, 'Country or Area': 'Hungary'}, {'Year': 2001, 'Value': 75679.34798, 'Country or Area': 'Hungary'}, {'Year': 2000, 'Value': 73556.6927, 'Country or Area': 'Hungary'}, {'Year': 1999, 'Value': 76610.49574, 'Country or Area': 'Hungary'}, {'Year': 1998, 'Value': 76067.05569, 'Country or Area': 'Hungary'}, {'Year': 1997, 'Value': 76553.808, 'Country or Area': 'Hungary'}, {'Year': 1996, 'Value': 78015.96445, 'Country or Area': 'Hungary'}, {'Year': 1995, 'Value': 75705.78021, 'Country or Area': 'Hungary'}, {'Year': 1994, 'Value': 77026.11741, 'Country or Area': 'Hungary'}, {'Year': 1993, 'Value': 78134.88738, 'Country or Area': 'Hungary'}, {'Year': 1992, 'Value': 77312.1716, 'Country or Area': 'Hungary'}, {'Year': 1991, 'Value': 87301.068, 'Country or Area': 'Hungary'}, {'Year': 1990, 'Value': 94133.97193, 'Country or Area': 'Hungary'}, {'Year': 2014, 'Value': 4596.847329, 'Country or Area': 'Iceland'}, {'Year': 2013, 'Value': 4534.662835, 'Country or Area': 'Iceland'}, {'Year': 2012, 'Value': 4550.40348, 'Country or Area': 'Iceland'}, {'Year': 2011, 'Value': 4520.220864, 'Country or Area': 'Iceland'}, {'Year': 2010, 'Value': 4730.35143, 'Country or Area': 'Iceland'}, {'Year': 2009, 'Value': 4855.772309, 'Country or Area': 'Iceland'}, {'Year': 2008, 'Value': 5140.336163, 'Country or Area': 'Iceland'}, {'Year': 2007, 'Value': 4714.818309, 'Country or Area': 'Iceland'}, {'Year': 2006, 'Value': 4454.034986, 'Country or Area': 'Iceland'}, {'Year': 2005, 'Value': 3897.687838, 'Country or Area': 'Iceland'}, {'Year': 2004, 'Value': 3940.121416, 'Country or Area': 'Iceland'}, {'Year': 2003, 'Value': 3918.592696, 'Country or Area': 'Iceland'}, {'Year': 2002, 'Value': 3936.901005, 'Country or Area': 'Iceland'}, {'Year': 2001, 'Value': 3911.350243, 'Country or Area': 'Iceland'}, {'Year': 2000, 'Value': 3962.772806, 'Country or Area': 'Iceland'}, {'Year': 1999, 'Value': 3980.849341, 'Country or Area': 'Iceland'}, {'Year': 1998, 'Value': 3754.774365, 'Country or Area': 'Iceland'}, {'Year': 1997, 'Value': 3610.857991, 'Country or Area': 'Iceland'}, {'Year': 1996, 'Value': 3472.183883, 'Country or Area': 'Iceland'}, {'Year': 1995, 'Value': 3389.000968, 'Country or Area': 'Iceland'}, {'Year': 1994, 'Value': 3328.37102, 'Country or Area': 'Iceland'}, {'Year': 1993, 'Value': 3392.563058, 'Country or Area': 'Iceland'}, {'Year': 1992, 'Value': 3341.98724, 'Country or Area': 'Iceland'}, {'Year': 1991, 'Value': 3463.43779, 'Country or Area': 'Iceland'}, {'Year': 1990, 'Value': 3633.558009, 'Country or Area': 'Iceland'}, {'Year': 2014, 'Value': 58253.6714, 'Country or Area': 'Ireland'}, {'Year': 2013, 'Value': 58546.72726, 'Country or Area': 'Ireland'}, {'Year': 2012, 'Value': 58685.21184, 'Country or Area': 'Ireland'}, {'Year': 2011, 'Value': 58194.66762, 'Country or Area': 'Ireland'}, {'Year': 2010, 'Value': 62299.01207, 'Country or Area': 'Ireland'}, {'Year': 2009, 'Value': 62859.37981, 'Country or Area': 'Ireland'}, {'Year': 2008, 'Value': 68451.00173, 'Country or Area': 'Ireland'}, {'Year': 2007, 'Value': 69083.1959, 'Country or Area': 'Ireland'}, {'Year': 2006, 'Value': 69795.16724, 'Country or Area': 'Ireland'}, {'Year': 2005, 'Value': 70396.32614, 'Country or Area': 'Ireland'}, {'Year': 2004, 'Value': 68932.67403, 'Country or Area': 'Ireland'}, {'Year': 2003, 'Value': 69613.79869, 'Country or Area': 'Ireland'}, {'Year': 2002, 'Value': 69371.23382, 'Country or Area': 'Ireland'}, {'Year': 2001, 'Value': 71393.91839, 'Country or Area': 'Ireland'}, {'Year': 2000, 'Value': 69324.95522, 'Country or Area': 'Ireland'}, {'Year': 1999, 'Value': 67141.74692, 'Country or Area': 'Ireland'}, {'Year': 1998, 'Value': 66003.24559, 'Country or Area': 'Ireland'}, {'Year': 1997, 'Value': 63517.30138, 'Country or Area': 'Ireland'}, {'Year': 1996, 'Value': 62002.14788, 'Country or Area': 'Ireland'}, {'Year': 1995, 'Value': 59872.74687, 'Country or Area': 'Ireland'}, {'Year': 1994, 'Value': 58450.59702, 'Country or Area': 'Ireland'}, {'Year': 1993, 'Value': 57164.07577, 'Country or Area': 'Ireland'}, {'Year': 1992, 'Value': 56889.41752, 'Country or Area': 'Ireland'}, {'Year': 1991, 'Value': 56905.94544, 'Country or Area': 'Ireland'}, {'Year': 1990, 'Value': 56168.54793, 'Country or Area': 'Ireland'}, {'Year': 2014, 'Value': 418587.2149, 'Country or Area': 'Italy'}, {'Year': 2013, 'Value': 438887.3696, 'Country or Area': 'Italy'}, {'Year': 2012, 'Value': 468717.9158, 'Country or Area': 'Italy'}, {'Year': 2011, 'Value': 494789.5846, 'Country or Area': 'Italy'}, {'Year': 2010, 'Value': 508424.0983, 'Country or Area': 'Italy'}, {'Year': 2009, 'Value': 498894.6551, 'Country or Area': 'Italy'}, {'Year': 2008, 'Value': 549452.7291, 'Country or Area': 'Italy'}, {'Year': 2007, 'Value': 561137.5861, 'Country or Area': 'Italy'}, {'Year': 2006, 'Value': 569054.8046, 'Country or Area': 'Italy'}, {'Year': 2005, 'Value': 578904.4403, 'Country or Area': 'Italy'}, {'Year': 2004, 'Value': 580725.5802, 'Country or Area': 'Italy'}, {'Year': 2003, 'Value': 578126.3683, 'Country or Area': 'Italy'}, {'Year': 2002, 'Value': 561887.9524, 'Country or Area': 'Italy'}, {'Year': 2001, 'Value': 561600.3276, 'Country or Area': 'Italy'}, {'Year': 2000, 'Value': 554479.2897, 'Country or Area': 'Italy'}, {'Year': 1999, 'Value': 549495.2305, 'Country or Area': 'Italy'}, {'Year': 1998, 'Value': 543800.4302, 'Country or Area': 'Italy'}, {'Year': 1997, 'Value': 532739.9304, 'Country or Area': 'Italy'}, {'Year': 1996, 'Value': 526825.5357, 'Country or Area': 'Italy'}, {'Year': 1995, 'Value': 533449.7686, 'Country or Area': 'Italy'}, {'Year': 1994, 'Value': 505566.5387, 'Country or Area': 'Italy'}, {'Year': 1993, 'Value': 513611.6183, 'Country or Area': 'Italy'}, {'Year': 1992, 'Value': 519982.7784, 'Country or Area': 'Italy'}, {'Year': 1991, 'Value': 523489.8088, 'Country or Area': 'Italy'}, {'Year': 1990, 'Value': 521920.6005, 'Country or Area': 'Italy'}, {'Year': 2014, 'Value': 1363862.305, 'Country or Area': 'Japan'}, {'Year': 2013, 'Value': 1407883.226, 'Country or Area': 'Japan'}, {'Year': 2012, 'Value': 1390339.973, 'Country or Area': 'Japan'}, {'Year': 2011, 'Value': 1354616.007, 'Country or Area': 'Japan'}, {'Year': 2010, 'Value': 1304902.642, 'Country or Area': 'Japan'}, {'Year': 2009, 'Value': 1251003.584, 'Country or Area': 'Japan'}, {'Year': 2008, 'Value': 1327168.529, 'Country or Area': 'Japan'}, {'Year': 2007, 'Value': 1412795.074, 'Country or Area': 'Japan'}, {'Year': 2006, 'Value': 1377861.939, 'Country or Area': 'Japan'}, {'Year': 2005, 'Value': 1397101.819, 'Country or Area': 'Japan'}, {'Year': 2004, 'Value': 1389593.188, 'Country or Area': 'Japan'}, {'Year': 2003, 'Value': 1392702.146, 'Country or Area': 'Japan'}, {'Year': 2002, 'Value': 1390331.141, 'Country or Area': 'Japan'}, {'Year': 2001, 'Value': 1358715.508, 'Country or Area': 'Japan'}, {'Year': 2000, 'Value': 1386713.844, 'Country or Area': 'Japan'}, {'Year': 1999, 'Value': 1367886.089, 'Country or Area': 'Japan'}, {'Year': 1998, 'Value': 1345840.238, 'Country or Area': 'Japan'}, {'Year': 1997, 'Value': 1389906.994, 'Country or Area': 'Japan'}, {'Year': 1996, 'Value': 1393109.438, 'Country or Area': 'Japan'}, {'Year': 1995, 'Value': 1379924.544, 'Country or Area': 'Japan'}, {'Year': 1994, 'Value': 1358267.678, 'Country or Area': 'Japan'}, {'Year': 1993, 'Value': 1285876.655, 'Country or Area': 'Japan'}, {'Year': 1992, 'Value': 1294404.603, 'Country or Area': 'Japan'}, {'Year': 1991, 'Value': 1280937.699, 'Country or Area': 'Japan'}, {'Year': 1990, 'Value': 1270742.948, 'Country or Area': 'Japan'}, {'Year': 2014, 'Value': 11393.29361, 'Country or Area': 'Latvia'}, {'Year': 2013, 'Value': 11450.92958, 'Country or Area': 'Latvia'}, {'Year': 2012, 'Value': 11526.20942, 'Country or Area': 'Latvia'}, {'Year': 2011, 'Value': 11634.56886, 'Country or Area': 'Latvia'}, {'Year': 2010, 'Value': 12373.11963, 'Country or Area': 'Latvia'}, {'Year': 2009, 'Value': 11233.80717, 'Country or Area': 'Latvia'}, {'Year': 2008, 'Value': 11953.98564, 'Country or Area': 'Latvia'}, {'Year': 2007, 'Value': 12376.98377, 'Country or Area': 'Latvia'}, {'Year': 2006, 'Value': 11911.36596, 'Country or Area': 'Latvia'}, {'Year': 2005, 'Value': 11395.92956, 'Country or Area': 'Latvia'}, {'Year': 2004, 'Value': 11175.59647, 'Country or Area': 'Latvia'}, {'Year': 2003, 'Value': 11185.65752, 'Country or Area': 'Latvia'}, {'Year': 2002, 'Value': 11032.00619, 'Country or Area': 'Latvia'}, {'Year': 2001, 'Value': 11060.08023, 'Country or Area': 'Latvia'}, {'Year': 2000, 'Value': 10460.68478, 'Country or Area': 'Latvia'}, {'Year': 1999, 'Value': 11037.63826, 'Country or Area': 'Latvia'}, {'Year': 1998, 'Value': 11831.06618, 'Country or Area': 'Latvia'}, {'Year': 1997, 'Value': 12343.19098, 'Country or Area': 'Latvia'}, {'Year': 1996, 'Value': 12908.46107, 'Country or Area': 'Latvia'}, {'Year': 1995, 'Value': 12859.1565, 'Country or Area': 'Latvia'}, {'Year': 1994, 'Value': 14279.7116, 'Country or Area': 'Latvia'}, {'Year': 1993, 'Value': 16186.03994, 'Country or Area': 'Latvia'}, {'Year': 1992, 'Value': 19621.76391, 'Country or Area': 'Latvia'}, {'Year': 1991, 'Value': 24414.17172, 'Country or Area': 'Latvia'}, {'Year': 1990, 'Value': 26397.40224, 'Country or Area': 'Latvia'}, {'Year': 2014, 'Value': 19777.74981, 'Country or Area': 'Lithuania'}, {'Year': 2013, 'Value': 19850.82895, 'Country or Area': 'Lithuania'}, {'Year': 2012, 'Value': 21112.67638, 'Country or Area': 'Lithuania'}, {'Year': 2011, 'Value': 21254.45751, 'Country or Area': 'Lithuania'}, {'Year': 2010, 'Value': 20755.13472, 'Country or Area': 'Lithuania'}, {'Year': 2009, 'Value': 19935.91908, 'Country or Area': 'Lithuania'}, {'Year': 2008, 'Value': 24394.53067, 'Country or Area': 'Lithuania'}, {'Year': 2007, 'Value': 25352.35105, 'Country or Area': 'Lithuania'}, {'Year': 2006, 'Value': 23378.44885, 'Country or Area': 'Lithuania'}, {'Year': 2005, 'Value': 23036.13829, 'Country or Area': 'Lithuania'}, {'Year': 2004, 'Value': 21984.41121, 'Country or Area': 'Lithuania'}, {'Year': 2003, 'Value': 21203.01391, 'Country or Area': 'Lithuania'}, {'Year': 2002, 'Value': 20985.9501, 'Country or Area': 'Lithuania'}, {'Year': 2001, 'Value': 20565.39858, 'Country or Area': 'Lithuania'}, {'Year': 2000, 'Value': 19605.28432, 'Country or Area': 'Lithuania'}, {'Year': 1999, 'Value': 21233.07318, 'Country or Area': 'Lithuania'}, {'Year': 1998, 'Value': 23901.37988, 'Country or Area': 'Lithuania'}, {'Year': 1997, 'Value': 22971.10686, 'Country or Area': 'Lithuania'}, {'Year': 1996, 'Value': 23468.23761, 'Country or Area': 'Lithuania'}, {'Year': 1995, 'Value': 22400.50864, 'Country or Area': 'Lithuania'}, {'Year': 1994, 'Value': 23234.57991, 'Country or Area': 'Lithuania'}, {'Year': 1993, 'Value': 24548.30438, 'Country or Area': 'Lithuania'}, {'Year': 1992, 'Value': 30446.82356, 'Country or Area': 'Lithuania'}, {'Year': 1991, 'Value': 50233.77057, 'Country or Area': 'Lithuania'}, {'Year': 1990, 'Value': 48190.28202, 'Country or Area': 'Lithuania'}, {'Year': 2014, 'Value': 2982.644788, 'Country or Area': 'Malta'}, {'Year': 2013, 'Value': 2953.958319, 'Country or Area': 'Malta'}, {'Year': 2012, 'Value': 3324.497016, 'Country or Area': 'Malta'}, {'Year': 2011, 'Value': 3211.706092, 'Country or Area': 'Malta'}, {'Year': 2010, 'Value': 3098.805706, 'Country or Area': 'Malta'}, {'Year': 2009, 'Value': 3073.961516, 'Country or Area': 'Malta'}, {'Year': 2008, 'Value': 3182.279598, 'Country or Area': 'Malta'}, {'Year': 2007, 'Value': 3176.827924, 'Country or Area': 'Malta'}, {'Year': 2006, 'Value': 3090.683169, 'Country or Area': 'Malta'}, {'Year': 2005, 'Value': 2999.164427, 'Country or Area': 'Malta'}, {'Year': 2004, 'Value': 2845.499612, 'Country or Area': 'Malta'}, {'Year': 2003, 'Value': 2893.026281, 'Country or Area': 'Malta'}, {'Year': 2002, 'Value': 2687.483142, 'Country or Area': 'Malta'}, {'Year': 2001, 'Value': 2769.124795, 'Country or Area': 'Malta'}, {'Year': 2000, 'Value': 2625.805769, 'Country or Area': 'Malta'}, {'Year': 1999, 'Value': 2610.246912, 'Country or Area': 'Malta'}, {'Year': 1998, 'Value': 2524.14375, 'Country or Area': 'Malta'}, {'Year': 1997, 'Value': 2530.059167, 'Country or Area': 'Malta'}, {'Year': 1996, 'Value': 2518.242095, 'Country or Area': 'Malta'}, {'Year': 1995, 'Value': 2500.686001, 'Country or Area': 'Malta'}, {'Year': 1994, 'Value': 2483.685646, 'Country or Area': 'Malta'}, {'Year': 1993, 'Value': 2422.706804, 'Country or Area': 'Malta'}, {'Year': 1992, 'Value': 2333.937881, 'Country or Area': 'Malta'}, {'Year': 1991, 'Value': 2189.155934, 'Country or Area': 'Malta'}, {'Year': 1990, 'Value': 2000.251782, 'Country or Area': 'Malta'}, {'Year': 2013, 'Value': 91.2561562, 'Country or Area': 'Monaco'}, {'Year': 2012, 'Value': 90.74984413, 'Country or Area': 'Monaco'}, {'Year': 2011, 'Value': 86.72829626, 'Country or Area': 'Monaco'}, {'Year': 2010, 'Value': 90.14610816, 'Country or Area': 'Monaco'}, {'Year': 2009, 'Value': 91.17922637, 'Country or Area': 'Monaco'}, {'Year': 2008, 'Value': 95.85573407, 'Country or Area': 'Monaco'}, {'Year': 2007, 'Value': 97.85505707, 'Country or Area': 'Monaco'}, {'Year': 2006, 'Value': 94.27859588, 'Country or Area': 'Monaco'}, {'Year': 2005, 'Value': 101.1092927, 'Country or Area': 'Monaco'}, {'Year': 2004, 'Value': 102.0427389, 'Country or Area': 'Monaco'}, {'Year': 2003, 'Value': 106.1263418, 'Country or Area': 'Monaco'}, {'Year': 2002, 'Value': 108.3510727, 'Country or Area': 'Monaco'}, {'Year': 2001, 'Value': 107.9724435, 'Country or Area': 'Monaco'}, {'Year': 2000, 'Value': 109.6923667, 'Country or Area': 'Monaco'}, {'Year': 1999, 'Value': 108.5162332, 'Country or Area': 'Monaco'}, {'Year': 1998, 'Value': 106.4856635, 'Country or Area': 'Monaco'}, {'Year': 1997, 'Value': 106.7193158, 'Country or Area': 'Monaco'}, {'Year': 1996, 'Value': 108.2033603, 'Country or Area': 'Monaco'}, {'Year': 1995, 'Value': 103.7660498, 'Country or Area': 'Monaco'}, {'Year': 1994, 'Value': 106.0677326, 'Country or Area': 'Monaco'}, {'Year': 1993, 'Value': 105.0504029, 'Country or Area': 'Monaco'}, {'Year': 1992, 'Value': 105.9352931, 'Country or Area': 'Monaco'}, {'Year': 1991, 'Value': 100.3692041, 'Country or Area': 'Monaco'}, {'Year': 1990, 'Value': 99.41360592, 'Country or Area': 'Monaco'}, {'Year': 2014, 'Value': 187056.8844, 'Country or Area': 'Netherlands'}, {'Year': 2013, 'Value': 195039.4078, 'Country or Area': 'Netherlands'}, {'Year': 2012, 'Value': 195295.9439, 'Country or Area': 'Netherlands'}, {'Year': 2011, 'Value': 200033.6835, 'Country or Area': 'Netherlands'}, {'Year': 2010, 'Value': 213760.3116, 'Country or Area': 'Netherlands'}, {'Year': 2009, 'Value': 201898.385, 'Country or Area': 'Netherlands'}, {'Year': 2008, 'Value': 207659.6309, 'Country or Area': 'Netherlands'}, {'Year': 2007, 'Value': 208328.3523, 'Country or Area': 'Netherlands'}, {'Year': 2006, 'Value': 209389.0081, 'Country or Area': 'Netherlands'}, {'Year': 2005, 'Value': 214444.8954, 'Country or Area': 'Netherlands'}, {'Year': 2004, 'Value': 219308.1098, 'Country or Area': 'Netherlands'}, {'Year': 2003, 'Value': 218174.5353, 'Country or Area': 'Netherlands'}, {'Year': 2002, 'Value': 218138.8657, 'Country or Area': 'Netherlands'}, {'Year': 2001, 'Value': 220117.4177, 'Country or Area': 'Netherlands'}, {'Year': 2000, 'Value': 220250.1742, 'Country or Area': 'Netherlands'}, {'Year': 1999, 'Value': 222262.4852, 'Country or Area': 'Netherlands'}, {'Year': 1998, 'Value': 235646.0306, 'Country or Area': 'Netherlands'}, {'Year': 1997, 'Value': 235568.9276, 'Country or Area': 'Netherlands'}, {'Year': 1996, 'Value': 243054.3329, 'Country or Area': 'Netherlands'}, {'Year': 1995, 'Value': 232179.1853, 'Country or Area': 'Netherlands'}, {'Year': 1994, 'Value': 235538.7792, 'Country or Area': 'Netherlands'}, {'Year': 1993, 'Value': 231885.9467, 'Country or Area': 'Netherlands'}, {'Year': 1992, 'Value': 230665.3638, 'Country or Area': 'Netherlands'}, {'Year': 1991, 'Value': 229981.1153, 'Country or Area': 'Netherlands'}, {'Year': 1990, 'Value': 222182.4822, 'Country or Area': 'Netherlands'}, {'Year': 2014, 'Value': 81104.42908, 'Country or Area': 'New Zealand'}, {'Year': 2013, 'Value': 80298.32515, 'Country or Area': 'New Zealand'}, {'Year': 2012, 'Value': 80890.36393, 'Country or Area': 'New Zealand'}, {'Year': 2011, 'Value': 78941.5209, 'Country or Area': 'New Zealand'}, {'Year': 2010, 'Value': 78942.2909, 'Country or Area': 'New Zealand'}, {'Year': 2009, 'Value': 78624.70029, 'Country or Area': 'New Zealand'}, {'Year': 2008, 'Value': 81020.64615, 'Country or Area': 'New Zealand'}, {'Year': 2007, 'Value': 81157.87943, 'Country or Area': 'New Zealand'}, {'Year': 2006, 'Value': 83696.74944, 'Country or Area': 'New Zealand'}, {'Year': 2005, 'Value': 83666.28793, 'Country or Area': 'New Zealand'}, {'Year': 2004, 'Value': 81648.82728, 'Country or Area': 'New Zealand'}, {'Year': 2003, 'Value': 82021.58785, 'Country or Area': 'New Zealand'}, {'Year': 2002, 'Value': 79616.99811, 'Country or Area': 'New Zealand'}, {'Year': 2001, 'Value': 79058.62357, 'Country or Area': 'New Zealand'}, {'Year': 2000, 'Value': 76384.68695, 'Country or Area': 'New Zealand'}, {'Year': 1999, 'Value': 74264.33607, 'Country or Area': 'New Zealand'}, {'Year': 1998, 'Value': 72205.14489, 'Country or Area': 'New Zealand'}, {'Year': 1997, 'Value': 74637.98951, 'Country or Area': 'New Zealand'}, {'Year': 1996, 'Value': 71834.4612, 'Country or Area': 'New Zealand'}, {'Year': 1995, 'Value': 69641.4246, 'Country or Area': 'New Zealand'}, {'Year': 1994, 'Value': 68816.58329, 'Country or Area': 'New Zealand'}, {'Year': 1993, 'Value': 67631.7325, 'Country or Area': 'New Zealand'}, {'Year': 1992, 'Value': 67999.5, 'Country or Area': 'New Zealand'}, {'Year': 1991, 'Value': 66822.61772, 'Country or Area': 'New Zealand'}, {'Year': 1990, 'Value': 65828.38048, 'Country or Area': 'New Zealand'}, {'Year': 2014, 'Value': 53190.60718, 'Country or Area': 'Norway'}, {'Year': 2013, 'Value': 53585.63239, 'Country or Area': 'Norway'}, {'Year': 2012, 'Value': 53872.30853, 'Country or Area': 'Norway'}, {'Year': 2011, 'Value': 54308.64385, 'Country or Area': 'Norway'}, {'Year': 2010, 'Value': 55299.09696, 'Country or Area': 'Norway'}, {'Year': 2009, 'Value': 52699.85293, 'Country or Area': 'Norway'}, {'Year': 2008, 'Value': 55440.97682, 'Country or Area': 'Norway'}, {'Year': 2007, 'Value': 56966.34562, 'Country or Area': 'Norway'}, {'Year': 2006, 'Value': 55071.68606, 'Country or Area': 'Norway'}, {'Year': 2005, 'Value': 55291.61682, 'Country or Area': 'Norway'}, {'Year': 2004, 'Value': 56214.00848, 'Country or Area': 'Norway'}, {'Year': 2003, 'Value': 55665.8919, 'Country or Area': 'Norway'}, {'Year': 2002, 'Value': 55060.50371, 'Country or Area': 'Norway'}, {'Year': 2001, 'Value': 56145.00276, 'Country or Area': 'Norway'}, {'Year': 2000, 'Value': 54883.37501, 'Country or Area': 'Norway'}, {'Year': 1999, 'Value': 55476.43622, 'Country or Area': 'Norway'}, {'Year': 1998, 'Value': 54499.01663, 'Country or Area': 'Norway'}, {'Year': 1997, 'Value': 54333.94636, 'Country or Area': 'Norway'}, {'Year': 1996, 'Value': 54411.09526, 'Country or Area': 'Norway'}, {'Year': 1995, 'Value': 51411.14926, 'Country or Area': 'Norway'}, {'Year': 1994, 'Value': 51704.41802, 'Country or Area': 'Norway'}, {'Year': 1993, 'Value': 49802.78446, 'Country or Area': 'Norway'}, {'Year': 1992, 'Value': 47778.62716, 'Country or Area': 'Norway'}, {'Year': 1991, 'Value': 49586.88914, 'Country or Area': 'Norway'}, {'Year': 1990, 'Value': 51921.77141, 'Country or Area': 'Norway'}, {'Year': 2014, 'Value': 380037.5659, 'Country or Area': 'Poland'}, {'Year': 2013, 'Value': 393091.8722, 'Country or Area': 'Poland'}, {'Year': 2012, 'Value': 396983.5494, 'Country or Area': 'Poland'}, {'Year': 2011, 'Value': 403271.3596, 'Country or Area': 'Poland'}, {'Year': 2010, 'Value': 403598.9309, 'Country or Area': 'Poland'}, {'Year': 2009, 'Value': 384946.3288, 'Country or Area': 'Poland'}, {'Year': 2008, 'Value': 403146.5062, 'Country or Area': 'Poland'}, {'Year': 2007, 'Value': 411240.3388, 'Country or Area': 'Poland'}, {'Year': 2006, 'Value': 411535.5435, 'Country or Area': 'Poland'}, {'Year': 2005, 'Value': 397413.9328, 'Country or Area': 'Poland'}, {'Year': 2004, 'Value': 397602.7705, 'Country or Area': 'Poland'}, {'Year': 2003, 'Value': 393065.574, 'Country or Area': 'Poland'}, {'Year': 2002, 'Value': 379645.9142, 'Country or Area': 'Poland'}, {'Year': 2001, 'Value': 389931.344, 'Country or Area': 'Poland'}, {'Year': 2000, 'Value': 392275.7574, 'Country or Area': 'Poland'}, {'Year': 1999, 'Value': 404031.1899, 'Country or Area': 'Poland'}, {'Year': 1998, 'Value': 415621.322, 'Country or Area': 'Poland'}, {'Year': 1997, 'Value': 448855.4782, 'Country or Area': 'Poland'}, {'Year': 1996, 'Value': 458480.4396, 'Country or Area': 'Poland'}, {'Year': 1995, 'Value': 445272.754, 'Country or Area': 'Poland'}, {'Year': 1994, 'Value': 443218.5604, 'Country or Area': 'Poland'}, {'Year': 1993, 'Value': 448350.9121, 'Country or Area': 'Poland'}, {'Year': 1992, 'Value': 447713.504, 'Country or Area': 'Poland'}, {'Year': 1991, 'Value': 462432.7877, 'Country or Area': 'Poland'}, {'Year': 1990, 'Value': 472995.9739, 'Country or Area': 'Poland'}, {'Year': 2014, 'Value': 65747.82223, 'Country or Area': 'Portugal'}, {'Year': 2013, 'Value': 65884.85781, 'Country or Area': 'Portugal'}, {'Year': 2012, 'Value': 67681.24881, 'Country or Area': 'Portugal'}, {'Year': 2011, 'Value': 69774.22137, 'Country or Area': 'Portugal'}, {'Year': 2010, 'Value': 71333.59808, 'Country or Area': 'Portugal'}, {'Year': 2009, 'Value': 75935.90201, 'Country or Area': 'Portugal'}, {'Year': 2008, 'Value': 78734.11656, 'Country or Area': 'Portugal'}, {'Year': 2007, 'Value': 81099.94935, 'Country or Area': 'Portugal'}, {'Year': 2006, 'Value': 83555.48588, 'Country or Area': 'Portugal'}, {'Year': 2005, 'Value': 88584.42513, 'Country or Area': 'Portugal'}, {'Year': 2004, 'Value': 85995.06552, 'Country or Area': 'Portugal'}, {'Year': 2003, 'Value': 82929.54399, 'Country or Area': 'Portugal'}, {'Year': 2002, 'Value': 88155.88281, 'Country or Area': 'Portugal'}, {'Year': 2001, 'Value': 83843.32928, 'Country or Area': 'Portugal'}, {'Year': 2000, 'Value': 83930.83956, 'Country or Area': 'Portugal'}, {'Year': 1999, 'Value': 85194.99452, 'Country or Area': 'Portugal'}, {'Year': 1998, 'Value': 77195.23415, 'Country or Area': 'Portugal'}, {'Year': 1997, 'Value': 72195.81821, 'Country or Area': 'Portugal'}, {'Year': 1996, 'Value': 68834.18282, 'Country or Area': 'Portugal'}, {'Year': 1995, 'Value': 71368.42166, 'Country or Area': 'Portugal'}, {'Year': 1994, 'Value': 66935.85978, 'Country or Area': 'Portugal'}, {'Year': 1993, 'Value': 65623.2879, 'Country or Area': 'Portugal'}, {'Year': 1992, 'Value': 66979.83913, 'Country or Area': 'Portugal'}, {'Year': 1991, 'Value': 62349.67837, 'Country or Area': 'Portugal'}, {'Year': 1990, 'Value': 60552.01255, 'Country or Area': 'Portugal'}, {'Year': 2014, 'Value': 111612.8106, 'Country or Area': 'Romania'}, {'Year': 2013, 'Value': 111933.8959, 'Country or Area': 'Romania'}, {'Year': 2012, 'Value': 122666.9543, 'Country or Area': 'Romania'}, {'Year': 2011, 'Value': 124264.6171, 'Country or Area': 'Romania'}, {'Year': 2010, 'Value': 119124.9811, 'Country or Area': 'Romania'}, {'Year': 2009, 'Value': 125528.0556, 'Country or Area': 'Romania'}, {'Year': 2008, 'Value': 143548.869, 'Country or Area': 'Romania'}, {'Year': 2007, 'Value': 148708.1805, 'Country or Area': 'Romania'}, {'Year': 2006, 'Value': 151431.5553, 'Country or Area': 'Romania'}, {'Year': 2005, 'Value': 149329.2279, 'Country or Area': 'Romania'}, {'Year': 2004, 'Value': 151877.0249, 'Country or Area': 'Romania'}, {'Year': 2003, 'Value': 153271.3965, 'Country or Area': 'Romania'}, {'Year': 2002, 'Value': 148022.8892, 'Country or Area': 'Romania'}, {'Year': 2001, 'Value': 149257.9291, 'Country or Area': 'Romania'}, {'Year': 2000, 'Value': 142404.6674, 'Country or Area': 'Romania'}, {'Year': 1999, 'Value': 136767.7279, 'Country or Area': 'Romania'}, {'Year': 1998, 'Value': 155283.1258, 'Country or Area': 'Romania'}, {'Year': 1997, 'Value': 175492.3268, 'Country or Area': 'Romania'}, {'Year': 1996, 'Value': 187475.7192, 'Country or Area': 'Romania'}, {'Year': 1995, 'Value': 185010.511, 'Country or Area': 'Romania'}, {'Year': 1994, 'Value': 178107.9045, 'Country or Area': 'Romania'}, {'Year': 1993, 'Value': 182011.0736, 'Country or Area': 'Romania'}, {'Year': 1992, 'Value': 190934.8219, 'Country or Area': 'Romania'}, {'Year': 1991, 'Value': 208477.4154, 'Country or Area': 'Romania'}, {'Year': 1990, 'Value': 254999.1229, 'Country or Area': 'Romania'}, {'Year': 2014, 'Value': 2648873.347, 'Country or Area': 'Russian Federation'}, {'Year': 2013, 'Value': 2643064.6, 'Country or Area': 'Russian Federation'}, {'Year': 2012, 'Value': 2700925.24, 'Country or Area': 'Russian Federation'}, {'Year': 2011, 'Value': 2665179.258, 'Country or Area': 'Russian Federation'}, {'Year': 2010, 'Value': 2602483.428, 'Country or Area': 'Russian Federation'}, {'Year': 2009, 'Value': 2481987.792, 'Country or Area': 'Russian Federation'}, {'Year': 2008, 'Value': 2616463.554, 'Country or Area': 'Russian Federation'}, {'Year': 2007, 'Value': 2584309.06, 'Country or Area': 'Russian Federation'}, {'Year': 2006, 'Value': 2574412.01, 'Country or Area': 'Russian Federation'}, {'Year': 2005, 'Value': 2501637.91, 'Country or Area': 'Russian Federation'}, {'Year': 2004, 'Value': 2471236.405, 'Country or Area': 'Russian Federation'}, {'Year': 2003, 'Value': 2422097.787, 'Country or Area': 'Russian Federation'}, {'Year': 2002, 'Value': 2342532.909, 'Country or Area': 'Russian Federation'}, {'Year': 2001, 'Value': 2334066.89, 'Country or Area': 'Russian Federation'}, {'Year': 2000, 'Value': 2274497.944, 'Country or Area': 'Russian Federation'}, {'Year': 1999, 'Value': 2261391.54, 'Country or Area': 'Russian Federation'}, {'Year': 1998, 'Value': 2229674.666, 'Country or Area': 'Russian Federation'}, {'Year': 1997, 'Value': 2261183.466, 'Country or Area': 'Russian Federation'}, {'Year': 1996, 'Value': 2354767.262, 'Country or Area': 'Russian Federation'}, {'Year': 1995, 'Value': 2429432.444, 'Country or Area': 'Russian Federation'}, {'Year': 1994, 'Value': 2511690.618, 'Country or Area': 'Russian Federation'}, {'Year': 1993, 'Value': 2809294.525, 'Country or Area': 'Russian Federation'}, {'Year': 1992, 'Value': 3002768.8, 'Country or Area': 'Russian Federation'}, {'Year': 1991, 'Value': 3535600.025, 'Country or Area': 'Russian Federation'}, {'Year': 1990, 'Value': 3767555.044, 'Country or Area': 'Russian Federation'}, {'Year': 2014, 'Value': 40657.6017, 'Country or Area': 'Slovakia'}, {'Year': 2013, 'Value': 42792.4789, 'Country or Area': 'Slovakia'}, {'Year': 2012, 'Value': 43175.58847, 'Country or Area': 'Slovakia'}, {'Year': 2011, 'Value': 45604.01843, 'Country or Area': 'Slovakia'}, {'Year': 2010, 'Value': 46482.87376, 'Country or Area': 'Slovakia'}, {'Year': 2009, 'Value': 45557.62902, 'Country or Area': 'Slovakia'}, {'Year': 2008, 'Value': 50088.73652, 'Country or Area': 'Slovakia'}, {'Year': 2007, 'Value': 49405.07308, 'Country or Area': 'Slovakia'}, {'Year': 2006, 'Value': 51206.91499, 'Country or Area': 'Slovakia'}, {'Year': 2005, 'Value': 51287.37498, 'Country or Area': 'Slovakia'}, {'Year': 2004, 'Value': 51315.16253, 'Country or Area': 'Slovakia'}, {'Year': 2003, 'Value': 50586.57602, 'Country or Area': 'Slovakia'}, {'Year': 2002, 'Value': 50144.75869, 'Country or Area': 'Slovakia'}, {'Year': 2001, 'Value': 52127.6656, 'Country or Area': 'Slovakia'}, {'Year': 2000, 'Value': 49712.47766, 'Country or Area': 'Slovakia'}, {'Year': 1999, 'Value': 51700.42559, 'Country or Area': 'Slovakia'}, {'Year': 1998, 'Value': 52993.84302, 'Country or Area': 'Slovakia'}, {'Year': 1997, 'Value': 54396.93803, 'Country or Area': 'Slovakia'}, {'Year': 1996, 'Value': 54706.06585, 'Country or Area': 'Slovakia'}, {'Year': 1995, 'Value': 54405.57713, 'Country or Area': 'Slovakia'}, {'Year': 1994, 'Value': 53053.29904, 'Country or Area': 'Slovakia'}, {'Year': 1993, 'Value': 55689.28291, 'Country or Area': 'Slovakia'}, {'Year': 1992, 'Value': 59204.27982, 'Country or Area': 'Slovakia'}, {'Year': 1991, 'Value': 64644.53324, 'Country or Area': 'Slovakia'}, {'Year': 1990, 'Value': 74271.51068, 'Country or Area': 'Slovakia'}, {'Year': 2014, 'Value': 16582.3119, 'Country or Area': 'Slovenia'}, {'Year': 2013, 'Value': 18313.78153, 'Country or Area': 'Slovenia'}, {'Year': 2012, 'Value': 19035.42088, 'Country or Area': 'Slovenia'}, {'Year': 2011, 'Value': 19626.46399, 'Country or Area': 'Slovenia'}, {'Year': 2010, 'Value': 19618.76493, 'Country or Area': 'Slovenia'}, {'Year': 2009, 'Value': 19595.36725, 'Country or Area': 'Slovenia'}, {'Year': 2008, 'Value': 21523.54842, 'Country or Area': 'Slovenia'}, {'Year': 2007, 'Value': 20831.83655, 'Country or Area': 'Slovenia'}, {'Year': 2006, 'Value': 20694.97247, 'Country or Area': 'Slovenia'}, {'Year': 2005, 'Value': 20522.7384, 'Country or Area': 'Slovenia'}, {'Year': 2004, 'Value': 20198.44567, 'Country or Area': 'Slovenia'}, {'Year': 2003, 'Value': 19878.24716, 'Country or Area': 'Slovenia'}, {'Year': 2002, 'Value': 20159.89575, 'Country or Area': 'Slovenia'}, {'Year': 2001, 'Value': 20010.71978, 'Country or Area': 'Slovenia'}, {'Year': 2000, 'Value': 19126.22917, 'Country or Area': 'Slovenia'}, {'Year': 1999, 'Value': 18892.79897, 'Country or Area': 'Slovenia'}, {'Year': 1998, 'Value': 19520.38659, 'Country or Area': 'Slovenia'}, {'Year': 1997, 'Value': 19794.46674, 'Country or Area': 'Slovenia'}, {'Year': 1996, 'Value': 19440.24447, 'Country or Area': 'Slovenia'}, {'Year': 1995, 'Value': 18761.01804, 'Country or Area': 'Slovenia'}, {'Year': 1994, 'Value': 18004.44539, 'Country or Area': 'Slovenia'}, {'Year': 1993, 'Value': 17605.53821, 'Country or Area': 'Slovenia'}, {'Year': 1992, 'Value': 17410.06813, 'Country or Area': 'Slovenia'}, {'Year': 1991, 'Value': 17311.52913, 'Country or Area': 'Slovenia'}, {'Year': 1990, 'Value': 18616.4491, 'Country or Area': 'Slovenia'}, {'Year': 2014, 'Value': 54382.73729, 'Country or Area': 'Sweden'}, {'Year': 2013, 'Value': 55939.52329, 'Country or Area': 'Sweden'}, {'Year': 2012, 'Value': 57578.35909, 'Country or Area': 'Sweden'}, {'Year': 2011, 'Value': 60987.14771, 'Country or Area': 'Sweden'}, {'Year': 2010, 'Value': 64997.08737, 'Country or Area': 'Sweden'}, {'Year': 2009, 'Value': 59052.76381, 'Country or Area': 'Sweden'}, {'Year': 2008, 'Value': 63121.12249, 'Country or Area': 'Sweden'}, {'Year': 2007, 'Value': 65372.65357, 'Country or Area': 'Sweden'}, {'Year': 2006, 'Value': 66923.42453, 'Country or Area': 'Sweden'}, {'Year': 2005, 'Value': 66968.30271, 'Country or Area': 'Sweden'}, {'Year': 2004, 'Value': 69582.4418, 'Country or Area': 'Sweden'}, {'Year': 2003, 'Value': 70601.36043, 'Country or Area': 'Sweden'}, {'Year': 2002, 'Value': 70160.7817, 'Country or Area': 'Sweden'}, {'Year': 2001, 'Value': 69192.11581, 'Country or Area': 'Sweden'}, {'Year': 2000, 'Value': 68868.76885, 'Country or Area': 'Sweden'}, {'Year': 1999, 'Value': 70181.70306, 'Country or Area': 'Sweden'}, {'Year': 1998, 'Value': 73085.86419, 'Country or Area': 'Sweden'}, {'Year': 1997, 'Value': 72772.29872, 'Country or Area': 'Sweden'}, {'Year': 1996, 'Value': 77574.1002, 'Country or Area': 'Sweden'}, {'Year': 1995, 'Value': 74029.36032, 'Country or Area': 'Sweden'}, {'Year': 1994, 'Value': 74231.48891, 'Country or Area': 'Sweden'}, {'Year': 1993, 'Value': 71807.19073, 'Country or Area': 'Sweden'}, {'Year': 1992, 'Value': 71527.05036, 'Country or Area': 'Sweden'}, {'Year': 1991, 'Value': 72041.25485, 'Country or Area': 'Sweden'}, {'Year': 1990, 'Value': 71917.25959, 'Country or Area': 'Sweden'}, {'Year': 2014, 'Value': 48737.86666, 'Country or Area': 'Switzerland'}, {'Year': 2013, 'Value': 52641.21781, 'Country or Area': 'Switzerland'}, {'Year': 2012, 'Value': 51759.67214, 'Country or Area': 'Switzerland'}, {'Year': 2011, 'Value': 50420.47437, 'Country or Area': 'Switzerland'}, {'Year': 2010, 'Value': 54498.08634, 'Country or Area': 'Switzerland'}, {'Year': 2009, 'Value': 52900.81783, 'Country or Area': 'Switzerland'}, {'Year': 2008, 'Value': 54210.033, 'Country or Area': 'Switzerland'}, {'Year': 2007, 'Value': 52679.96434, 'Country or Area': 'Switzerland'}, {'Year': 2006, 'Value': 54609.75576, 'Country or Area': 'Switzerland'}, {'Year': 2005, 'Value': 54987.57091, 'Country or Area': 'Switzerland'}, {'Year': 2004, 'Value': 54308.74162, 'Country or Area': 'Switzerland'}, {'Year': 2003, 'Value': 53687.27372, 'Country or Area': 'Switzerland'}, {'Year': 2002, 'Value': 52481.1427, 'Country or Area': 'Switzerland'}, {'Year': 2001, 'Value': 54082.86628, 'Country or Area': 'Switzerland'}, {'Year': 2000, 'Value': 52503.40619, 'Country or Area': 'Switzerland'}, {'Year': 1999, 'Value': 53236.27134, 'Country or Area': 'Switzerland'}, {'Year': 1998, 'Value': 53492.75385, 'Country or Area': 'Switzerland'}, {'Year': 1997, 'Value': 51912.00545, 'Country or Area': 'Switzerland'}, {'Year': 1996, 'Value': 53186.28555, 'Country or Area': 'Switzerland'}, {'Year': 1995, 'Value': 52478.75563, 'Country or Area': 'Switzerland'}, {'Year': 1994, 'Value': 51621.02353, 'Country or Area': 'Switzerland'}, {'Year': 1993, 'Value': 52653.14353, 'Country or Area': 'Switzerland'}, {'Year': 1992, 'Value': 55328.4188, 'Country or Area': 'Switzerland'}, {'Year': 1991, 'Value': 55639.7238, 'Country or Area': 'Switzerland'}, {'Year': 1990, 'Value': 53719.9849, 'Country or Area': 'Switzerland'}, {'Year': 2014, 'Value': 467550.3769, 'Country or Area': 'Turkey'}, {'Year': 2013, 'Value': 438819.584, 'Country or Area': 'Turkey'}, {'Year': 2012, 'Value': 447452.3313, 'Country or Area': 'Turkey'}, {'Year': 2011, 'Value': 415868.8142, 'Country or Area': 'Turkey'}, {'Year': 2010, 'Value': 395282.5102, 'Country or Area': 'Turkey'}, {'Year': 2009, 'Value': 382513.4189, 'Country or Area': 'Turkey'}, {'Year': 2008, 'Value': 393100.9077, 'Country or Area': 'Turkey'}, {'Year': 2007, 'Value': 403392.486, 'Country or Area': 'Turkey'}, {'Year': 2006, 'Value': 371320.5532, 'Country or Area': 'Turkey'}, {'Year': 2005, 'Value': 345231.7949, 'Country or Area': 'Turkey'}, {'Year': 2004, 'Value': 316893.7052, 'Country or Area': 'Turkey'}, {'Year': 2003, 'Value': 303694.4249, 'Country or Area': 'Turkey'}, {'Year': 2002, 'Value': 287094.5679, 'Country or Area': 'Turkey'}, {'Year': 2001, 'Value': 278784.9456, 'Country or Area': 'Turkey'}, {'Year': 2000, 'Value': 296810.835, 'Country or Area': 'Turkey'}, {'Year': 1999, 'Value': 271357.9551, 'Country or Area': 'Turkey'}, {'Year': 1998, 'Value': 271755.9325, 'Country or Area': 'Turkey'}, {'Year': 1997, 'Value': 269942.503, 'Country or Area': 'Turkey'}, {'Year': 1996, 'Value': 256657.0804, 'Country or Area': 'Turkey'}, {'Year': 1995, 'Value': 239039.7918, 'Country or Area': 'Turkey'}, {'Year': 1994, 'Value': 224719.2352, 'Country or Area': 'Turkey'}, {'Year': 1993, 'Value': 230628.9992, 'Country or Area': 'Turkey'}, {'Year': 1992, 'Value': 220797.1443, 'Country or Area': 'Turkey'}, {'Year': 1991, 'Value': 214128.3222, 'Country or Area': 'Turkey'}, {'Year': 1990, 'Value': 207773.3211, 'Country or Area': 'Turkey'}, {'Year': 2014, 'Value': 354347.5367, 'Country or Area': 'Ukraine'}, {'Year': 2013, 'Value': 401066.9655, 'Country or Area': 'Ukraine'}, {'Year': 2012, 'Value': 409531.3527, 'Country or Area': 'Ukraine'}, {'Year': 2011, 'Value': 421635.9929, 'Country or Area': 'Ukraine'}, {'Year': 2010, 'Value': 401929.0933, 'Country or Area': 'Ukraine'}, {'Year': 2009, 'Value': 384651.7878, 'Country or Area': 'Ukraine'}, {'Year': 2008, 'Value': 442172.3752, 'Country or Area': 'Ukraine'}, {'Year': 2007, 'Value': 455267.4446, 'Country or Area': 'Ukraine'}, {'Year': 2006, 'Value': 452089.7628, 'Country or Area': 'Ukraine'}, {'Year': 2005, 'Value': 435660.6617, 'Country or Area': 'Ukraine'}, {'Year': 2004, 'Value': 427912.4236, 'Country or Area': 'Ukraine'}, {'Year': 2003, 'Value': 417556.1085, 'Country or Area': 'Ukraine'}, {'Year': 2002, 'Value': 417502.6865, 'Country or Area': 'Ukraine'}, {'Year': 2001, 'Value': 433832.546, 'Country or Area': 'Ukraine'}, {'Year': 2000, 'Value': 413923.4422, 'Country or Area': 'Ukraine'}, {'Year': 1999, 'Value': 437037.5539, 'Country or Area': 'Ukraine'}, {'Year': 1998, 'Value': 464400.0308, 'Country or Area': 'Ukraine'}, {'Year': 1997, 'Value': 496219.9784, 'Country or Area': 'Ukraine'}, {'Year': 1996, 'Value': 511686.6293, 'Country or Area': 'Ukraine'}, {'Year': 1995, 'Value': 557047.9363, 'Country or Area': 'Ukraine'}, {'Year': 1994, 'Value': 600339.9772, 'Country or Area': 'Ukraine'}, {'Year': 1993, 'Value': 705376.576, 'Country or Area': 'Ukraine'}, {'Year': 1992, 'Value': 795446.9606, 'Country or Area': 'Ukraine'}, {'Year': 1991, 'Value': 853207.7523, 'Country or Area': 'Ukraine'}, {'Year': 1990, 'Value': 937954.2038, 'Country or Area': 'Ukraine'}, {'Year': 2014, 'Value': 6870446.092, 'Country or Area': 'United States of America'}, {'Year': 2013, 'Value': 6799979.303, 'Country or Area': 'United States of America'}, {'Year': 2012, 'Value': 6643010.578, 'Country or Area': 'United States of America'}, {'Year': 2011, 'Value': 6865397.903, 'Country or Area': 'United States of America'}, {'Year': 2010, 'Value': 6985457.053, 'Country or Area': 'United States of America'}, {'Year': 2009, 'Value': 6776229.774, 'Country or Area': 'United States of America'}, {'Year': 2008, 'Value': 7216415.071, 'Country or Area': 'United States of America'}, {'Year': 2007, 'Value': 7422207.963, 'Country or Area': 'United States of America'}, {'Year': 2006, 'Value': 7316144.456, 'Country or Area': 'United States of America'}, {'Year': 2005, 'Value': 7378775.498, 'Country or Area': 'United States of America'}, {'Year': 2004, 'Value': 7369970.035, 'Country or Area': 'United States of America'}, {'Year': 2003, 'Value': 7224974.033, 'Country or Area': 'United States of America'}, {'Year': 2002, 'Value': 7185328.138, 'Country or Area': 'United States of America'}, {'Year': 2001, 'Value': 7140899.141, 'Country or Area': 'United States of America'}, {'Year': 2000, 'Value': 7258973.117, 'Country or Area': 'United States of America'}, {'Year': 1999, 'Value': 7090442.611, 'Country or Area': 'United States of America'}, {'Year': 1998, 'Value': 7066788.163, 'Country or Area': 'United States of America'}, {'Year': 1997, 'Value': 6999999.1, 'Country or Area': 'United States of America'}, {'Year': 1996, 'Value': 6949838.004, 'Country or Area': 'United States of America'}, {'Year': 1995, 'Value': 6748528.926, 'Country or Area': 'United States of America'}, {'Year': 1994, 'Value': 6650296.595, 'Country or Area': 'United States of America'}, {'Year': 1993, 'Value': 6566415.856, 'Country or Area': 'United States of America'}, {'Year': 1992, 'Value': 6448677.154, 'Country or Area': 'United States of America'}, {'Year': 1991, 'Value': 6330937.886, 'Country or Area': 'United States of America'}, {'Year': 1990, 'Value': 6397144.49, 'Country or Area': 'United States of America'}]\n"
     ]
    }
   ],
   "source": [
    "#OAuth with Google Drive API\n",
    "import gspread\n",
    "from oauth2client.service_account import ServiceAccountCredentials\n",
    "\n",
    "#first specify cope\n",
    "scope = ['https://spreadsheets.google.com/feeds']\n",
    "#specify credentials\n",
    "creds = ServiceAccountCredentials.from_json_keyfile_name('./Downloads/client_secret.json',scope)\n",
    "#authorize credentials\n",
    "client = gspread.authorize(creds)\n",
    "\n",
    "sheet = client.open('CO2 Emissions').sheet1\n",
    "#get all data in spreadsheet\n",
    "result = sheet.get_all_records()\n",
    "print result"
   ]
  },
  {
   "cell_type": "code",
   "execution_count": 8,
   "metadata": {},
   "outputs": [
    {
     "name": "stdout",
     "output_type": "stream",
     "text": [
      "['Australia', '2011', '534089.7987', '', '', '', '', '', '', '', '', '', '', '', '', '', '', '', '', '', '', '', '', '', '', '']\n"
     ]
    }
   ],
   "source": [
    "#Access data\n",
    "result = sheet.row_values(5)\n",
    "print result\n",
    "#can also try columns: result = sheet.col_values(1)\n",
    "#or pick a specific cell: result = sheet.cell(2,1).value\n"
   ]
  },
  {
   "cell_type": "code",
   "execution_count": 12,
   "metadata": {},
   "outputs": [
    {
     "name": "stdout",
     "output_type": "stream",
     "text": [
      "New Zealand\n"
     ]
    }
   ],
   "source": [
    "#Update data\n",
    "sheet.update_cell(2,1,'New Zealand')\n",
    "print sheet.cell(2,1).value"
   ]
  },
  {
   "cell_type": "code",
   "execution_count": null,
   "metadata": {
    "collapsed": true
   },
   "outputs": [],
   "source": []
  },
  {
   "cell_type": "code",
   "execution_count": null,
   "metadata": {
    "collapsed": true
   },
   "outputs": [],
   "source": []
  },
  {
   "cell_type": "code",
   "execution_count": null,
   "metadata": {
    "collapsed": true
   },
   "outputs": [],
   "source": []
  },
  {
   "cell_type": "code",
   "execution_count": null,
   "metadata": {
    "collapsed": true
   },
   "outputs": [],
   "source": []
  },
  {
   "cell_type": "code",
   "execution_count": null,
   "metadata": {
    "collapsed": true
   },
   "outputs": [],
   "source": []
  },
  {
   "cell_type": "code",
   "execution_count": null,
   "metadata": {
    "collapsed": true
   },
   "outputs": [],
   "source": []
  },
  {
   "cell_type": "code",
   "execution_count": null,
   "metadata": {
    "collapsed": true
   },
   "outputs": [],
   "source": []
  },
  {
   "cell_type": "code",
   "execution_count": null,
   "metadata": {
    "collapsed": true
   },
   "outputs": [],
   "source": []
  }
 ],
 "metadata": {
  "kernelspec": {
   "display_name": "Python 3",
   "language": "python",
   "name": "python3"
  },
  "language_info": {
   "codemirror_mode": {
    "name": "ipython",
    "version": 3
   },
   "file_extension": ".py",
   "mimetype": "text/x-python",
   "name": "python",
   "nbconvert_exporter": "python",
   "pygments_lexer": "ipython3",
   "version": "3.6.1"
  }
 },
 "nbformat": 4,
 "nbformat_minor": 2
}
