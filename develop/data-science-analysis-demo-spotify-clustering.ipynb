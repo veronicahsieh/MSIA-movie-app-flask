{
 "cells": [
  {
   "cell_type": "raw",
   "metadata": {},
   "source": [
    "<script>\n",
    "code_show=true; \n",
    "function code_toggle() {\n",
    " if (code_show){\n",
    " $('div.input').hide();\n",
    " } else {\n",
    " $('div.input').show();\n",
    " }\n",
    " code_show = !code_show\n",
    "} \n",
    "$( document ).ready(code_toggle);\n",
    "</script>\n",
    "<form action=\"javascript:code_toggle()\"><input type=\"submit\" value=\"Click here to toggle on/off the raw code.\"></form>"
   ]
  },
  {
   "cell_type": "markdown",
   "metadata": {},
   "source": [
    "<img src=\"nw.png\" alt=\"Northwestern Logo\" width=\"750\" align=\"left\">\""
   ]
  },
  {
   "cell_type": "markdown",
   "metadata": {
    "toc": "true"
   },
   "source": [
    "<h1>Spotify Clustering PoC<span class=\"tocSkip\"></span></h1>\n",
    "<div class=\"toc\"><ul class=\"toc-item\"><li><span><a href=\"#Introduction\" data-toc-modified-id=\"Introduction-1\"><span class=\"toc-item-num\">1&nbsp;&nbsp;</span>Introduction</a></span><ul class=\"toc-item\"><li><span><a href=\"#Purpose-of-this-notebook\" data-toc-modified-id=\"Purpose-of-this-notebook-1.1\"><span class=\"toc-item-num\">1.1&nbsp;&nbsp;</span>Purpose of this notebook</a></span></li><li><span><a href=\"#Prior-work/-previous-next-steps\" data-toc-modified-id=\"Prior-work/-previous-next-steps-1.2\"><span class=\"toc-item-num\">1.2&nbsp;&nbsp;</span>Prior work/ previous next steps</a></span></li><li><span><a href=\"#Guiding-questions\" data-toc-modified-id=\"Guiding-questions-1.3\"><span class=\"toc-item-num\">1.3&nbsp;&nbsp;</span>Guiding questions</a></span></li><li><span><a href=\"#Key-findings\" data-toc-modified-id=\"Key-findings-1.4\"><span class=\"toc-item-num\">1.4&nbsp;&nbsp;</span>Key findings</a></span></li><li><span><a href=\"#Related-notebooks\" data-toc-modified-id=\"Related-notebooks-1.5\"><span class=\"toc-item-num\">1.5&nbsp;&nbsp;</span>Related notebooks</a></span></li><li><span><a href=\"#Imports-and-configurations\" data-toc-modified-id=\"Imports-and-configurations-1.6\"><span class=\"toc-item-num\">1.6&nbsp;&nbsp;</span>Imports and configurations</a></span><ul class=\"toc-item\"><li><span><a href=\"#Spotify-connection-configuration\" data-toc-modified-id=\"Spotify-connection-configuration-1.6.1\"><span class=\"toc-item-num\">1.6.1&nbsp;&nbsp;</span>Spotify connection configuration</a></span></li></ul></li></ul></li><li><span><a href=\"#Load-and-clean-data\" data-toc-modified-id=\"Load-and-clean-data-2\"><span class=\"toc-item-num\">2&nbsp;&nbsp;</span>Load and clean data</a></span><ul class=\"toc-item\"><li><span><a href=\"#Get-playlists\" data-toc-modified-id=\"Get-playlists-2.1\"><span class=\"toc-item-num\">2.1&nbsp;&nbsp;</span>Get playlists</a></span></li><li><span><a href=\"#Compile-songs-from-across-playlists-and-get-metadata\" data-toc-modified-id=\"Compile-songs-from-across-playlists-and-get-metadata-2.2\"><span class=\"toc-item-num\">2.2&nbsp;&nbsp;</span>Compile songs from across playlists and get metadata</a></span></li><li><span><a href=\"#Get-spotify-audio-features-for-each-song\" data-toc-modified-id=\"Get-spotify-audio-features-for-each-song-2.3\"><span class=\"toc-item-num\">2.3&nbsp;&nbsp;</span>Get spotify audio features for each song</a></span></li><li><span><a href=\"#Merge-audio-features-with-metadata\" data-toc-modified-id=\"Merge-audio-features-with-metadata-2.4\"><span class=\"toc-item-num\">2.4&nbsp;&nbsp;</span>Merge audio features with metadata</a></span></li></ul></li><li><span><a href=\"#Generate-features\" data-toc-modified-id=\"Generate-features-3\"><span class=\"toc-item-num\">3&nbsp;&nbsp;</span>Generate features</a></span></li><li><span><a href=\"#Train-model\" data-toc-modified-id=\"Train-model-4\"><span class=\"toc-item-num\">4&nbsp;&nbsp;</span>Train model</a></span><ul class=\"toc-item\"><li><span><a href=\"#Inertia\" data-toc-modified-id=\"Inertia-4.1\"><span class=\"toc-item-num\">4.1&nbsp;&nbsp;</span>Inertia</a></span></li><li><span><a href=\"#Silhouette-score\" data-toc-modified-id=\"Silhouette-score-4.2\"><span class=\"toc-item-num\">4.2&nbsp;&nbsp;</span>Silhouette score</a></span></li><li><span><a href=\"#Assess-ability-to-train-in-real-time\" data-toc-modified-id=\"Assess-ability-to-train-in-real-time-4.3\"><span class=\"toc-item-num\">4.3&nbsp;&nbsp;</span>Assess ability to train in real-time</a></span></li></ul></li><li><span><a href=\"#Score-model\" data-toc-modified-id=\"Score-model-5\"><span class=\"toc-item-num\">5&nbsp;&nbsp;</span>Score model</a></span><ul class=\"toc-item\"><li><span><a href=\"#Time-to-assess-if-able-to-score-online\" data-toc-modified-id=\"Time-to-assess-if-able-to-score-online-5.1\"><span class=\"toc-item-num\">5.1&nbsp;&nbsp;</span>Time to assess if able to score online</a></span></li></ul></li><li><span><a href=\"#Post-process-and-analyze\" data-toc-modified-id=\"Post-process-and-analyze-6\"><span class=\"toc-item-num\">6&nbsp;&nbsp;</span>Post-process and analyze</a></span><ul class=\"toc-item\"><li><span><a href=\"#Cluster-counts\" data-toc-modified-id=\"Cluster-counts-6.1\"><span class=\"toc-item-num\">6.1&nbsp;&nbsp;</span>Cluster counts</a></span><ul class=\"toc-item\"><li><span><a href=\"#Cluster-4\" data-toc-modified-id=\"Cluster-4-6.1.1\"><span class=\"toc-item-num\">6.1.1&nbsp;&nbsp;</span>Cluster 4</a></span></li><li><span><a href=\"#Cluster-9\" data-toc-modified-id=\"Cluster-9-6.1.2\"><span class=\"toc-item-num\">6.1.2&nbsp;&nbsp;</span>Cluster 9</a></span></li></ul></li></ul></li><li><span><a href=\"#Assess-membership-of-current-music\" data-toc-modified-id=\"Assess-membership-of-current-music-7\"><span class=\"toc-item-num\">7&nbsp;&nbsp;</span>Assess membership of current music</a></span></li><li><span><a href=\"#Conclusions\" data-toc-modified-id=\"Conclusions-8\"><span class=\"toc-item-num\">8&nbsp;&nbsp;</span>Conclusions</a></span><ul class=\"toc-item\"><li><span><a href=\"#Key-findings\" data-toc-modified-id=\"Key-findings-8.1\"><span class=\"toc-item-num\">8.1&nbsp;&nbsp;</span>Key findings</a></span></li><li><span><a href=\"#Next-steps\" data-toc-modified-id=\"Next-steps-8.2\"><span class=\"toc-item-num\">8.2&nbsp;&nbsp;</span>Next steps</a></span></li></ul></li></ul></div>"
   ]
  },
  {
   "cell_type": "markdown",
   "metadata": {},
   "source": [
    "# Introduction"
   ]
  },
  {
   "cell_type": "markdown",
   "metadata": {},
   "source": [
    "## Purpose of this notebook\n",
    "The purpose of this notebook is assess the viability of clustering users songs in playlists on Spotify based on their audio features. "
   ]
  },
  {
   "cell_type": "markdown",
   "metadata": {},
   "source": [
    "## Prior work/ previous next steps"
   ]
  },
  {
   "cell_type": "markdown",
   "metadata": {},
   "source": [
    "Prior work: exploratory data analysis of spotify data\n",
    "\n",
    "Previous next steps: \n",
    "* Build PoC clustering model for spotify data "
   ]
  },
  {
   "cell_type": "markdown",
   "metadata": {},
   "source": [
    "## Guiding questions\n",
    "* How many different clusters of song types are represented by the songs in my playlists? \n",
    "* Which clusters do the I've been listening to recently fall into these clusters? "
   ]
  },
  {
   "cell_type": "markdown",
   "metadata": {},
   "source": [
    "## Key findings\n",
    "* We were able to generate clusters with differentiated characteristics \n",
    "* The clustering was able to isolate songs that are not usually what I like to listen to \n",
    "* The limitation on being able to cluster users data online is the API calls to Spotify. If music meta data were stored  internally, model training would be fast enough to do online\n",
    "* More users should be tested before moving forward"
   ]
  },
  {
   "cell_type": "markdown",
   "metadata": {},
   "source": [
    "## Related notebooks\n",
    "\n",
    "* **Copied from:** N/A\n",
    "* **Purpose of copy:** N/A \n",
    "* **Copied to:** N/A\n",
    "* **Purpose of copy:** N/A\n",
    "* **Related notebooks:** `2018-02-04-spotify-eda.ipynb` "
   ]
  },
  {
   "cell_type": "markdown",
   "metadata": {
    "slideshow": {
     "slide_type": "-"
    }
   },
   "source": [
    "## Imports and configurations"
   ]
  },
  {
   "cell_type": "code",
   "execution_count": 529,
   "metadata": {
    "ExecuteTime": {
     "end_time": "2016-07-19T17:16:32.895394",
     "start_time": "2016-07-19T17:16:29.778542"
    },
    "collapsed": true,
    "run_control": {
     "frozen": false,
     "read_only": false
    },
    "slideshow": {
     "slide_type": "-"
    }
   },
   "outputs": [],
   "source": [
    "%matplotlib inline\n",
    "%config InlineBackend.figure_format='retina'\n",
    "\n",
    "import os\n",
    "import timeit\n",
    "\n",
    "from matplotlib import pyplot as plt\n",
    "import matplotlib as mpl\n",
    "import pandas as pd\n",
    "import numpy as np\n",
    "import seaborn as sns\n",
    "\n",
    "import spotipy\n",
    "import spotipy.util as util\n",
    "\n",
    "import sklearn\n",
    "from sklearn.preprocessing import StandardScaler\n",
    "from sklearn.cluster import AgglomerativeClustering, KMeans"
   ]
  },
  {
   "cell_type": "code",
   "execution_count": 2,
   "metadata": {
    "ExecuteTime": {
     "end_time": "2016-07-13T18:10:32.982291",
     "start_time": "2016-07-13T18:10:32.975796"
    },
    "collapsed": true,
    "run_control": {
     "frozen": false,
     "read_only": false
    }
   },
   "outputs": [],
   "source": [
    "# Update matplotlib defaults to create presentable figures \n",
    "colors = ['#0055A7', '#2C3E4F', '#26C5ED', '#00cc66', \n",
    "          '#D34100', '#FF9700', '#091D32']\n",
    "mpl_update = {'font.size':16,\n",
    "              'xtick.labelsize':14,'ytick.labelsize':14,\n",
    "              'figure.figsize':[12.0, 8.0],\n",
    "              'axes.labelsize':20, 'axes.labelcolor':'#677385',\n",
    "              'axes.titlesize':20, 'lines.color':'#0055A7',\n",
    "              'lines.linewidth':3, 'text.color':'#677385'}\n",
    "mpl.rcParams.update(mpl_update)"
   ]
  },
  {
   "cell_type": "markdown",
   "metadata": {},
   "source": [
    "### Spotify connection configuration"
   ]
  },
  {
   "cell_type": "code",
   "execution_count": 483,
   "metadata": {
    "collapsed": true
   },
   "outputs": [],
   "source": [
    "import spotify_credentials as spot \n",
    "username='chloemawer'\n",
    "scope = 'user-read-recently-played'\n",
    "token = util.prompt_for_user_token(username, scope,\n",
    "                                       client_id=spot.client_id,\n",
    "                                       client_secret=spot.client_secret,\n",
    "                                       redirect_uri='https://example.com/callback')\n",
    "\n",
    "sp = spotipy.Spotify(auth=token)"
   ]
  },
  {
   "cell_type": "markdown",
   "metadata": {},
   "source": [
    "# Load and clean data"
   ]
  },
  {
   "cell_type": "markdown",
   "metadata": {},
   "source": [
    "* **File:** NA \n",
    "* **Description of data:** Each of my spotify playlists, their corresponding tracks, and the audio features provided by Spotify for each track\n",
    "* **Date range covered by data:** November 7, 2011 - February 8, 2018 \n",
    "* **Included population:** Just `@chloemawer`\n",
    "* **Associated query file:** None yet, API call \n",
    "* **Associated query:** See API calls below"
   ]
  },
  {
   "cell_type": "markdown",
   "metadata": {},
   "source": [
    "## Get playlists"
   ]
  },
  {
   "cell_type": "code",
   "execution_count": 46,
   "metadata": {
    "collapsed": true
   },
   "outputs": [],
   "source": [
    "playlists = sp.user_playlists(username)"
   ]
  },
  {
   "cell_type": "markdown",
   "metadata": {},
   "source": [
    "## Compile songs from across playlists and get metadata"
   ]
  },
  {
   "cell_type": "code",
   "execution_count": 484,
   "metadata": {
    "collapsed": true
   },
   "outputs": [],
   "source": [
    "data = []\n",
    "for playlist in playlists['items']:\n",
    "    num_tracks = 100\n",
    "    offset = 0\n",
    "    while num_tracks > 0: \n",
    "        results = sp.user_playlist_tracks(playlist['owner']['id'], playlist['id'],\n",
    "                                   fields=\"items,next\", offset=offset)\n",
    "        total_num_tracks = num_tracks + offset - 100\n",
    "        num_tracks = len(results['items'])\n",
    "        offset += 100\n",
    "        for track in results['items']: \n",
    "            \n",
    "            track = track['track']\n",
    "            artists = []\n",
    "            artist_id = []\n",
    "            for artist in track['artists']:\n",
    "                artists.append(artist['name'])\n",
    "                artist_id.append(artist['id'])\n",
    "\n",
    "            artists = ', '.join(sorted(artists))\n",
    "            artist_id = ', '.join(sorted(artist_id))\n",
    "            album = track['album']['name']\n",
    "            name = track['name']\n",
    "            duration_ms = track['duration_ms']\n",
    "            explicit = track['explicit']\n",
    "            track_number = track['track_number']\n",
    "            spotify_id = track['id']\n",
    "            if 'isrc' in track['external_ids'].keys():\n",
    "                isrc = track['external_ids']['isrc'] \n",
    "            else:\n",
    "                isrc = None\n",
    "\n",
    "            data.append([name, artists, spotify_id, isrc,  artist_id, album, playlist['name'],\n",
    "                         track_number, duration_ms, explicit])   "
   ]
  },
  {
   "cell_type": "code",
   "execution_count": 485,
   "metadata": {
    "collapsed": true
   },
   "outputs": [],
   "source": [
    "songs = pd.DataFrame(data, columns = ['name','artist', 'spotify_id', \n",
    "                                      'isrc', 'artist_id', 'album', \n",
    "                                      'playlist','track_number', \n",
    "                                      'duration_ms', 'explicit'])"
   ]
  },
  {
   "cell_type": "markdown",
   "metadata": {},
   "source": [
    "Total number of songs across playlists"
   ]
  },
  {
   "cell_type": "code",
   "execution_count": 486,
   "metadata": {},
   "outputs": [
    {
     "data": {
      "text/plain": [
       "5993"
      ]
     },
     "execution_count": 486,
     "metadata": {},
     "output_type": "execute_result"
    }
   ],
   "source": [
    "len(songs)"
   ]
  },
  {
   "cell_type": "markdown",
   "metadata": {},
   "source": [
    "Number of unique songs "
   ]
  },
  {
   "cell_type": "code",
   "execution_count": 487,
   "metadata": {
    "scrolled": true
   },
   "outputs": [
    {
     "data": {
      "text/plain": [
       "5447"
      ]
     },
     "execution_count": 487,
     "metadata": {},
     "output_type": "execute_result"
    }
   ],
   "source": [
    "songs.spotify_id.nunique()"
   ]
  },
  {
   "cell_type": "markdown",
   "metadata": {},
   "source": [
    "Check for the number of columns"
   ]
  },
  {
   "cell_type": "code",
   "execution_count": 488,
   "metadata": {},
   "outputs": [
    {
     "data": {
      "text/plain": [
       "10"
      ]
     },
     "execution_count": 488,
     "metadata": {},
     "output_type": "execute_result"
    }
   ],
   "source": [
    "len(songs.columns)"
   ]
  },
  {
   "cell_type": "markdown",
   "metadata": {},
   "source": [
    "Remove duplicate song info"
   ]
  },
  {
   "cell_type": "code",
   "execution_count": 489,
   "metadata": {
    "collapsed": true
   },
   "outputs": [],
   "source": [
    "songs = songs.drop_duplicates('spotify_id')"
   ]
  },
  {
   "cell_type": "code",
   "execution_count": 490,
   "metadata": {},
   "outputs": [
    {
     "data": {
      "text/plain": [
       "5447"
      ]
     },
     "execution_count": 490,
     "metadata": {},
     "output_type": "execute_result"
    }
   ],
   "source": [
    "len(songs)"
   ]
  },
  {
   "cell_type": "markdown",
   "metadata": {},
   "source": [
    "Number of missing values"
   ]
  },
  {
   "cell_type": "code",
   "execution_count": 491,
   "metadata": {},
   "outputs": [
    {
     "data": {
      "text/plain": [
       "1"
      ]
     },
     "execution_count": 491,
     "metadata": {},
     "output_type": "execute_result"
    }
   ],
   "source": [
    "songs.isna().sum().sum()"
   ]
  },
  {
   "cell_type": "markdown",
   "metadata": {},
   "source": [
    "## Get spotify audio features for each song"
   ]
  },
  {
   "cell_type": "code",
   "execution_count": 201,
   "metadata": {
    "collapsed": true
   },
   "outputs": [],
   "source": [
    "audio_features = {}\n",
    "n_calls = np.ceil(len(songs)/100)\n",
    "for j in range(n_calls):\n",
    "    if (j+1)*100 < len(songs):\n",
    "        end = (j+1)*100\n",
    "    else: \n",
    "        end = len(songs)\n",
    "    \n",
    "    spotify_ids = songs['spotify_id'].iloc[j*100:end].values.tolist()\n",
    "    fd = sp.audio_features(spotify_ids) # audio feature dict\n",
    "        \n",
    "    for i in range(len(fd)):\n",
    "        features = [fd[i][x] for x in feature_names]\n",
    "        audio_features[fd[i]['id']] = features"
   ]
  },
  {
   "cell_type": "code",
   "execution_count": 203,
   "metadata": {
    "collapsed": true
   },
   "outputs": [],
   "source": [
    "audio_df = pd.DataFrame(audio_features).T\n",
    "audio_df.columns = feature_names\n",
    "audio_df = audio_df.reset_index()\n",
    "audio_df = audio_df.rename(columns={'index':'spotify_id'})"
   ]
  },
  {
   "cell_type": "markdown",
   "metadata": {},
   "source": [
    "Check for the expected number of songs "
   ]
  },
  {
   "cell_type": "code",
   "execution_count": 492,
   "metadata": {},
   "outputs": [
    {
     "data": {
      "text/plain": [
       "5447"
      ]
     },
     "execution_count": 492,
     "metadata": {},
     "output_type": "execute_result"
    }
   ],
   "source": [
    "len(audio_df)"
   ]
  },
  {
   "cell_type": "markdown",
   "metadata": {},
   "source": [
    "Check for the number of columns"
   ]
  },
  {
   "cell_type": "code",
   "execution_count": 493,
   "metadata": {},
   "outputs": [
    {
     "data": {
      "text/plain": [
       "13"
      ]
     },
     "execution_count": 493,
     "metadata": {},
     "output_type": "execute_result"
    }
   ],
   "source": [
    "len(audio_df.columns)"
   ]
  },
  {
   "cell_type": "markdown",
   "metadata": {},
   "source": [
    "Number of missing values"
   ]
  },
  {
   "cell_type": "code",
   "execution_count": 494,
   "metadata": {},
   "outputs": [
    {
     "data": {
      "text/plain": [
       "0"
      ]
     },
     "execution_count": 494,
     "metadata": {},
     "output_type": "execute_result"
    }
   ],
   "source": [
    "audio_df.isna().sum().sum()"
   ]
  },
  {
   "cell_type": "markdown",
   "metadata": {},
   "source": [
    "Check that it looks as expected"
   ]
  },
  {
   "cell_type": "code",
   "execution_count": 495,
   "metadata": {},
   "outputs": [
    {
     "data": {
      "text/html": [
       "<div>\n",
       "<style scoped>\n",
       "    .dataframe tbody tr th:only-of-type {\n",
       "        vertical-align: middle;\n",
       "    }\n",
       "\n",
       "    .dataframe tbody tr th {\n",
       "        vertical-align: top;\n",
       "    }\n",
       "\n",
       "    .dataframe thead th {\n",
       "        text-align: right;\n",
       "    }\n",
       "</style>\n",
       "<table border=\"1\" class=\"dataframe\">\n",
       "  <thead>\n",
       "    <tr style=\"text-align: right;\">\n",
       "      <th></th>\n",
       "      <th>spotify_id</th>\n",
       "      <th>acousticness</th>\n",
       "      <th>danceability</th>\n",
       "      <th>energy</th>\n",
       "      <th>instrumentalness</th>\n",
       "      <th>key</th>\n",
       "      <th>liveness</th>\n",
       "      <th>loudness</th>\n",
       "      <th>mode</th>\n",
       "      <th>speechiness</th>\n",
       "      <th>tempo</th>\n",
       "      <th>time_signature</th>\n",
       "      <th>valence</th>\n",
       "    </tr>\n",
       "  </thead>\n",
       "  <tbody>\n",
       "    <tr>\n",
       "      <th>0</th>\n",
       "      <td>00AEDXEjxxHywfmpA0iMHe</td>\n",
       "      <td>0.38800</td>\n",
       "      <td>0.676</td>\n",
       "      <td>0.557</td>\n",
       "      <td>0.000045</td>\n",
       "      <td>7.0</td>\n",
       "      <td>0.0623</td>\n",
       "      <td>-5.509</td>\n",
       "      <td>0.0</td>\n",
       "      <td>0.0273</td>\n",
       "      <td>99.955</td>\n",
       "      <td>4.0</td>\n",
       "      <td>0.6610</td>\n",
       "    </tr>\n",
       "    <tr>\n",
       "      <th>1</th>\n",
       "      <td>00BnfL75e8vHSGCmwUWbEk</td>\n",
       "      <td>0.08260</td>\n",
       "      <td>0.597</td>\n",
       "      <td>0.468</td>\n",
       "      <td>0.000007</td>\n",
       "      <td>8.0</td>\n",
       "      <td>0.0774</td>\n",
       "      <td>-9.457</td>\n",
       "      <td>1.0</td>\n",
       "      <td>0.1170</td>\n",
       "      <td>119.555</td>\n",
       "      <td>4.0</td>\n",
       "      <td>0.3530</td>\n",
       "    </tr>\n",
       "    <tr>\n",
       "      <th>2</th>\n",
       "      <td>00RYw42tKwXecTaVay3BKl</td>\n",
       "      <td>0.01880</td>\n",
       "      <td>0.597</td>\n",
       "      <td>0.964</td>\n",
       "      <td>0.000088</td>\n",
       "      <td>4.0</td>\n",
       "      <td>0.1950</td>\n",
       "      <td>-1.386</td>\n",
       "      <td>0.0</td>\n",
       "      <td>0.0450</td>\n",
       "      <td>100.017</td>\n",
       "      <td>4.0</td>\n",
       "      <td>0.1530</td>\n",
       "    </tr>\n",
       "    <tr>\n",
       "      <th>3</th>\n",
       "      <td>00SlXYapXP5KuDarLc2hUJ</td>\n",
       "      <td>0.00794</td>\n",
       "      <td>0.718</td>\n",
       "      <td>0.675</td>\n",
       "      <td>0.002690</td>\n",
       "      <td>1.0</td>\n",
       "      <td>0.0983</td>\n",
       "      <td>-7.099</td>\n",
       "      <td>1.0</td>\n",
       "      <td>0.0381</td>\n",
       "      <td>109.932</td>\n",
       "      <td>4.0</td>\n",
       "      <td>0.0662</td>\n",
       "    </tr>\n",
       "    <tr>\n",
       "      <th>4</th>\n",
       "      <td>00X2yv2vrtritPt2CZnUTZ</td>\n",
       "      <td>0.49100</td>\n",
       "      <td>0.784</td>\n",
       "      <td>0.700</td>\n",
       "      <td>0.000000</td>\n",
       "      <td>7.0</td>\n",
       "      <td>0.1080</td>\n",
       "      <td>-7.649</td>\n",
       "      <td>0.0</td>\n",
       "      <td>0.1080</td>\n",
       "      <td>82.028</td>\n",
       "      <td>4.0</td>\n",
       "      <td>0.7690</td>\n",
       "    </tr>\n",
       "  </tbody>\n",
       "</table>\n",
       "</div>"
      ],
      "text/plain": [
       "               spotify_id  acousticness  danceability  energy  \\\n",
       "0  00AEDXEjxxHywfmpA0iMHe       0.38800         0.676   0.557   \n",
       "1  00BnfL75e8vHSGCmwUWbEk       0.08260         0.597   0.468   \n",
       "2  00RYw42tKwXecTaVay3BKl       0.01880         0.597   0.964   \n",
       "3  00SlXYapXP5KuDarLc2hUJ       0.00794         0.718   0.675   \n",
       "4  00X2yv2vrtritPt2CZnUTZ       0.49100         0.784   0.700   \n",
       "\n",
       "   instrumentalness  key  liveness  loudness  mode  speechiness    tempo  \\\n",
       "0          0.000045  7.0    0.0623    -5.509   0.0       0.0273   99.955   \n",
       "1          0.000007  8.0    0.0774    -9.457   1.0       0.1170  119.555   \n",
       "2          0.000088  4.0    0.1950    -1.386   0.0       0.0450  100.017   \n",
       "3          0.002690  1.0    0.0983    -7.099   1.0       0.0381  109.932   \n",
       "4          0.000000  7.0    0.1080    -7.649   0.0       0.1080   82.028   \n",
       "\n",
       "   time_signature  valence  \n",
       "0             4.0   0.6610  \n",
       "1             4.0   0.3530  \n",
       "2             4.0   0.1530  \n",
       "3             4.0   0.0662  \n",
       "4             4.0   0.7690  "
      ]
     },
     "execution_count": 495,
     "metadata": {},
     "output_type": "execute_result"
    }
   ],
   "source": [
    "audio_df.head()"
   ]
  },
  {
   "cell_type": "markdown",
   "metadata": {},
   "source": [
    "## Merge audio features with metadata "
   ]
  },
  {
   "cell_type": "code",
   "execution_count": 496,
   "metadata": {
    "collapsed": true
   },
   "outputs": [],
   "source": [
    "songs_df = pd.merge(audio_df, songs, on='spotify_id')"
   ]
  },
  {
   "cell_type": "markdown",
   "metadata": {},
   "source": [
    "Number of songs"
   ]
  },
  {
   "cell_type": "code",
   "execution_count": 497,
   "metadata": {},
   "outputs": [
    {
     "data": {
      "text/plain": [
       "5447"
      ]
     },
     "execution_count": 497,
     "metadata": {},
     "output_type": "execute_result"
    }
   ],
   "source": [
    "len(songs_df)"
   ]
  },
  {
   "cell_type": "markdown",
   "metadata": {},
   "source": [
    "Number of unique songs "
   ]
  },
  {
   "cell_type": "code",
   "execution_count": 498,
   "metadata": {},
   "outputs": [
    {
     "data": {
      "text/plain": [
       "5447"
      ]
     },
     "execution_count": 498,
     "metadata": {},
     "output_type": "execute_result"
    }
   ],
   "source": [
    "songs_df.spotify_id.nunique()"
   ]
  },
  {
   "cell_type": "markdown",
   "metadata": {},
   "source": [
    "Number of missing numbers"
   ]
  },
  {
   "cell_type": "code",
   "execution_count": 499,
   "metadata": {},
   "outputs": [
    {
     "data": {
      "text/plain": [
       "1"
      ]
     },
     "execution_count": 499,
     "metadata": {},
     "output_type": "execute_result"
    }
   ],
   "source": [
    "songs_df.isna().sum().sum()"
   ]
  },
  {
   "cell_type": "markdown",
   "metadata": {},
   "source": [
    "Check for the number of columns"
   ]
  },
  {
   "cell_type": "code",
   "execution_count": 500,
   "metadata": {},
   "outputs": [
    {
     "data": {
      "text/plain": [
       "22"
      ]
     },
     "execution_count": 500,
     "metadata": {},
     "output_type": "execute_result"
    }
   ],
   "source": [
    "len(songs_df.columns)"
   ]
  },
  {
   "cell_type": "markdown",
   "metadata": {},
   "source": [
    "Check that it looks as expected"
   ]
  },
  {
   "cell_type": "code",
   "execution_count": 501,
   "metadata": {},
   "outputs": [
    {
     "data": {
      "text/html": [
       "<div>\n",
       "<style scoped>\n",
       "    .dataframe tbody tr th:only-of-type {\n",
       "        vertical-align: middle;\n",
       "    }\n",
       "\n",
       "    .dataframe tbody tr th {\n",
       "        vertical-align: top;\n",
       "    }\n",
       "\n",
       "    .dataframe thead th {\n",
       "        text-align: right;\n",
       "    }\n",
       "</style>\n",
       "<table border=\"1\" class=\"dataframe\">\n",
       "  <thead>\n",
       "    <tr style=\"text-align: right;\">\n",
       "      <th></th>\n",
       "      <th>spotify_id</th>\n",
       "      <th>acousticness</th>\n",
       "      <th>danceability</th>\n",
       "      <th>energy</th>\n",
       "      <th>instrumentalness</th>\n",
       "      <th>key</th>\n",
       "      <th>liveness</th>\n",
       "      <th>loudness</th>\n",
       "      <th>mode</th>\n",
       "      <th>speechiness</th>\n",
       "      <th>...</th>\n",
       "      <th>valence</th>\n",
       "      <th>name</th>\n",
       "      <th>artist</th>\n",
       "      <th>isrc</th>\n",
       "      <th>artist_id</th>\n",
       "      <th>album</th>\n",
       "      <th>playlist</th>\n",
       "      <th>track_number</th>\n",
       "      <th>duration_ms</th>\n",
       "      <th>explicit</th>\n",
       "    </tr>\n",
       "  </thead>\n",
       "  <tbody>\n",
       "    <tr>\n",
       "      <th>0</th>\n",
       "      <td>00AEDXEjxxHywfmpA0iMHe</td>\n",
       "      <td>0.38800</td>\n",
       "      <td>0.676</td>\n",
       "      <td>0.557</td>\n",
       "      <td>0.000045</td>\n",
       "      <td>7.0</td>\n",
       "      <td>0.0623</td>\n",
       "      <td>-5.509</td>\n",
       "      <td>0.0</td>\n",
       "      <td>0.0273</td>\n",
       "      <td>...</td>\n",
       "      <td>0.6610</td>\n",
       "      <td>Ladies Don't Play Guitar</td>\n",
       "      <td>Tennis</td>\n",
       "      <td>US3DF1622458</td>\n",
       "      <td>1ybAN3utgdoUL1MUCtH4QM</td>\n",
       "      <td>Ladies Don't Play Guitar</td>\n",
       "      <td>Coachella 2017</td>\n",
       "      <td>1</td>\n",
       "      <td>224093</td>\n",
       "      <td>False</td>\n",
       "    </tr>\n",
       "    <tr>\n",
       "      <th>1</th>\n",
       "      <td>00BnfL75e8vHSGCmwUWbEk</td>\n",
       "      <td>0.08260</td>\n",
       "      <td>0.597</td>\n",
       "      <td>0.468</td>\n",
       "      <td>0.000007</td>\n",
       "      <td>8.0</td>\n",
       "      <td>0.0774</td>\n",
       "      <td>-9.457</td>\n",
       "      <td>1.0</td>\n",
       "      <td>0.1170</td>\n",
       "      <td>...</td>\n",
       "      <td>0.3530</td>\n",
       "      <td>Diego</td>\n",
       "      <td>Tory Lanez</td>\n",
       "      <td>USUM71600005</td>\n",
       "      <td>2jku7tDXc6XoB6MO2hFuqg</td>\n",
       "      <td>Diego</td>\n",
       "      <td>Coachella 2017</td>\n",
       "      <td>1</td>\n",
       "      <td>242346</td>\n",
       "      <td>True</td>\n",
       "    </tr>\n",
       "    <tr>\n",
       "      <th>2</th>\n",
       "      <td>00RYw42tKwXecTaVay3BKl</td>\n",
       "      <td>0.01880</td>\n",
       "      <td>0.597</td>\n",
       "      <td>0.964</td>\n",
       "      <td>0.000088</td>\n",
       "      <td>4.0</td>\n",
       "      <td>0.1950</td>\n",
       "      <td>-1.386</td>\n",
       "      <td>0.0</td>\n",
       "      <td>0.0450</td>\n",
       "      <td>...</td>\n",
       "      <td>0.1530</td>\n",
       "      <td>Howling At The Moon</td>\n",
       "      <td>Phantogram</td>\n",
       "      <td>USUM71318567</td>\n",
       "      <td>1l9d7B8W0IHy3LqWsxP2SH</td>\n",
       "      <td>Voices</td>\n",
       "      <td>Partial eclipse of the heart</td>\n",
       "      <td>6</td>\n",
       "      <td>238186</td>\n",
       "      <td>False</td>\n",
       "    </tr>\n",
       "    <tr>\n",
       "      <th>3</th>\n",
       "      <td>00SlXYapXP5KuDarLc2hUJ</td>\n",
       "      <td>0.00794</td>\n",
       "      <td>0.718</td>\n",
       "      <td>0.675</td>\n",
       "      <td>0.002690</td>\n",
       "      <td>1.0</td>\n",
       "      <td>0.0983</td>\n",
       "      <td>-7.099</td>\n",
       "      <td>1.0</td>\n",
       "      <td>0.0381</td>\n",
       "      <td>...</td>\n",
       "      <td>0.0662</td>\n",
       "      <td>Retribution</td>\n",
       "      <td>Kehlani, Pusha T</td>\n",
       "      <td>USUM71518576</td>\n",
       "      <td>0ONHkAv9pCAFxb0zJwDNTy, 0cGUm45nv7Z6M6qdXYQGTX</td>\n",
       "      <td>King Push – Darkest Before Dawn: The Prelude</td>\n",
       "      <td>Coachella 2017</td>\n",
       "      <td>8</td>\n",
       "      <td>198560</td>\n",
       "      <td>True</td>\n",
       "    </tr>\n",
       "    <tr>\n",
       "      <th>4</th>\n",
       "      <td>00X2yv2vrtritPt2CZnUTZ</td>\n",
       "      <td>0.49100</td>\n",
       "      <td>0.784</td>\n",
       "      <td>0.700</td>\n",
       "      <td>0.000000</td>\n",
       "      <td>7.0</td>\n",
       "      <td>0.1080</td>\n",
       "      <td>-7.649</td>\n",
       "      <td>0.0</td>\n",
       "      <td>0.1080</td>\n",
       "      <td>...</td>\n",
       "      <td>0.7690</td>\n",
       "      <td>Bené</td>\n",
       "      <td>PNL</td>\n",
       "      <td>FR0U91601096</td>\n",
       "      <td>3NH8t45zOTqzlZgBvZRjvB</td>\n",
       "      <td>Dans la légende</td>\n",
       "      <td>Coachella 2017</td>\n",
       "      <td>13</td>\n",
       "      <td>190066</td>\n",
       "      <td>False</td>\n",
       "    </tr>\n",
       "  </tbody>\n",
       "</table>\n",
       "<p>5 rows × 22 columns</p>\n",
       "</div>"
      ],
      "text/plain": [
       "               spotify_id  acousticness  danceability  energy  \\\n",
       "0  00AEDXEjxxHywfmpA0iMHe       0.38800         0.676   0.557   \n",
       "1  00BnfL75e8vHSGCmwUWbEk       0.08260         0.597   0.468   \n",
       "2  00RYw42tKwXecTaVay3BKl       0.01880         0.597   0.964   \n",
       "3  00SlXYapXP5KuDarLc2hUJ       0.00794         0.718   0.675   \n",
       "4  00X2yv2vrtritPt2CZnUTZ       0.49100         0.784   0.700   \n",
       "\n",
       "   instrumentalness  key  liveness  loudness  mode  speechiness    ...     \\\n",
       "0          0.000045  7.0    0.0623    -5.509   0.0       0.0273    ...      \n",
       "1          0.000007  8.0    0.0774    -9.457   1.0       0.1170    ...      \n",
       "2          0.000088  4.0    0.1950    -1.386   0.0       0.0450    ...      \n",
       "3          0.002690  1.0    0.0983    -7.099   1.0       0.0381    ...      \n",
       "4          0.000000  7.0    0.1080    -7.649   0.0       0.1080    ...      \n",
       "\n",
       "   valence                      name            artist          isrc  \\\n",
       "0   0.6610  Ladies Don't Play Guitar            Tennis  US3DF1622458   \n",
       "1   0.3530                     Diego        Tory Lanez  USUM71600005   \n",
       "2   0.1530       Howling At The Moon        Phantogram  USUM71318567   \n",
       "3   0.0662               Retribution  Kehlani, Pusha T  USUM71518576   \n",
       "4   0.7690                      Bené               PNL  FR0U91601096   \n",
       "\n",
       "                                        artist_id  \\\n",
       "0                          1ybAN3utgdoUL1MUCtH4QM   \n",
       "1                          2jku7tDXc6XoB6MO2hFuqg   \n",
       "2                          1l9d7B8W0IHy3LqWsxP2SH   \n",
       "3  0ONHkAv9pCAFxb0zJwDNTy, 0cGUm45nv7Z6M6qdXYQGTX   \n",
       "4                          3NH8t45zOTqzlZgBvZRjvB   \n",
       "\n",
       "                                          album                      playlist  \\\n",
       "0                      Ladies Don't Play Guitar                Coachella 2017   \n",
       "1                                         Diego                Coachella 2017   \n",
       "2                                        Voices  Partial eclipse of the heart   \n",
       "3  King Push – Darkest Before Dawn: The Prelude                Coachella 2017   \n",
       "4                               Dans la légende                Coachella 2017   \n",
       "\n",
       "  track_number duration_ms  explicit  \n",
       "0            1      224093     False  \n",
       "1            1      242346      True  \n",
       "2            6      238186     False  \n",
       "3            8      198560      True  \n",
       "4           13      190066     False  \n",
       "\n",
       "[5 rows x 22 columns]"
      ]
     },
     "execution_count": 501,
     "metadata": {},
     "output_type": "execute_result"
    }
   ],
   "source": [
    "songs_df.head()"
   ]
  },
  {
   "cell_type": "code",
   "execution_count": 515,
   "metadata": {
    "collapsed": true
   },
   "outputs": [],
   "source": [
    "current_music = songs_df[songs_df.playlist == 'Current music'].copy(deep=True)\n",
    "\n",
    "training_music = songs_df[songs_df.playlist != 'Current music'].copy(deep=True)"
   ]
  },
  {
   "cell_type": "markdown",
   "metadata": {},
   "source": [
    "# Generate features"
   ]
  },
  {
   "cell_type": "code",
   "execution_count": 507,
   "metadata": {
    "collapsed": true
   },
   "outputs": [],
   "source": [
    "feature_names = ['acousticness','danceability','energy','instrumentalness',\n",
    "                'key','liveness','loudness','mode','speechiness','tempo',\n",
    "                'time_signature','valence','duration_ms'] "
   ]
  },
  {
   "cell_type": "markdown",
   "metadata": {},
   "source": [
    "Data must be scaled before being used as a feature in a Kmeans clustering model so that no feature is weighted more heavily in the calculation of the distance metric. "
   ]
  },
  {
   "cell_type": "code",
   "execution_count": 508,
   "metadata": {
    "collapsed": true
   },
   "outputs": [],
   "source": [
    "scaler = StandardScaler()\n",
    "scaled_features = scaler.fit_transform(training_music[feature_names])"
   ]
  },
  {
   "cell_type": "markdown",
   "metadata": {},
   "source": [
    "Check the shape is as expected"
   ]
  },
  {
   "cell_type": "code",
   "execution_count": 509,
   "metadata": {},
   "outputs": [
    {
     "data": {
      "text/plain": [
       "(5296, 13)"
      ]
     },
     "execution_count": 509,
     "metadata": {},
     "output_type": "execute_result"
    }
   ],
   "source": [
    "scaled_features.shape"
   ]
  },
  {
   "cell_type": "markdown",
   "metadata": {},
   "source": [
    "# Train model\n",
    "and choose the number of clusters, $k$"
   ]
  },
  {
   "cell_type": "code",
   "execution_count": 510,
   "metadata": {
    "collapsed": true
   },
   "outputs": [],
   "source": [
    "# To capture performance metrics for assessing optimal number of clusters\n",
    "silhouette = []\n",
    "inertia = []\n",
    "\n",
    "# To capture model objects for each k\n",
    "models = {}\n",
    "\n",
    "# Upper bound for range of k to try \n",
    "kmax = 30\n",
    "for k in range(2, kmax):  \n",
    "    # Create model object\n",
    "    model = KMeans(n_clusters=k, random_state=1218)\n",
    "    \n",
    "    # Train model object\n",
    "    model.fit(scaled_features)\n",
    "    \n",
    "    # Get inertia calculated for trained model \n",
    "    inertia.append(model.inertia_)\n",
    "    \n",
    "    # Calculate silhouette score of trained model\n",
    "    silhouette.append(sklearn.metrics.silhouette_score(scaled_features, model.labels_))\n",
    "    \n",
    "    # Capture trained model object \n",
    "    models[k] = model"
   ]
  },
  {
   "cell_type": "markdown",
   "metadata": {},
   "source": [
    "## Inertia"
   ]
  },
  {
   "cell_type": "code",
   "execution_count": 511,
   "metadata": {},
   "outputs": [
    {
     "data": {
      "image/png": "[encoded data removed]",
      "text/plain": [
       "<matplotlib.figure.Figure at 0x1277633c8>"
      ]
     },
     "metadata": {
      "image/png": {
       "height": 515,
       "width": 761
      }
     },
     "output_type": "display_data"
    }
   ],
   "source": [
    "fig, ax = plt.subplots(figsize=(12,8));\n",
    "ax.scatter(range(2,kmax), inertia);\n",
    "ax.set_xlabel('Number of clusters, $k$');\n",
    "ax.set_ylabel('Inertia');\n",
    "ax.set_title('Inertia vs number of clusters');"
   ]
  },
  {
   "cell_type": "markdown",
   "metadata": {},
   "source": [
    "## Silhouette score"
   ]
  },
  {
   "cell_type": "code",
   "execution_count": 512,
   "metadata": {},
   "outputs": [
    {
     "data": {
      "image/png": "[encoded data removed]",
      "text/plain": [
       "<matplotlib.figure.Figure at 0x1271d5b38>"
      ]
     },
     "metadata": {
      "image/png": {
       "height": 496,
       "width": 748
      }
     },
     "output_type": "display_data"
    }
   ],
   "source": [
    "fig, ax = plt.subplots(figsize=(12,8));\n",
    "ax.scatter(range(2,kmax), silhouette);\n",
    "ax.set_xlabel('Number of clusters, $k$');\n",
    "ax.set_ylabel('Silhouette score');"
   ]
  },
  {
   "cell_type": "markdown",
   "metadata": {},
   "source": [
    "## Assess ability to train in real-time"
   ]
  },
  {
   "cell_type": "code",
   "execution_count": 513,
   "metadata": {
    "collapsed": true
   },
   "outputs": [],
   "source": [
    "k_chosen = 12"
   ]
  },
  {
   "cell_type": "code",
   "execution_count": 544,
   "metadata": {
    "collapsed": true
   },
   "outputs": [],
   "source": [
    "model = KMeans(n_clusters=k_chosen, random_state=1218)\n",
    "\n",
    "%timeit model.fit(scaled_features)"
   ]
  },
  {
   "cell_type": "markdown",
   "metadata": {},
   "source": [
    "<div class=\"alert alert-info\">We choose k = 12 because it is at approximately the elbow of the inertia curve and produces a silhouette score that is better (closer to 1) than the surrounding choices of $k$. </div>"
   ]
  },
  {
   "cell_type": "markdown",
   "metadata": {},
   "source": [
    "# Score model"
   ]
  },
  {
   "cell_type": "markdown",
   "metadata": {},
   "source": [
    "Get labels for each training observation "
   ]
  },
  {
   "cell_type": "code",
   "execution_count": 516,
   "metadata": {
    "collapsed": true
   },
   "outputs": [],
   "source": [
    "training_music[str(k_chosen)] = models[k_chosen].predict(scaled_features)"
   ]
  },
  {
   "cell_type": "code",
   "execution_count": 517,
   "metadata": {
    "collapsed": true
   },
   "outputs": [],
   "source": [
    "scaled_features_current = scaler.transform(current_music[feature_names])\n",
    "current_music[str(k_chosen)] = models[k_chosen].predict(scaled_features_current)"
   ]
  },
  {
   "cell_type": "markdown",
   "metadata": {},
   "source": [
    "## Time to assess if able to score online"
   ]
  },
  {
   "cell_type": "code",
   "execution_count": 538,
   "metadata": {},
   "outputs": [
    {
     "name": "stdout",
     "output_type": "stream",
     "text": [
      "178 µs ± 1.8 µs per loop (mean ± std. dev. of 7 runs, 10000 loops each)\n"
     ]
    }
   ],
   "source": [
    "%timeit models[k_chosen].predict(scaled_features[0].reshape(1,-1))"
   ]
  },
  {
   "cell_type": "markdown",
   "metadata": {},
   "source": [
    "<div class=\"alert alert-warning\">Note: add testing for input shape to predictor. If only a single observation is to be scored, need to reshape.  </div>"
   ]
  },
  {
   "cell_type": "code",
   "execution_count": 531,
   "metadata": {},
   "outputs": [
    {
     "name": "stdout",
     "output_type": "stream",
     "text": [
      "1.7 ms ± 16.4 µs per loop (mean ± std. dev. of 7 runs, 1000 loops each)\n"
     ]
    }
   ],
   "source": [
    "%timeit models[k_chosen].predict(scaled_features)"
   ]
  },
  {
   "cell_type": "markdown",
   "metadata": {},
   "source": [
    "# Post-process and analyze"
   ]
  },
  {
   "cell_type": "code",
   "execution_count": 518,
   "metadata": {
    "collapsed": true
   },
   "outputs": [],
   "source": [
    "cluster_means = training_music.groupby(str(k_chosen))[cluster_features].mean()\n",
    "\n",
    "population_means = training_music[cluster_features].mean()\n",
    "\n",
    "lifts = cluster_means.divide(population_means)"
   ]
  },
  {
   "cell_type": "code",
   "execution_count": 523,
   "metadata": {},
   "outputs": [
    {
     "data": {
      "image/png": "[encoded data removed]",
      "text/plain": [
       "<matplotlib.figure.Figure at 0x12721c2e8>"
      ]
     },
     "metadata": {
      "image/png": {
       "height": 624,
       "width": 957
      }
     },
     "output_type": "display_data"
    }
   ],
   "source": [
    "fig, ax = plt.subplots(figsize=(16, 10))\n",
    "\n",
    "xticklabels = lifts.index.tolist() \n",
    "yticklabels = lifts.columns.tolist()\n",
    "\n",
    "ax = sns.heatmap(lifts.T, center=1, vmax=2.5, cmap=sns.diverging_palette(10, 220, sep=80, n=7),\n",
    "                xticklabels=xticklabels, yticklabels=yticklabels, );\n",
    "ax.set_xlabel('Cluster number');\n",
    "ax.set_title('Lift in cluster features (Cluster mean/population mean)');"
   ]
  },
  {
   "cell_type": "markdown",
   "metadata": {},
   "source": [
    "## Cluster counts"
   ]
  },
  {
   "cell_type": "code",
   "execution_count": 527,
   "metadata": {
    "collapsed": true
   },
   "outputs": [],
   "source": [
    "training_counts = training_music.groupby('12').spotify_id.count()"
   ]
  },
  {
   "cell_type": "code",
   "execution_count": 528,
   "metadata": {},
   "outputs": [
    {
     "data": {
      "text/plain": [
       "12\n",
       "0     0.078550\n",
       "1     0.109705\n",
       "2     0.121224\n",
       "3     0.125566\n",
       "4     0.007364\n",
       "5     0.059479\n",
       "6     0.172961\n",
       "7     0.108006\n",
       "8     0.048716\n",
       "9     0.000189\n",
       "10    0.098376\n",
       "11    0.069864\n",
       "Name: spotify_id, dtype: float64"
      ]
     },
     "execution_count": 528,
     "metadata": {},
     "output_type": "execute_result"
    }
   ],
   "source": [
    "training_counts.divide(len(training_music))"
   ]
  },
  {
   "cell_type": "markdown",
   "metadata": {},
   "source": [
    "### Cluster 4"
   ]
  },
  {
   "cell_type": "markdown",
   "metadata": {},
   "source": [
    "Small cluster - makes sense because it is a playlist that I did not make and had a lot of artists I don't necessarily like. "
   ]
  },
  {
   "cell_type": "code",
   "execution_count": 522,
   "metadata": {
    "scrolled": true
   },
   "outputs": [
    {
     "data": {
      "text/html": [
       "<div>\n",
       "<style scoped>\n",
       "    .dataframe tbody tr th:only-of-type {\n",
       "        vertical-align: middle;\n",
       "    }\n",
       "\n",
       "    .dataframe tbody tr th {\n",
       "        vertical-align: top;\n",
       "    }\n",
       "\n",
       "    .dataframe thead th {\n",
       "        text-align: right;\n",
       "    }\n",
       "</style>\n",
       "<table border=\"1\" class=\"dataframe\">\n",
       "  <thead>\n",
       "    <tr style=\"text-align: right;\">\n",
       "      <th></th>\n",
       "      <th>spotify_id</th>\n",
       "      <th>acousticness</th>\n",
       "      <th>danceability</th>\n",
       "      <th>energy</th>\n",
       "      <th>instrumentalness</th>\n",
       "      <th>key</th>\n",
       "      <th>liveness</th>\n",
       "      <th>loudness</th>\n",
       "      <th>mode</th>\n",
       "      <th>speechiness</th>\n",
       "      <th>...</th>\n",
       "      <th>name</th>\n",
       "      <th>artist</th>\n",
       "      <th>isrc</th>\n",
       "      <th>artist_id</th>\n",
       "      <th>album</th>\n",
       "      <th>playlist</th>\n",
       "      <th>track_number</th>\n",
       "      <th>duration_ms</th>\n",
       "      <th>explicit</th>\n",
       "      <th>12</th>\n",
       "    </tr>\n",
       "  </thead>\n",
       "  <tbody>\n",
       "    <tr>\n",
       "      <th>86</th>\n",
       "      <td>064ZZYIlb6rFjXQtOCu6CB</td>\n",
       "      <td>0.48800</td>\n",
       "      <td>0.7770</td>\n",
       "      <td>0.51100</td>\n",
       "      <td>0.008250</td>\n",
       "      <td>5.0</td>\n",
       "      <td>0.1000</td>\n",
       "      <td>-8.544</td>\n",
       "      <td>0.0</td>\n",
       "      <td>0.0841</td>\n",
       "      <td>...</td>\n",
       "      <td>2 Sails</td>\n",
       "      <td>Thalab</td>\n",
       "      <td>US23A1500308</td>\n",
       "      <td>5G9KNn0wPij85ybA1k2Opo</td>\n",
       "      <td>2 Sails</td>\n",
       "      <td>Old current</td>\n",
       "      <td>1</td>\n",
       "      <td>327278</td>\n",
       "      <td>False</td>\n",
       "      <td>4</td>\n",
       "    </tr>\n",
       "    <tr>\n",
       "      <th>225</th>\n",
       "      <td>0I67c6jPoBxVkUwo02bZnD</td>\n",
       "      <td>0.32600</td>\n",
       "      <td>0.4610</td>\n",
       "      <td>0.24700</td>\n",
       "      <td>0.210000</td>\n",
       "      <td>9.0</td>\n",
       "      <td>0.1090</td>\n",
       "      <td>-13.594</td>\n",
       "      <td>0.0</td>\n",
       "      <td>0.0394</td>\n",
       "      <td>...</td>\n",
       "      <td>History Lesson</td>\n",
       "      <td>Nicolas Jaar</td>\n",
       "      <td>GBWWP1602105</td>\n",
       "      <td>5a0etAzO5V26gvlbmHzT9W</td>\n",
       "      <td>Sirens</td>\n",
       "      <td>Coachella 2017</td>\n",
       "      <td>6</td>\n",
       "      <td>223640</td>\n",
       "      <td>True</td>\n",
       "      <td>4</td>\n",
       "    </tr>\n",
       "    <tr>\n",
       "      <th>280</th>\n",
       "      <td>0NJM6ZBiDoWSiYQAUaGRsg</td>\n",
       "      <td>0.83500</td>\n",
       "      <td>0.3010</td>\n",
       "      <td>0.32100</td>\n",
       "      <td>0.005890</td>\n",
       "      <td>11.0</td>\n",
       "      <td>0.0836</td>\n",
       "      <td>-10.526</td>\n",
       "      <td>0.0</td>\n",
       "      <td>0.0382</td>\n",
       "      <td>...</td>\n",
       "      <td>One Way Or Another</td>\n",
       "      <td>Until The Ribbon Breaks</td>\n",
       "      <td>GB2ME1401189</td>\n",
       "      <td>0PFM64sKw3GG4Sk8kqNIcp</td>\n",
       "      <td>One Way Or Another</td>\n",
       "      <td>Old current</td>\n",
       "      <td>1</td>\n",
       "      <td>254265</td>\n",
       "      <td>False</td>\n",
       "      <td>4</td>\n",
       "    </tr>\n",
       "    <tr>\n",
       "      <th>359</th>\n",
       "      <td>0UPoWqgAcq5Og8PVj61x4S</td>\n",
       "      <td>0.88600</td>\n",
       "      <td>0.3260</td>\n",
       "      <td>0.46100</td>\n",
       "      <td>0.033900</td>\n",
       "      <td>8.0</td>\n",
       "      <td>0.4770</td>\n",
       "      <td>-15.309</td>\n",
       "      <td>1.0</td>\n",
       "      <td>0.1050</td>\n",
       "      <td>...</td>\n",
       "      <td>Wildflower</td>\n",
       "      <td>The Avalanches</td>\n",
       "      <td>AUUM71600219</td>\n",
       "      <td>3C8RpaI3Go0yFF9whvKoED</td>\n",
       "      <td>Wildflower</td>\n",
       "      <td>Coachella 2017</td>\n",
       "      <td>10</td>\n",
       "      <td>74706</td>\n",
       "      <td>True</td>\n",
       "      <td>4</td>\n",
       "    </tr>\n",
       "    <tr>\n",
       "      <th>460</th>\n",
       "      <td>0dcpkFtOU80e8LMPy0EHPD</td>\n",
       "      <td>0.78200</td>\n",
       "      <td>0.3120</td>\n",
       "      <td>0.33100</td>\n",
       "      <td>0.000000</td>\n",
       "      <td>9.0</td>\n",
       "      <td>0.1070</td>\n",
       "      <td>-11.250</td>\n",
       "      <td>1.0</td>\n",
       "      <td>0.0321</td>\n",
       "      <td>...</td>\n",
       "      <td>Angel Down</td>\n",
       "      <td>Lady Gaga</td>\n",
       "      <td>USUM71609739</td>\n",
       "      <td>1HY2Jd0NmPuamShAr6KMms</td>\n",
       "      <td>Joanne (Deluxe)</td>\n",
       "      <td>Coachella 2017</td>\n",
       "      <td>11</td>\n",
       "      <td>229146</td>\n",
       "      <td>False</td>\n",
       "      <td>4</td>\n",
       "    </tr>\n",
       "    <tr>\n",
       "      <th>583</th>\n",
       "      <td>0oLmc8fQESdYRWWbzPBqBS</td>\n",
       "      <td>0.44300</td>\n",
       "      <td>0.7390</td>\n",
       "      <td>0.33300</td>\n",
       "      <td>0.000085</td>\n",
       "      <td>0.0</td>\n",
       "      <td>0.0944</td>\n",
       "      <td>-11.292</td>\n",
       "      <td>0.0</td>\n",
       "      <td>0.2030</td>\n",
       "      <td>...</td>\n",
       "      <td>Stressin'</td>\n",
       "      <td>King Gizzard &amp; The Lizard Wizard</td>\n",
       "      <td>AUDJ01401040</td>\n",
       "      <td>6XYvaoDGE0VmRt83Jss9Sn</td>\n",
       "      <td>Oddments</td>\n",
       "      <td>Coachella 2017</td>\n",
       "      <td>2</td>\n",
       "      <td>176666</td>\n",
       "      <td>False</td>\n",
       "      <td>4</td>\n",
       "    </tr>\n",
       "    <tr>\n",
       "      <th>1021</th>\n",
       "      <td>1QheEzPkqoUQkIPGbG6gkI</td>\n",
       "      <td>0.05610</td>\n",
       "      <td>0.0835</td>\n",
       "      <td>0.02840</td>\n",
       "      <td>0.957000</td>\n",
       "      <td>5.0</td>\n",
       "      <td>0.2670</td>\n",
       "      <td>-35.180</td>\n",
       "      <td>1.0</td>\n",
       "      <td>0.0700</td>\n",
       "      <td>...</td>\n",
       "      <td>Dreaming of the Crash</td>\n",
       "      <td>Hans Zimmer</td>\n",
       "      <td>USNLR1400773</td>\n",
       "      <td>0YC192cP3KPCRWx8zr8MfZ</td>\n",
       "      <td>Interstellar: Original Motion Picture Soundtrack</td>\n",
       "      <td>Coachella 2017</td>\n",
       "      <td>1</td>\n",
       "      <td>235837</td>\n",
       "      <td>False</td>\n",
       "      <td>4</td>\n",
       "    </tr>\n",
       "    <tr>\n",
       "      <th>1030</th>\n",
       "      <td>1Rz58vTzev4MpbJ0eePfqU</td>\n",
       "      <td>0.61100</td>\n",
       "      <td>0.5460</td>\n",
       "      <td>0.64900</td>\n",
       "      <td>0.000000</td>\n",
       "      <td>0.0</td>\n",
       "      <td>0.0642</td>\n",
       "      <td>-4.992</td>\n",
       "      <td>1.0</td>\n",
       "      <td>0.0835</td>\n",
       "      <td>...</td>\n",
       "      <td>Anything Goes</td>\n",
       "      <td>Lady Gaga, Tony Bennett</td>\n",
       "      <td>USUM71410776</td>\n",
       "      <td>1HY2Jd0NmPuamShAr6KMms, 2lolQgalUvZDfp5vvVtTYV</td>\n",
       "      <td>Anything Goes</td>\n",
       "      <td>Coachella 2017</td>\n",
       "      <td>1</td>\n",
       "      <td>123706</td>\n",
       "      <td>False</td>\n",
       "      <td>4</td>\n",
       "    </tr>\n",
       "    <tr>\n",
       "      <th>1191</th>\n",
       "      <td>1eUgL4M7FY274UVIwojVJL</td>\n",
       "      <td>0.36900</td>\n",
       "      <td>0.6120</td>\n",
       "      <td>0.67300</td>\n",
       "      <td>0.078200</td>\n",
       "      <td>0.0</td>\n",
       "      <td>0.1070</td>\n",
       "      <td>-11.483</td>\n",
       "      <td>1.0</td>\n",
       "      <td>0.0423</td>\n",
       "      <td>...</td>\n",
       "      <td>Invest</td>\n",
       "      <td>Big Scary</td>\n",
       "      <td>USBS51300031</td>\n",
       "      <td>4mLYW48jy9Pwv6KpT74Evf</td>\n",
       "      <td>Twin Rivers EP</td>\n",
       "      <td>Old current</td>\n",
       "      <td>3</td>\n",
       "      <td>270706</td>\n",
       "      <td>False</td>\n",
       "      <td>4</td>\n",
       "    </tr>\n",
       "    <tr>\n",
       "      <th>1400</th>\n",
       "      <td>1wJCpDiJeQccXuNguS8umH</td>\n",
       "      <td>0.00489</td>\n",
       "      <td>0.6110</td>\n",
       "      <td>0.84100</td>\n",
       "      <td>0.817000</td>\n",
       "      <td>2.0</td>\n",
       "      <td>0.1070</td>\n",
       "      <td>-7.641</td>\n",
       "      <td>1.0</td>\n",
       "      <td>0.0367</td>\n",
       "      <td>...</td>\n",
       "      <td>Slack</td>\n",
       "      <td>Tycho</td>\n",
       "      <td>US2J71607903</td>\n",
       "      <td>5oOhM2DFWab8XhSdQiITry</td>\n",
       "      <td>Epoch</td>\n",
       "      <td>Coachella 2017</td>\n",
       "      <td>3</td>\n",
       "      <td>251712</td>\n",
       "      <td>False</td>\n",
       "      <td>4</td>\n",
       "    </tr>\n",
       "    <tr>\n",
       "      <th>1447</th>\n",
       "      <td>20rmtxljOGVz4T3nSrtAV1</td>\n",
       "      <td>0.71900</td>\n",
       "      <td>0.1730</td>\n",
       "      <td>0.06830</td>\n",
       "      <td>0.799000</td>\n",
       "      <td>9.0</td>\n",
       "      <td>0.1400</td>\n",
       "      <td>-25.193</td>\n",
       "      <td>1.0</td>\n",
       "      <td>0.0467</td>\n",
       "      <td>...</td>\n",
       "      <td>Elysium</td>\n",
       "      <td>Bruce Fowler, Elizabeth Finch, Gavin Greenaway...</td>\n",
       "      <td>USUMC0000067</td>\n",
       "      <td>03GruNQP8X25PCoWzdvIGZ, 0YC192cP3KPCRWx8zr8MfZ...</td>\n",
       "      <td>Gladiator - Music From The Motion Picture</td>\n",
       "      <td>Coachella 2017</td>\n",
       "      <td>15</td>\n",
       "      <td>161471</td>\n",
       "      <td>False</td>\n",
       "      <td>4</td>\n",
       "    </tr>\n",
       "    <tr>\n",
       "      <th>1483</th>\n",
       "      <td>24RYkVA1FxOhsUIH06NLbb</td>\n",
       "      <td>0.44000</td>\n",
       "      <td>0.2730</td>\n",
       "      <td>0.60700</td>\n",
       "      <td>0.177000</td>\n",
       "      <td>1.0</td>\n",
       "      <td>0.0687</td>\n",
       "      <td>-7.716</td>\n",
       "      <td>1.0</td>\n",
       "      <td>0.0350</td>\n",
       "      <td>...</td>\n",
       "      <td>Crown the Pines</td>\n",
       "      <td>S. Carey</td>\n",
       "      <td>US38Y1424003</td>\n",
       "      <td>2LSJrlndCuTpdEluvYHc2E</td>\n",
       "      <td>Crown the Pines</td>\n",
       "      <td>Instrumental thesis</td>\n",
       "      <td>1</td>\n",
       "      <td>210253</td>\n",
       "      <td>False</td>\n",
       "      <td>4</td>\n",
       "    </tr>\n",
       "    <tr>\n",
       "      <th>1693</th>\n",
       "      <td>2LBoqOhqlbcdfDhbTVVQpM</td>\n",
       "      <td>0.02770</td>\n",
       "      <td>0.1910</td>\n",
       "      <td>0.55500</td>\n",
       "      <td>0.837000</td>\n",
       "      <td>2.0</td>\n",
       "      <td>0.0861</td>\n",
       "      <td>-15.128</td>\n",
       "      <td>0.0</td>\n",
       "      <td>0.0595</td>\n",
       "      <td>...</td>\n",
       "      <td>Is She With You? - Wonder Woman Theme</td>\n",
       "      <td>Hans Zimmer, Junkie XL</td>\n",
       "      <td>USNLR1500897</td>\n",
       "      <td>0YC192cP3KPCRWx8zr8MfZ, 5svDnd8joFhbpbA3Ar0CfN</td>\n",
       "      <td>Batman v Superman: Dawn Of Justice (Original M...</td>\n",
       "      <td>Coachella 2017</td>\n",
       "      <td>11</td>\n",
       "      <td>346743</td>\n",
       "      <td>False</td>\n",
       "      <td>4</td>\n",
       "    </tr>\n",
       "    <tr>\n",
       "      <th>1712</th>\n",
       "      <td>2MLurpPVA4IyIIsAKo2016</td>\n",
       "      <td>0.07580</td>\n",
       "      <td>0.4830</td>\n",
       "      <td>0.50100</td>\n",
       "      <td>0.008600</td>\n",
       "      <td>7.0</td>\n",
       "      <td>0.1420</td>\n",
       "      <td>-9.429</td>\n",
       "      <td>1.0</td>\n",
       "      <td>0.0535</td>\n",
       "      <td>...</td>\n",
       "      <td>Broken Over You</td>\n",
       "      <td>Grace Mitchell</td>\n",
       "      <td>USUM71414999</td>\n",
       "      <td>3VjZEaHXvNbCmV5jc0VfZR</td>\n",
       "      <td>Design</td>\n",
       "      <td>Coachella 2017</td>\n",
       "      <td>2</td>\n",
       "      <td>197773</td>\n",
       "      <td>False</td>\n",
       "      <td>4</td>\n",
       "    </tr>\n",
       "    <tr>\n",
       "      <th>1773</th>\n",
       "      <td>2RDxknE7XXkyZCO2p1WGcJ</td>\n",
       "      <td>0.34600</td>\n",
       "      <td>0.6630</td>\n",
       "      <td>0.31900</td>\n",
       "      <td>0.000043</td>\n",
       "      <td>2.0</td>\n",
       "      <td>0.1010</td>\n",
       "      <td>-12.084</td>\n",
       "      <td>0.0</td>\n",
       "      <td>0.4400</td>\n",
       "      <td>...</td>\n",
       "      <td>Are U There?</td>\n",
       "      <td>Mura Masa</td>\n",
       "      <td>UK8XM1500015</td>\n",
       "      <td>5Q81rlcTFh3k6DQJXPdsot</td>\n",
       "      <td>Someday Somewhere</td>\n",
       "      <td>Coachella 2017</td>\n",
       "      <td>1</td>\n",
       "      <td>160156</td>\n",
       "      <td>False</td>\n",
       "      <td>4</td>\n",
       "    </tr>\n",
       "    <tr>\n",
       "      <th>2028</th>\n",
       "      <td>2nMW1mZmdIt5rZCsX1uh9J</td>\n",
       "      <td>0.33700</td>\n",
       "      <td>0.3470</td>\n",
       "      <td>0.65800</td>\n",
       "      <td>0.036000</td>\n",
       "      <td>11.0</td>\n",
       "      <td>0.3760</td>\n",
       "      <td>-5.492</td>\n",
       "      <td>0.0</td>\n",
       "      <td>0.0308</td>\n",
       "      <td>...</td>\n",
       "      <td>Beach Foam</td>\n",
       "      <td>Future Islands</td>\n",
       "      <td>GBVCE0823007</td>\n",
       "      <td>1WvvwcQx0tj6NdDhZZ2zZz</td>\n",
       "      <td>Wave Like Home</td>\n",
       "      <td>Coachella 2017</td>\n",
       "      <td>7</td>\n",
       "      <td>265373</td>\n",
       "      <td>False</td>\n",
       "      <td>4</td>\n",
       "    </tr>\n",
       "    <tr>\n",
       "      <th>2266</th>\n",
       "      <td>39iLXGXqaWhACt9dJrByVu</td>\n",
       "      <td>0.63400</td>\n",
       "      <td>0.5690</td>\n",
       "      <td>0.29500</td>\n",
       "      <td>0.833000</td>\n",
       "      <td>6.0</td>\n",
       "      <td>0.1250</td>\n",
       "      <td>-11.451</td>\n",
       "      <td>1.0</td>\n",
       "      <td>0.0283</td>\n",
       "      <td>...</td>\n",
       "      <td>Walk - Phaeleh Remix</td>\n",
       "      <td>Ludovico Einaudi, Phaeleh</td>\n",
       "      <td>ITB281300082</td>\n",
       "      <td>2uFUBdaVGtyMqckSeCl0Qj, 5NkUpXWkeXspvu7iQQOHhP</td>\n",
       "      <td>In A Time Lapse - The Remixes</td>\n",
       "      <td>Barely any lyrics</td>\n",
       "      <td>7</td>\n",
       "      <td>308057</td>\n",
       "      <td>False</td>\n",
       "      <td>4</td>\n",
       "    </tr>\n",
       "    <tr>\n",
       "      <th>2336</th>\n",
       "      <td>3GnQOYpmX0fOgeIVLmDSRw</td>\n",
       "      <td>0.07860</td>\n",
       "      <td>0.6600</td>\n",
       "      <td>0.67000</td>\n",
       "      <td>0.909000</td>\n",
       "      <td>1.0</td>\n",
       "      <td>0.0860</td>\n",
       "      <td>-7.958</td>\n",
       "      <td>0.0</td>\n",
       "      <td>0.0314</td>\n",
       "      <td>...</td>\n",
       "      <td>Moon II</td>\n",
       "      <td>Tor</td>\n",
       "      <td>TCABK1288657</td>\n",
       "      <td>4dktzc5hWsQPqmovObGZIG</td>\n",
       "      <td>Drum Therapy</td>\n",
       "      <td>1.13</td>\n",
       "      <td>8</td>\n",
       "      <td>404925</td>\n",
       "      <td>False</td>\n",
       "      <td>4</td>\n",
       "    </tr>\n",
       "    <tr>\n",
       "      <th>2382</th>\n",
       "      <td>3KGIbwuYjwmyZ44JhYURtO</td>\n",
       "      <td>0.36100</td>\n",
       "      <td>0.5660</td>\n",
       "      <td>0.32700</td>\n",
       "      <td>0.000048</td>\n",
       "      <td>2.0</td>\n",
       "      <td>0.0958</td>\n",
       "      <td>-12.199</td>\n",
       "      <td>0.0</td>\n",
       "      <td>0.4710</td>\n",
       "      <td>...</td>\n",
       "      <td>Are U There?</td>\n",
       "      <td>Mura Masa</td>\n",
       "      <td>UK8XM1500015</td>\n",
       "      <td>5Q81rlcTFh3k6DQJXPdsot</td>\n",
       "      <td>Someday Somewhere</td>\n",
       "      <td>Coachella 2017</td>\n",
       "      <td>1</td>\n",
       "      <td>160186</td>\n",
       "      <td>False</td>\n",
       "      <td>4</td>\n",
       "    </tr>\n",
       "    <tr>\n",
       "      <th>2394</th>\n",
       "      <td>3Lr9aRWF57Dd8NsjeWTKNp</td>\n",
       "      <td>0.00428</td>\n",
       "      <td>0.4850</td>\n",
       "      <td>0.90200</td>\n",
       "      <td>0.856000</td>\n",
       "      <td>0.0</td>\n",
       "      <td>0.2810</td>\n",
       "      <td>-7.878</td>\n",
       "      <td>1.0</td>\n",
       "      <td>0.0317</td>\n",
       "      <td>...</td>\n",
       "      <td>Division</td>\n",
       "      <td>Tycho</td>\n",
       "      <td>US2J71607701</td>\n",
       "      <td>5oOhM2DFWab8XhSdQiITry</td>\n",
       "      <td>Epoch</td>\n",
       "      <td>Coachella 2017</td>\n",
       "      <td>6</td>\n",
       "      <td>238744</td>\n",
       "      <td>False</td>\n",
       "      <td>4</td>\n",
       "    </tr>\n",
       "    <tr>\n",
       "      <th>2432</th>\n",
       "      <td>3PqVFIyl9HKjwIYj4E2AnA</td>\n",
       "      <td>0.84900</td>\n",
       "      <td>0.2840</td>\n",
       "      <td>0.45600</td>\n",
       "      <td>0.000127</td>\n",
       "      <td>0.0</td>\n",
       "      <td>0.1300</td>\n",
       "      <td>-9.757</td>\n",
       "      <td>1.0</td>\n",
       "      <td>0.0383</td>\n",
       "      <td>...</td>\n",
       "      <td>You and I</td>\n",
       "      <td>Toro y Moi</td>\n",
       "      <td>US22N1712109</td>\n",
       "      <td>6O4EGCCb6DoIiR6B1QCQgp</td>\n",
       "      <td>Boo Boo</td>\n",
       "      <td>Toro Y Moi – Boo Boo</td>\n",
       "      <td>9</td>\n",
       "      <td>231240</td>\n",
       "      <td>False</td>\n",
       "      <td>4</td>\n",
       "    </tr>\n",
       "    <tr>\n",
       "      <th>2915</th>\n",
       "      <td>46tX5vFRyy43SoszboTUL7</td>\n",
       "      <td>0.05750</td>\n",
       "      <td>0.5880</td>\n",
       "      <td>0.65100</td>\n",
       "      <td>0.066800</td>\n",
       "      <td>8.0</td>\n",
       "      <td>0.3560</td>\n",
       "      <td>-6.179</td>\n",
       "      <td>1.0</td>\n",
       "      <td>0.0372</td>\n",
       "      <td>...</td>\n",
       "      <td>Turning Tides</td>\n",
       "      <td>Apidae</td>\n",
       "      <td>SE22E1500101</td>\n",
       "      <td>2gl2bawanDtOPSmMTZALzD</td>\n",
       "      <td>Turning Tides</td>\n",
       "      <td>Old current</td>\n",
       "      <td>1</td>\n",
       "      <td>253013</td>\n",
       "      <td>False</td>\n",
       "      <td>4</td>\n",
       "    </tr>\n",
       "    <tr>\n",
       "      <th>3151</th>\n",
       "      <td>4Swk8fbE9LaXiveu3EsKeu</td>\n",
       "      <td>0.89000</td>\n",
       "      <td>0.0886</td>\n",
       "      <td>0.38900</td>\n",
       "      <td>0.237000</td>\n",
       "      <td>2.0</td>\n",
       "      <td>0.3770</td>\n",
       "      <td>-10.900</td>\n",
       "      <td>0.0</td>\n",
       "      <td>0.0560</td>\n",
       "      <td>...</td>\n",
       "      <td>After Ed.</td>\n",
       "      <td>Rival Consoles</td>\n",
       "      <td>GBWZD1103111</td>\n",
       "      <td>05lIUgmmsmTX2N9dCKc8rC</td>\n",
       "      <td>Kid Velo</td>\n",
       "      <td>Instrumental thesis</td>\n",
       "      <td>11</td>\n",
       "      <td>200000</td>\n",
       "      <td>False</td>\n",
       "      <td>4</td>\n",
       "    </tr>\n",
       "    <tr>\n",
       "      <th>3166</th>\n",
       "      <td>4V89IXbcngfalUVUm21GNM</td>\n",
       "      <td>0.61200</td>\n",
       "      <td>0.3740</td>\n",
       "      <td>0.08200</td>\n",
       "      <td>0.202000</td>\n",
       "      <td>1.0</td>\n",
       "      <td>0.1110</td>\n",
       "      <td>-11.402</td>\n",
       "      <td>0.0</td>\n",
       "      <td>0.0412</td>\n",
       "      <td>...</td>\n",
       "      <td>About You</td>\n",
       "      <td>xxyyxx</td>\n",
       "      <td>TCACJ1574093</td>\n",
       "      <td>1iqXhsjGeWi2Gje5q0mFYb</td>\n",
       "      <td>Xxyyxx</td>\n",
       "      <td>Barely any lyrics</td>\n",
       "      <td>1</td>\n",
       "      <td>247730</td>\n",
       "      <td>False</td>\n",
       "      <td>4</td>\n",
       "    </tr>\n",
       "    <tr>\n",
       "      <th>3642</th>\n",
       "      <td>5AonmfZT5Xo0sERq5HvHw1</td>\n",
       "      <td>0.58000</td>\n",
       "      <td>0.1950</td>\n",
       "      <td>0.53600</td>\n",
       "      <td>0.095000</td>\n",
       "      <td>0.0</td>\n",
       "      <td>0.1080</td>\n",
       "      <td>-9.498</td>\n",
       "      <td>1.0</td>\n",
       "      <td>0.0422</td>\n",
       "      <td>...</td>\n",
       "      <td>Monthiversary (with RYAT)</td>\n",
       "      <td>Botany, RYAT</td>\n",
       "      <td>US78L1514012</td>\n",
       "      <td>4X8xPTUQoC19tQjPG40M81, 7gVS85jTnXGhDCsr8Jt3Ul</td>\n",
       "      <td>Dimming Awe, The Light Is Raw</td>\n",
       "      <td>Instrumental thesis</td>\n",
       "      <td>12</td>\n",
       "      <td>390134</td>\n",
       "      <td>False</td>\n",
       "      <td>4</td>\n",
       "    </tr>\n",
       "    <tr>\n",
       "      <th>3694</th>\n",
       "      <td>5FQL9Ur9NENmezh6zyG7uh</td>\n",
       "      <td>0.73600</td>\n",
       "      <td>0.5710</td>\n",
       "      <td>0.37300</td>\n",
       "      <td>0.458000</td>\n",
       "      <td>11.0</td>\n",
       "      <td>0.1410</td>\n",
       "      <td>-8.068</td>\n",
       "      <td>1.0</td>\n",
       "      <td>0.3480</td>\n",
       "      <td>...</td>\n",
       "      <td>Lotus Eater</td>\n",
       "      <td>Mura Masa</td>\n",
       "      <td>UK8XM1400009</td>\n",
       "      <td>5Q81rlcTFh3k6DQJXPdsot</td>\n",
       "      <td>Soundtrack to a Death</td>\n",
       "      <td>Coachella 2017</td>\n",
       "      <td>9</td>\n",
       "      <td>145655</td>\n",
       "      <td>False</td>\n",
       "      <td>4</td>\n",
       "    </tr>\n",
       "    <tr>\n",
       "      <th>3770</th>\n",
       "      <td>5MncfieaW8MKTA6Gjtv7mp</td>\n",
       "      <td>0.53000</td>\n",
       "      <td>0.5870</td>\n",
       "      <td>0.65500</td>\n",
       "      <td>0.897000</td>\n",
       "      <td>3.0</td>\n",
       "      <td>0.0758</td>\n",
       "      <td>-7.044</td>\n",
       "      <td>0.0</td>\n",
       "      <td>0.0314</td>\n",
       "      <td>...</td>\n",
       "      <td>Folds</td>\n",
       "      <td>Feverkin, Koresma</td>\n",
       "      <td>usdy41598424</td>\n",
       "      <td>14EybDMySlkntyuxgm1pek, 2AY0TMFBRlygIiGsk2kiOP</td>\n",
       "      <td>Folds</td>\n",
       "      <td>Barely any lyrics</td>\n",
       "      <td>1</td>\n",
       "      <td>212120</td>\n",
       "      <td>False</td>\n",
       "      <td>4</td>\n",
       "    </tr>\n",
       "    <tr>\n",
       "      <th>3850</th>\n",
       "      <td>5UjlctEkEZs5q1DRHNQrSl</td>\n",
       "      <td>0.98600</td>\n",
       "      <td>0.3580</td>\n",
       "      <td>0.45300</td>\n",
       "      <td>0.965000</td>\n",
       "      <td>0.0</td>\n",
       "      <td>0.1460</td>\n",
       "      <td>-11.128</td>\n",
       "      <td>1.0</td>\n",
       "      <td>0.1230</td>\n",
       "      <td>...</td>\n",
       "      <td>Organ Ronald Donkey Water</td>\n",
       "      <td>Mac DeMarco</td>\n",
       "      <td>QMMZN1300703</td>\n",
       "      <td>3Sz7ZnJQBIHsXLUSo0OQtM</td>\n",
       "      <td>Salad Days Demos</td>\n",
       "      <td>Coachella 2017</td>\n",
       "      <td>5</td>\n",
       "      <td>173309</td>\n",
       "      <td>False</td>\n",
       "      <td>4</td>\n",
       "    </tr>\n",
       "    <tr>\n",
       "      <th>3911</th>\n",
       "      <td>5ZliOt0Ze2Xh0tDkV2OpV9</td>\n",
       "      <td>0.95300</td>\n",
       "      <td>0.0000</td>\n",
       "      <td>0.09040</td>\n",
       "      <td>0.000187</td>\n",
       "      <td>1.0</td>\n",
       "      <td>0.1030</td>\n",
       "      <td>-16.261</td>\n",
       "      <td>0.0</td>\n",
       "      <td>0.0000</td>\n",
       "      <td>...</td>\n",
       "      <td>Painter - Valentine</td>\n",
       "      <td>Låpsley</td>\n",
       "      <td>FR4GL1113743</td>\n",
       "      <td>27ze6hCgfr3HcDZAHY60pg</td>\n",
       "      <td>Station</td>\n",
       "      <td>Old current</td>\n",
       "      <td>2</td>\n",
       "      <td>189326</td>\n",
       "      <td>False</td>\n",
       "      <td>4</td>\n",
       "    </tr>\n",
       "    <tr>\n",
       "      <th>3943</th>\n",
       "      <td>5czVBtQMKXLZbspJFi0YO6</td>\n",
       "      <td>0.38000</td>\n",
       "      <td>0.3670</td>\n",
       "      <td>0.42000</td>\n",
       "      <td>0.812000</td>\n",
       "      <td>10.0</td>\n",
       "      <td>0.0816</td>\n",
       "      <td>-12.527</td>\n",
       "      <td>1.0</td>\n",
       "      <td>0.1440</td>\n",
       "      <td>...</td>\n",
       "      <td>When The Rain Falls</td>\n",
       "      <td>Mike Monday</td>\n",
       "      <td>GBNGE0601010</td>\n",
       "      <td>2RgG6fm1Vqpm3y7XMzGSyt</td>\n",
       "      <td>Smorgasbord</td>\n",
       "      <td>Old current</td>\n",
       "      <td>10</td>\n",
       "      <td>203533</td>\n",
       "      <td>False</td>\n",
       "      <td>4</td>\n",
       "    </tr>\n",
       "    <tr>\n",
       "      <th>4053</th>\n",
       "      <td>5oXlgW24ELS0P5YkAQcrko</td>\n",
       "      <td>0.99300</td>\n",
       "      <td>0.0000</td>\n",
       "      <td>0.00834</td>\n",
       "      <td>0.936000</td>\n",
       "      <td>1.0</td>\n",
       "      <td>0.1950</td>\n",
       "      <td>-23.201</td>\n",
       "      <td>1.0</td>\n",
       "      <td>0.0000</td>\n",
       "      <td>...</td>\n",
       "      <td>Small Memory</td>\n",
       "      <td>Jon Hopkins</td>\n",
       "      <td>GBDDN0800296</td>\n",
       "      <td>7yxi31szvlbwvKq9dYOmFI</td>\n",
       "      <td>Insides</td>\n",
       "      <td>Instrumental thesis</td>\n",
       "      <td>8</td>\n",
       "      <td>100946</td>\n",
       "      <td>False</td>\n",
       "      <td>4</td>\n",
       "    </tr>\n",
       "    <tr>\n",
       "      <th>4521</th>\n",
       "      <td>6VJ3YrVL1jNyxx87gRBZOX</td>\n",
       "      <td>0.91600</td>\n",
       "      <td>0.1850</td>\n",
       "      <td>0.22000</td>\n",
       "      <td>0.108000</td>\n",
       "      <td>1.0</td>\n",
       "      <td>0.1130</td>\n",
       "      <td>-12.074</td>\n",
       "      <td>1.0</td>\n",
       "      <td>0.0406</td>\n",
       "      <td>...</td>\n",
       "      <td>A Photograph</td>\n",
       "      <td>Dream Koala, Superpoze</td>\n",
       "      <td>FR9W11623488</td>\n",
       "      <td>0tWnElR8nnWIsopg1o3xmg, 1iQhd9xO2v82j0dBbt4tHz</td>\n",
       "      <td>For We the Living</td>\n",
       "      <td>Slow</td>\n",
       "      <td>7</td>\n",
       "      <td>280240</td>\n",
       "      <td>False</td>\n",
       "      <td>4</td>\n",
       "    </tr>\n",
       "    <tr>\n",
       "      <th>4588</th>\n",
       "      <td>6ZstmXFnUD4nuIDooSk6ce</td>\n",
       "      <td>0.03590</td>\n",
       "      <td>0.6060</td>\n",
       "      <td>0.83400</td>\n",
       "      <td>0.790000</td>\n",
       "      <td>0.0</td>\n",
       "      <td>0.1260</td>\n",
       "      <td>-11.741</td>\n",
       "      <td>1.0</td>\n",
       "      <td>0.0495</td>\n",
       "      <td>...</td>\n",
       "      <td>Drifting</td>\n",
       "      <td>Phutureprimitive</td>\n",
       "      <td>USE6Q1100017</td>\n",
       "      <td>7dSn0mEhOoCO7TA8biZRq6</td>\n",
       "      <td>Sub Conscious</td>\n",
       "      <td>Instrumental thesis</td>\n",
       "      <td>7</td>\n",
       "      <td>492453</td>\n",
       "      <td>False</td>\n",
       "      <td>4</td>\n",
       "    </tr>\n",
       "    <tr>\n",
       "      <th>4685</th>\n",
       "      <td>6ilAaPHhxDFaaNS65fzQwF</td>\n",
       "      <td>0.15300</td>\n",
       "      <td>0.5260</td>\n",
       "      <td>0.48900</td>\n",
       "      <td>0.103000</td>\n",
       "      <td>1.0</td>\n",
       "      <td>0.1350</td>\n",
       "      <td>-6.249</td>\n",
       "      <td>0.0</td>\n",
       "      <td>0.2200</td>\n",
       "      <td>...</td>\n",
       "      <td>Work This Time</td>\n",
       "      <td>King Gizzard &amp; The Lizard Wizard</td>\n",
       "      <td>AUDJ01401042</td>\n",
       "      <td>6XYvaoDGE0VmRt83Jss9Sn</td>\n",
       "      <td>Oddments</td>\n",
       "      <td>Coachella 2017</td>\n",
       "      <td>5</td>\n",
       "      <td>276893</td>\n",
       "      <td>False</td>\n",
       "      <td>4</td>\n",
       "    </tr>\n",
       "    <tr>\n",
       "      <th>4889</th>\n",
       "      <td>71GOBk9Dj0NEYNLzLCX4Sq</td>\n",
       "      <td>0.79600</td>\n",
       "      <td>0.5640</td>\n",
       "      <td>0.42300</td>\n",
       "      <td>0.000000</td>\n",
       "      <td>2.0</td>\n",
       "      <td>0.0945</td>\n",
       "      <td>-10.888</td>\n",
       "      <td>0.0</td>\n",
       "      <td>0.1160</td>\n",
       "      <td>...</td>\n",
       "      <td>21 Gun Salute (feat. Wretch 32) - Interlude</td>\n",
       "      <td>Stormzy, Wretch 32</td>\n",
       "      <td>UKJ4A1700010</td>\n",
       "      <td>0T2sGLJKge2eaFmZJxX7sq, 2SrSdSvpminqmStGELCSNd</td>\n",
       "      <td>Gang Signs &amp; Prayer</td>\n",
       "      <td>Coachella 2017</td>\n",
       "      <td>9</td>\n",
       "      <td>146254</td>\n",
       "      <td>True</td>\n",
       "      <td>4</td>\n",
       "    </tr>\n",
       "    <tr>\n",
       "      <th>5182</th>\n",
       "      <td>7ddXYLA5CBEgQA7KbqWJIb</td>\n",
       "      <td>0.15300</td>\n",
       "      <td>0.5960</td>\n",
       "      <td>0.68300</td>\n",
       "      <td>0.180000</td>\n",
       "      <td>5.0</td>\n",
       "      <td>0.1490</td>\n",
       "      <td>-6.032</td>\n",
       "      <td>0.0</td>\n",
       "      <td>0.0605</td>\n",
       "      <td>...</td>\n",
       "      <td>Higher</td>\n",
       "      <td>Raury, SBTRKT</td>\n",
       "      <td>GBBKS1400205</td>\n",
       "      <td>1O10apSOoAPjOu6UhUNmeI, 2PU4qFehXQF7WnlFsJpBiJ</td>\n",
       "      <td>Wonder Where We Land</td>\n",
       "      <td>Coachella 2017</td>\n",
       "      <td>4</td>\n",
       "      <td>253965</td>\n",
       "      <td>True</td>\n",
       "      <td>4</td>\n",
       "    </tr>\n",
       "    <tr>\n",
       "      <th>5191</th>\n",
       "      <td>7e1PYNytrRlaaRnYlu3NZ0</td>\n",
       "      <td>0.71100</td>\n",
       "      <td>0.4230</td>\n",
       "      <td>0.27800</td>\n",
       "      <td>0.603000</td>\n",
       "      <td>8.0</td>\n",
       "      <td>0.1110</td>\n",
       "      <td>-13.018</td>\n",
       "      <td>0.0</td>\n",
       "      <td>0.0358</td>\n",
       "      <td>...</td>\n",
       "      <td>Going Home</td>\n",
       "      <td>Ásgeir</td>\n",
       "      <td>GBBTF1300147</td>\n",
       "      <td>7xUZ4069zcyBM4Bn10NQ1c</td>\n",
       "      <td>In The Silence</td>\n",
       "      <td>Old current</td>\n",
       "      <td>7</td>\n",
       "      <td>290890</td>\n",
       "      <td>False</td>\n",
       "      <td>4</td>\n",
       "    </tr>\n",
       "    <tr>\n",
       "      <th>5265</th>\n",
       "      <td>7kgOI3SwAdBTm6Q2navWFB</td>\n",
       "      <td>0.00112</td>\n",
       "      <td>0.7050</td>\n",
       "      <td>0.54100</td>\n",
       "      <td>0.882000</td>\n",
       "      <td>4.0</td>\n",
       "      <td>0.1310</td>\n",
       "      <td>-9.687</td>\n",
       "      <td>0.0</td>\n",
       "      <td>0.0652</td>\n",
       "      <td>...</td>\n",
       "      <td>Weaver</td>\n",
       "      <td>Lusine</td>\n",
       "      <td>US2J70605702</td>\n",
       "      <td>2fMe9lZs5HGGOwh8cMSIub</td>\n",
       "      <td>Lucky Numbers: The Ghostly International EPs</td>\n",
       "      <td>Instrumental thesis</td>\n",
       "      <td>10</td>\n",
       "      <td>328786</td>\n",
       "      <td>False</td>\n",
       "      <td>4</td>\n",
       "    </tr>\n",
       "    <tr>\n",
       "      <th>5401</th>\n",
       "      <td>7vxz7zMvdxhsB8CDiN95ec</td>\n",
       "      <td>0.12200</td>\n",
       "      <td>0.2810</td>\n",
       "      <td>0.47000</td>\n",
       "      <td>0.010600</td>\n",
       "      <td>8.0</td>\n",
       "      <td>0.1020</td>\n",
       "      <td>-15.102</td>\n",
       "      <td>0.0</td>\n",
       "      <td>0.0691</td>\n",
       "      <td>...</td>\n",
       "      <td>Swift Code</td>\n",
       "      <td>Christian Löffler, Marcus Roloff</td>\n",
       "      <td>DEU671201380</td>\n",
       "      <td>1tSfw9JqNOKJmRzxXioK8w, 3tSvlEzeDnVbQJBTkIA6nO</td>\n",
       "      <td>A Forest</td>\n",
       "      <td>Christian Loffler</td>\n",
       "      <td>10</td>\n",
       "      <td>264394</td>\n",
       "      <td>False</td>\n",
       "      <td>4</td>\n",
       "    </tr>\n",
       "  </tbody>\n",
       "</table>\n",
       "<p>39 rows × 23 columns</p>\n",
       "</div>"
      ],
      "text/plain": [
       "                  spotify_id  acousticness  danceability   energy  \\\n",
       "86    064ZZYIlb6rFjXQtOCu6CB       0.48800        0.7770  0.51100   \n",
       "225   0I67c6jPoBxVkUwo02bZnD       0.32600        0.4610  0.24700   \n",
       "280   0NJM6ZBiDoWSiYQAUaGRsg       0.83500        0.3010  0.32100   \n",
       "359   0UPoWqgAcq5Og8PVj61x4S       0.88600        0.3260  0.46100   \n",
       "460   0dcpkFtOU80e8LMPy0EHPD       0.78200        0.3120  0.33100   \n",
       "583   0oLmc8fQESdYRWWbzPBqBS       0.44300        0.7390  0.33300   \n",
       "1021  1QheEzPkqoUQkIPGbG6gkI       0.05610        0.0835  0.02840   \n",
       "1030  1Rz58vTzev4MpbJ0eePfqU       0.61100        0.5460  0.64900   \n",
       "1191  1eUgL4M7FY274UVIwojVJL       0.36900        0.6120  0.67300   \n",
       "1400  1wJCpDiJeQccXuNguS8umH       0.00489        0.6110  0.84100   \n",
       "1447  20rmtxljOGVz4T3nSrtAV1       0.71900        0.1730  0.06830   \n",
       "1483  24RYkVA1FxOhsUIH06NLbb       0.44000        0.2730  0.60700   \n",
       "1693  2LBoqOhqlbcdfDhbTVVQpM       0.02770        0.1910  0.55500   \n",
       "1712  2MLurpPVA4IyIIsAKo2016       0.07580        0.4830  0.50100   \n",
       "1773  2RDxknE7XXkyZCO2p1WGcJ       0.34600        0.6630  0.31900   \n",
       "2028  2nMW1mZmdIt5rZCsX1uh9J       0.33700        0.3470  0.65800   \n",
       "2266  39iLXGXqaWhACt9dJrByVu       0.63400        0.5690  0.29500   \n",
       "2336  3GnQOYpmX0fOgeIVLmDSRw       0.07860        0.6600  0.67000   \n",
       "2382  3KGIbwuYjwmyZ44JhYURtO       0.36100        0.5660  0.32700   \n",
       "2394  3Lr9aRWF57Dd8NsjeWTKNp       0.00428        0.4850  0.90200   \n",
       "2432  3PqVFIyl9HKjwIYj4E2AnA       0.84900        0.2840  0.45600   \n",
       "2915  46tX5vFRyy43SoszboTUL7       0.05750        0.5880  0.65100   \n",
       "3151  4Swk8fbE9LaXiveu3EsKeu       0.89000        0.0886  0.38900   \n",
       "3166  4V89IXbcngfalUVUm21GNM       0.61200        0.3740  0.08200   \n",
       "3642  5AonmfZT5Xo0sERq5HvHw1       0.58000        0.1950  0.53600   \n",
       "3694  5FQL9Ur9NENmezh6zyG7uh       0.73600        0.5710  0.37300   \n",
       "3770  5MncfieaW8MKTA6Gjtv7mp       0.53000        0.5870  0.65500   \n",
       "3850  5UjlctEkEZs5q1DRHNQrSl       0.98600        0.3580  0.45300   \n",
       "3911  5ZliOt0Ze2Xh0tDkV2OpV9       0.95300        0.0000  0.09040   \n",
       "3943  5czVBtQMKXLZbspJFi0YO6       0.38000        0.3670  0.42000   \n",
       "4053  5oXlgW24ELS0P5YkAQcrko       0.99300        0.0000  0.00834   \n",
       "4521  6VJ3YrVL1jNyxx87gRBZOX       0.91600        0.1850  0.22000   \n",
       "4588  6ZstmXFnUD4nuIDooSk6ce       0.03590        0.6060  0.83400   \n",
       "4685  6ilAaPHhxDFaaNS65fzQwF       0.15300        0.5260  0.48900   \n",
       "4889  71GOBk9Dj0NEYNLzLCX4Sq       0.79600        0.5640  0.42300   \n",
       "5182  7ddXYLA5CBEgQA7KbqWJIb       0.15300        0.5960  0.68300   \n",
       "5191  7e1PYNytrRlaaRnYlu3NZ0       0.71100        0.4230  0.27800   \n",
       "5265  7kgOI3SwAdBTm6Q2navWFB       0.00112        0.7050  0.54100   \n",
       "5401  7vxz7zMvdxhsB8CDiN95ec       0.12200        0.2810  0.47000   \n",
       "\n",
       "      instrumentalness   key  liveness  loudness  mode  speechiness ...  \\\n",
       "86            0.008250   5.0    0.1000    -8.544   0.0       0.0841 ...   \n",
       "225           0.210000   9.0    0.1090   -13.594   0.0       0.0394 ...   \n",
       "280           0.005890  11.0    0.0836   -10.526   0.0       0.0382 ...   \n",
       "359           0.033900   8.0    0.4770   -15.309   1.0       0.1050 ...   \n",
       "460           0.000000   9.0    0.1070   -11.250   1.0       0.0321 ...   \n",
       "583           0.000085   0.0    0.0944   -11.292   0.0       0.2030 ...   \n",
       "1021          0.957000   5.0    0.2670   -35.180   1.0       0.0700 ...   \n",
       "1030          0.000000   0.0    0.0642    -4.992   1.0       0.0835 ...   \n",
       "1191          0.078200   0.0    0.1070   -11.483   1.0       0.0423 ...   \n",
       "1400          0.817000   2.0    0.1070    -7.641   1.0       0.0367 ...   \n",
       "1447          0.799000   9.0    0.1400   -25.193   1.0       0.0467 ...   \n",
       "1483          0.177000   1.0    0.0687    -7.716   1.0       0.0350 ...   \n",
       "1693          0.837000   2.0    0.0861   -15.128   0.0       0.0595 ...   \n",
       "1712          0.008600   7.0    0.1420    -9.429   1.0       0.0535 ...   \n",
       "1773          0.000043   2.0    0.1010   -12.084   0.0       0.4400 ...   \n",
       "2028          0.036000  11.0    0.3760    -5.492   0.0       0.0308 ...   \n",
       "2266          0.833000   6.0    0.1250   -11.451   1.0       0.0283 ...   \n",
       "2336          0.909000   1.0    0.0860    -7.958   0.0       0.0314 ...   \n",
       "2382          0.000048   2.0    0.0958   -12.199   0.0       0.4710 ...   \n",
       "2394          0.856000   0.0    0.2810    -7.878   1.0       0.0317 ...   \n",
       "2432          0.000127   0.0    0.1300    -9.757   1.0       0.0383 ...   \n",
       "2915          0.066800   8.0    0.3560    -6.179   1.0       0.0372 ...   \n",
       "3151          0.237000   2.0    0.3770   -10.900   0.0       0.0560 ...   \n",
       "3166          0.202000   1.0    0.1110   -11.402   0.0       0.0412 ...   \n",
       "3642          0.095000   0.0    0.1080    -9.498   1.0       0.0422 ...   \n",
       "3694          0.458000  11.0    0.1410    -8.068   1.0       0.3480 ...   \n",
       "3770          0.897000   3.0    0.0758    -7.044   0.0       0.0314 ...   \n",
       "3850          0.965000   0.0    0.1460   -11.128   1.0       0.1230 ...   \n",
       "3911          0.000187   1.0    0.1030   -16.261   0.0       0.0000 ...   \n",
       "3943          0.812000  10.0    0.0816   -12.527   1.0       0.1440 ...   \n",
       "4053          0.936000   1.0    0.1950   -23.201   1.0       0.0000 ...   \n",
       "4521          0.108000   1.0    0.1130   -12.074   1.0       0.0406 ...   \n",
       "4588          0.790000   0.0    0.1260   -11.741   1.0       0.0495 ...   \n",
       "4685          0.103000   1.0    0.1350    -6.249   0.0       0.2200 ...   \n",
       "4889          0.000000   2.0    0.0945   -10.888   0.0       0.1160 ...   \n",
       "5182          0.180000   5.0    0.1490    -6.032   0.0       0.0605 ...   \n",
       "5191          0.603000   8.0    0.1110   -13.018   0.0       0.0358 ...   \n",
       "5265          0.882000   4.0    0.1310    -9.687   0.0       0.0652 ...   \n",
       "5401          0.010600   8.0    0.1020   -15.102   0.0       0.0691 ...   \n",
       "\n",
       "                                             name  \\\n",
       "86                                        2 Sails   \n",
       "225                                History Lesson   \n",
       "280                            One Way Or Another   \n",
       "359                                    Wildflower   \n",
       "460                                    Angel Down   \n",
       "583                                     Stressin'   \n",
       "1021                        Dreaming of the Crash   \n",
       "1030                                Anything Goes   \n",
       "1191                                       Invest   \n",
       "1400                                        Slack   \n",
       "1447                                      Elysium   \n",
       "1483                              Crown the Pines   \n",
       "1693        Is She With You? - Wonder Woman Theme   \n",
       "1712                              Broken Over You   \n",
       "1773                                 Are U There?   \n",
       "2028                                   Beach Foam   \n",
       "2266                         Walk - Phaeleh Remix   \n",
       "2336                                      Moon II   \n",
       "2382                                 Are U There?   \n",
       "2394                                     Division   \n",
       "2432                                    You and I   \n",
       "2915                                Turning Tides   \n",
       "3151                                    After Ed.   \n",
       "3166                                    About You   \n",
       "3642                    Monthiversary (with RYAT)   \n",
       "3694                                  Lotus Eater   \n",
       "3770                                        Folds   \n",
       "3850                    Organ Ronald Donkey Water   \n",
       "3911                          Painter - Valentine   \n",
       "3943                          When The Rain Falls   \n",
       "4053                                 Small Memory   \n",
       "4521                                 A Photograph   \n",
       "4588                                     Drifting   \n",
       "4685                               Work This Time   \n",
       "4889  21 Gun Salute (feat. Wretch 32) - Interlude   \n",
       "5182                                       Higher   \n",
       "5191                                   Going Home   \n",
       "5265                                       Weaver   \n",
       "5401                                   Swift Code   \n",
       "\n",
       "                                                 artist          isrc  \\\n",
       "86                                               Thalab  US23A1500308   \n",
       "225                                        Nicolas Jaar  GBWWP1602105   \n",
       "280                             Until The Ribbon Breaks  GB2ME1401189   \n",
       "359                                      The Avalanches  AUUM71600219   \n",
       "460                                           Lady Gaga  USUM71609739   \n",
       "583                    King Gizzard & The Lizard Wizard  AUDJ01401040   \n",
       "1021                                        Hans Zimmer  USNLR1400773   \n",
       "1030                            Lady Gaga, Tony Bennett  USUM71410776   \n",
       "1191                                          Big Scary  USBS51300031   \n",
       "1400                                              Tycho  US2J71607903   \n",
       "1447  Bruce Fowler, Elizabeth Finch, Gavin Greenaway...  USUMC0000067   \n",
       "1483                                           S. Carey  US38Y1424003   \n",
       "1693                             Hans Zimmer, Junkie XL  USNLR1500897   \n",
       "1712                                     Grace Mitchell  USUM71414999   \n",
       "1773                                          Mura Masa  UK8XM1500015   \n",
       "2028                                     Future Islands  GBVCE0823007   \n",
       "2266                          Ludovico Einaudi, Phaeleh  ITB281300082   \n",
       "2336                                                Tor  TCABK1288657   \n",
       "2382                                          Mura Masa  UK8XM1500015   \n",
       "2394                                              Tycho  US2J71607701   \n",
       "2432                                         Toro y Moi  US22N1712109   \n",
       "2915                                             Apidae  SE22E1500101   \n",
       "3151                                     Rival Consoles  GBWZD1103111   \n",
       "3166                                             xxyyxx  TCACJ1574093   \n",
       "3642                                       Botany, RYAT  US78L1514012   \n",
       "3694                                          Mura Masa  UK8XM1400009   \n",
       "3770                                  Feverkin, Koresma  usdy41598424   \n",
       "3850                                        Mac DeMarco  QMMZN1300703   \n",
       "3911                                            Låpsley  FR4GL1113743   \n",
       "3943                                        Mike Monday  GBNGE0601010   \n",
       "4053                                        Jon Hopkins  GBDDN0800296   \n",
       "4521                             Dream Koala, Superpoze  FR9W11623488   \n",
       "4588                                   Phutureprimitive  USE6Q1100017   \n",
       "4685                   King Gizzard & The Lizard Wizard  AUDJ01401042   \n",
       "4889                                 Stormzy, Wretch 32  UKJ4A1700010   \n",
       "5182                                      Raury, SBTRKT  GBBKS1400205   \n",
       "5191                                             Ásgeir  GBBTF1300147   \n",
       "5265                                             Lusine  US2J70605702   \n",
       "5401                   Christian Löffler, Marcus Roloff  DEU671201380   \n",
       "\n",
       "                                              artist_id  \\\n",
       "86                               5G9KNn0wPij85ybA1k2Opo   \n",
       "225                              5a0etAzO5V26gvlbmHzT9W   \n",
       "280                              0PFM64sKw3GG4Sk8kqNIcp   \n",
       "359                              3C8RpaI3Go0yFF9whvKoED   \n",
       "460                              1HY2Jd0NmPuamShAr6KMms   \n",
       "583                              6XYvaoDGE0VmRt83Jss9Sn   \n",
       "1021                             0YC192cP3KPCRWx8zr8MfZ   \n",
       "1030     1HY2Jd0NmPuamShAr6KMms, 2lolQgalUvZDfp5vvVtTYV   \n",
       "1191                             4mLYW48jy9Pwv6KpT74Evf   \n",
       "1400                             5oOhM2DFWab8XhSdQiITry   \n",
       "1447  03GruNQP8X25PCoWzdvIGZ, 0YC192cP3KPCRWx8zr8MfZ...   \n",
       "1483                             2LSJrlndCuTpdEluvYHc2E   \n",
       "1693     0YC192cP3KPCRWx8zr8MfZ, 5svDnd8joFhbpbA3Ar0CfN   \n",
       "1712                             3VjZEaHXvNbCmV5jc0VfZR   \n",
       "1773                             5Q81rlcTFh3k6DQJXPdsot   \n",
       "2028                             1WvvwcQx0tj6NdDhZZ2zZz   \n",
       "2266     2uFUBdaVGtyMqckSeCl0Qj, 5NkUpXWkeXspvu7iQQOHhP   \n",
       "2336                             4dktzc5hWsQPqmovObGZIG   \n",
       "2382                             5Q81rlcTFh3k6DQJXPdsot   \n",
       "2394                             5oOhM2DFWab8XhSdQiITry   \n",
       "2432                             6O4EGCCb6DoIiR6B1QCQgp   \n",
       "2915                             2gl2bawanDtOPSmMTZALzD   \n",
       "3151                             05lIUgmmsmTX2N9dCKc8rC   \n",
       "3166                             1iqXhsjGeWi2Gje5q0mFYb   \n",
       "3642     4X8xPTUQoC19tQjPG40M81, 7gVS85jTnXGhDCsr8Jt3Ul   \n",
       "3694                             5Q81rlcTFh3k6DQJXPdsot   \n",
       "3770     14EybDMySlkntyuxgm1pek, 2AY0TMFBRlygIiGsk2kiOP   \n",
       "3850                             3Sz7ZnJQBIHsXLUSo0OQtM   \n",
       "3911                             27ze6hCgfr3HcDZAHY60pg   \n",
       "3943                             2RgG6fm1Vqpm3y7XMzGSyt   \n",
       "4053                             7yxi31szvlbwvKq9dYOmFI   \n",
       "4521     0tWnElR8nnWIsopg1o3xmg, 1iQhd9xO2v82j0dBbt4tHz   \n",
       "4588                             7dSn0mEhOoCO7TA8biZRq6   \n",
       "4685                             6XYvaoDGE0VmRt83Jss9Sn   \n",
       "4889     0T2sGLJKge2eaFmZJxX7sq, 2SrSdSvpminqmStGELCSNd   \n",
       "5182     1O10apSOoAPjOu6UhUNmeI, 2PU4qFehXQF7WnlFsJpBiJ   \n",
       "5191                             7xUZ4069zcyBM4Bn10NQ1c   \n",
       "5265                             2fMe9lZs5HGGOwh8cMSIub   \n",
       "5401     1tSfw9JqNOKJmRzxXioK8w, 3tSvlEzeDnVbQJBTkIA6nO   \n",
       "\n",
       "                                                  album              playlist  \\\n",
       "86                                              2 Sails           Old current   \n",
       "225                                              Sirens        Coachella 2017   \n",
       "280                                  One Way Or Another           Old current   \n",
       "359                                          Wildflower        Coachella 2017   \n",
       "460                                     Joanne (Deluxe)        Coachella 2017   \n",
       "583                                            Oddments        Coachella 2017   \n",
       "1021   Interstellar: Original Motion Picture Soundtrack        Coachella 2017   \n",
       "1030                                      Anything Goes        Coachella 2017   \n",
       "1191                                     Twin Rivers EP           Old current   \n",
       "1400                                              Epoch        Coachella 2017   \n",
       "1447          Gladiator - Music From The Motion Picture        Coachella 2017   \n",
       "1483                                    Crown the Pines   Instrumental thesis   \n",
       "1693  Batman v Superman: Dawn Of Justice (Original M...        Coachella 2017   \n",
       "1712                                             Design        Coachella 2017   \n",
       "1773                                  Someday Somewhere        Coachella 2017   \n",
       "2028                                     Wave Like Home        Coachella 2017   \n",
       "2266                      In A Time Lapse - The Remixes     Barely any lyrics   \n",
       "2336                                       Drum Therapy                  1.13   \n",
       "2382                                  Someday Somewhere        Coachella 2017   \n",
       "2394                                              Epoch        Coachella 2017   \n",
       "2432                                            Boo Boo  Toro Y Moi – Boo Boo   \n",
       "2915                                      Turning Tides           Old current   \n",
       "3151                                           Kid Velo   Instrumental thesis   \n",
       "3166                                             Xxyyxx     Barely any lyrics   \n",
       "3642                      Dimming Awe, The Light Is Raw   Instrumental thesis   \n",
       "3694                              Soundtrack to a Death        Coachella 2017   \n",
       "3770                                              Folds     Barely any lyrics   \n",
       "3850                                   Salad Days Demos        Coachella 2017   \n",
       "3911                                            Station           Old current   \n",
       "3943                                        Smorgasbord           Old current   \n",
       "4053                                            Insides   Instrumental thesis   \n",
       "4521                                  For We the Living                  Slow   \n",
       "4588                                      Sub Conscious   Instrumental thesis   \n",
       "4685                                           Oddments        Coachella 2017   \n",
       "4889                                Gang Signs & Prayer        Coachella 2017   \n",
       "5182                               Wonder Where We Land        Coachella 2017   \n",
       "5191                                     In The Silence           Old current   \n",
       "5265       Lucky Numbers: The Ghostly International EPs   Instrumental thesis   \n",
       "5401                                           A Forest     Christian Loffler   \n",
       "\n",
       "     track_number duration_ms explicit  12  \n",
       "86              1      327278    False   4  \n",
       "225             6      223640     True   4  \n",
       "280             1      254265    False   4  \n",
       "359            10       74706     True   4  \n",
       "460            11      229146    False   4  \n",
       "583             2      176666    False   4  \n",
       "1021            1      235837    False   4  \n",
       "1030            1      123706    False   4  \n",
       "1191            3      270706    False   4  \n",
       "1400            3      251712    False   4  \n",
       "1447           15      161471    False   4  \n",
       "1483            1      210253    False   4  \n",
       "1693           11      346743    False   4  \n",
       "1712            2      197773    False   4  \n",
       "1773            1      160156    False   4  \n",
       "2028            7      265373    False   4  \n",
       "2266            7      308057    False   4  \n",
       "2336            8      404925    False   4  \n",
       "2382            1      160186    False   4  \n",
       "2394            6      238744    False   4  \n",
       "2432            9      231240    False   4  \n",
       "2915            1      253013    False   4  \n",
       "3151           11      200000    False   4  \n",
       "3166            1      247730    False   4  \n",
       "3642           12      390134    False   4  \n",
       "3694            9      145655    False   4  \n",
       "3770            1      212120    False   4  \n",
       "3850            5      173309    False   4  \n",
       "3911            2      189326    False   4  \n",
       "3943           10      203533    False   4  \n",
       "4053            8      100946    False   4  \n",
       "4521            7      280240    False   4  \n",
       "4588            7      492453    False   4  \n",
       "4685            5      276893    False   4  \n",
       "4889            9      146254     True   4  \n",
       "5182            4      253965     True   4  \n",
       "5191            7      290890    False   4  \n",
       "5265           10      328786    False   4  \n",
       "5401           10      264394    False   4  \n",
       "\n",
       "[39 rows x 23 columns]"
      ]
     },
     "execution_count": 522,
     "metadata": {},
     "output_type": "execute_result"
    }
   ],
   "source": [
    "training_music[training_music['12']==4]"
   ]
  },
  {
   "cell_type": "markdown",
   "metadata": {},
   "source": [
    "### Cluster 9"
   ]
  },
  {
   "cell_type": "markdown",
   "metadata": {},
   "source": [
    "Single alone song - an hour and a quarter long song with very low loudness"
   ]
  },
  {
   "cell_type": "code",
   "execution_count": 521,
   "metadata": {},
   "outputs": [
    {
     "data": {
      "text/html": [
       "<div>\n",
       "<style scoped>\n",
       "    .dataframe tbody tr th:only-of-type {\n",
       "        vertical-align: middle;\n",
       "    }\n",
       "\n",
       "    .dataframe tbody tr th {\n",
       "        vertical-align: top;\n",
       "    }\n",
       "\n",
       "    .dataframe thead th {\n",
       "        text-align: right;\n",
       "    }\n",
       "</style>\n",
       "<table border=\"1\" class=\"dataframe\">\n",
       "  <thead>\n",
       "    <tr style=\"text-align: right;\">\n",
       "      <th></th>\n",
       "      <th>spotify_id</th>\n",
       "      <th>acousticness</th>\n",
       "      <th>danceability</th>\n",
       "      <th>energy</th>\n",
       "      <th>instrumentalness</th>\n",
       "      <th>key</th>\n",
       "      <th>liveness</th>\n",
       "      <th>loudness</th>\n",
       "      <th>mode</th>\n",
       "      <th>speechiness</th>\n",
       "      <th>...</th>\n",
       "      <th>name</th>\n",
       "      <th>artist</th>\n",
       "      <th>isrc</th>\n",
       "      <th>artist_id</th>\n",
       "      <th>album</th>\n",
       "      <th>playlist</th>\n",
       "      <th>track_number</th>\n",
       "      <th>duration_ms</th>\n",
       "      <th>explicit</th>\n",
       "      <th>12</th>\n",
       "    </tr>\n",
       "  </thead>\n",
       "  <tbody>\n",
       "    <tr>\n",
       "      <th>608</th>\n",
       "      <td>0rALKMhqcCvLwvWEfM5b7C</td>\n",
       "      <td>0.498</td>\n",
       "      <td>0.42</td>\n",
       "      <td>0.326</td>\n",
       "      <td>0.869</td>\n",
       "      <td>0.0</td>\n",
       "      <td>0.153</td>\n",
       "      <td>-18.424</td>\n",
       "      <td>1.0</td>\n",
       "      <td>0.0398</td>\n",
       "      <td>...</td>\n",
       "      <td>Late Night Tales Presents Sasha: Scene Delete ...</td>\n",
       "      <td>Sasha</td>\n",
       "      <td>GB5EM1601542</td>\n",
       "      <td>6u4jLGLPuarS3i2XWHVxoS</td>\n",
       "      <td>Late Night Tales presents Sasha: Scene Delete</td>\n",
       "      <td>Coachella 2017</td>\n",
       "      <td>22</td>\n",
       "      <td>4499533</td>\n",
       "      <td>False</td>\n",
       "      <td>9</td>\n",
       "    </tr>\n",
       "  </tbody>\n",
       "</table>\n",
       "<p>1 rows × 23 columns</p>\n",
       "</div>"
      ],
      "text/plain": [
       "                 spotify_id  acousticness  danceability  energy  \\\n",
       "608  0rALKMhqcCvLwvWEfM5b7C         0.498          0.42   0.326   \n",
       "\n",
       "     instrumentalness  key  liveness  loudness  mode  speechiness ...  \\\n",
       "608             0.869  0.0     0.153   -18.424   1.0       0.0398 ...   \n",
       "\n",
       "                                                  name  artist          isrc  \\\n",
       "608  Late Night Tales Presents Sasha: Scene Delete ...   Sasha  GB5EM1601542   \n",
       "\n",
       "                  artist_id                                          album  \\\n",
       "608  6u4jLGLPuarS3i2XWHVxoS  Late Night Tales presents Sasha: Scene Delete   \n",
       "\n",
       "           playlist track_number duration_ms explicit  12  \n",
       "608  Coachella 2017           22     4499533    False   9  \n",
       "\n",
       "[1 rows x 23 columns]"
      ]
     },
     "execution_count": 521,
     "metadata": {},
     "output_type": "execute_result"
    }
   ],
   "source": [
    "training_music[training_music['12']==9]"
   ]
  },
  {
   "cell_type": "markdown",
   "metadata": {},
   "source": [
    "# Assess membership of current music"
   ]
  },
  {
   "cell_type": "code",
   "execution_count": 525,
   "metadata": {
    "collapsed": true
   },
   "outputs": [],
   "source": [
    "current_counts = current_music.groupby('12').spotify_id.count()"
   ]
  },
  {
   "cell_type": "code",
   "execution_count": 526,
   "metadata": {},
   "outputs": [
    {
     "data": {
      "text/plain": [
       "12\n",
       "0     0.033113\n",
       "1     0.092715\n",
       "2     0.072848\n",
       "3     0.350993\n",
       "5     0.046358\n",
       "6     0.139073\n",
       "7     0.072848\n",
       "8     0.066225\n",
       "10    0.112583\n",
       "11    0.013245\n",
       "Name: spotify_id, dtype: float64"
      ]
     },
     "execution_count": 526,
     "metadata": {},
     "output_type": "execute_result"
    }
   ],
   "source": [
    "current_counts.divide(len(current_music))"
   ]
  },
  {
   "cell_type": "markdown",
   "metadata": {},
   "source": [
    "# Conclusions"
   ]
  },
  {
   "cell_type": "markdown",
   "metadata": {},
   "source": [
    "## Key findings\n",
    "* We were able to generate clusters with differentiated characteristics \n",
    "* The clustering was able to isolate songs that are not usually what I like to listen to \n",
    "* The limitation on being able to cluster users data online is the API calls to Spotify. If music meta data were stored  internally, model training would be fast enough to do online\n",
    "* More users should be tested before moving forward"
   ]
  },
  {
   "cell_type": "markdown",
   "metadata": {},
   "source": [
    "## Next steps\n",
    "* Move current notebook's functionality to scripts\n",
    "* Assess how much data should be required before clustering \n",
    "* Figure out how to choose k - dynamically by user? or choose one constant k for all? "
   ]
  }
 ],
 "metadata": {
  "kernelspec": {
   "display_name": "Python 3",
   "language": "python",
   "name": "python3"
  },
  "language_info": {
   "codemirror_mode": {
    "name": "ipython",
    "version": 3
   },
   "file_extension": ".py",
   "mimetype": "text/x-python",
   "name": "python",
   "nbconvert_exporter": "python",
   "pygments_lexer": "ipython3",
   "version": "3.6.1"
  },
  "nav_menu": {},
  "toc": {
   "nav_menu": {},
   "number_sections": true,
   "sideBar": true,
   "skip_h1_title": false,
   "title_cell": "Spotify Clustering PoC",
   "title_sidebar": "Contents",
   "toc_cell": true,
   "toc_position": {},
   "toc_section_display": "block",
   "toc_window_display": true
  }
 },
 "nbformat": 4,
 "nbformat_minor": 1
}
