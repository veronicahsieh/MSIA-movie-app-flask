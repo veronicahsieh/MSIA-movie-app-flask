{
 "cells": [
  {
   "cell_type": "markdown",
   "metadata": {},
   "source": [
    "### <font color='MediumOrchid'>Creating a dictionary to map user input to genre dummy</font>"
   ]
  },
  {
   "cell_type": "code",
   "execution_count": 4,
   "metadata": {
    "collapsed": true
   },
   "outputs": [],
   "source": [
    "import csv"
   ]
  },
  {
   "cell_type": "code",
   "execution_count": 5,
   "metadata": {
    "collapsed": true
   },
   "outputs": [],
   "source": [
    "def make_genres_map(dict, filepath):\n",
    "    genre_file = open(filepath)\n",
    "    genre_reader = csv.reader(genre_file)\n",
    "    next(genre_reader)\n",
    "    for row in genre_reader:\n",
    "        dict.update({row[1]:row[0]}) \n",
    "    return genres_map"
   ]
  },
  {
   "cell_type": "code",
   "execution_count": 6,
   "metadata": {},
   "outputs": [
    {
     "data": {
      "text/plain": [
       "{'Action': '28',\n",
       " 'Adventure': '12',\n",
       " 'Animation': '16',\n",
       " 'Comedy': '35',\n",
       " 'Crime': '80',\n",
       " 'Documentary': '99',\n",
       " 'Drama': '18',\n",
       " 'Family': '10751',\n",
       " 'Fantasy': '14',\n",
       " 'Foreign': '10769',\n",
       " 'History': '36',\n",
       " 'Horror': '27',\n",
       " 'Music': '10402',\n",
       " 'Mystery': '9648',\n",
       " 'Romance': '10749',\n",
       " 'Science Fiction': '878',\n",
       " 'TV Movie': '10770',\n",
       " 'Thriller': '53',\n",
       " 'War': '10752',\n",
       " 'Western': '37'}"
      ]
     },
     "execution_count": 6,
     "metadata": {},
     "output_type": "execute_result"
    }
   ],
   "source": [
    "genres_map = {}\n",
    "a = make_genres_map(genres_map,\"genres_map.csv\")\n",
    "a"
   ]
  },
  {
   "cell_type": "markdown",
   "metadata": {},
   "source": [
    "### <font color='MediumOrchid'>Other related notebooks:</font>\n",
    "- **Movies Metadata - EDA & Data Cleansing:** this notebook contains the exploratory data analysis and data cleansing/manipulation on the movies metadata dataset  \n",
    "- **Movies Revenue Prediction - Model Development:** this notebook contains the training of the decision tree model that will be executed on the web application\n",
    "- **Build prediction frame:** function that builds a dataframe which can be used as input to make new movie revenue predictions"
   ]
  }
 ],
 "metadata": {
  "kernelspec": {
   "display_name": "Python 3",
   "language": "python",
   "name": "python3"
  },
  "language_info": {
   "codemirror_mode": {
    "name": "ipython",
    "version": 3
   },
   "file_extension": ".py",
   "mimetype": "text/x-python",
   "name": "python",
   "nbconvert_exporter": "python",
   "pygments_lexer": "ipython3",
   "version": "3.6.1"
  }
 },
 "nbformat": 4,
 "nbformat_minor": 2
}
