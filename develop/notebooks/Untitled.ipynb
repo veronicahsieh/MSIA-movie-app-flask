{
 "cells": [
  {
   "cell_type": "code",
   "execution_count": 11,
   "metadata": {
    "collapsed": true
   },
   "outputs": [],
   "source": [
    "import pandas as pd"
   ]
  },
  {
   "cell_type": "code",
   "execution_count": 17,
   "metadata": {},
   "outputs": [],
   "source": [
    "test_data = pd.DataFrame(\n",
    "    {\"country\": ['Morocco', 'Japan', 'Indonesia', 'South Africa',\n",
    "                 'Brazil', 'Japan', 'Japan', 'South Africa'],\n",
    "     \"popularity\": ['150', '56', '26', '13', '16', '175', '57', '87'],\n",
    "     \"release_year\": ['2014', '2010', '2000', '2015', '2015', '2000', '2000', '2018'],\n",
    "     \"budget\": ['30000', '75000', '250000', '34500', '750000', '120000', '880950', '22500'],\n",
    "     \"random\": ['green', 'blue', 'blue', 'red', 'blue', 'red', 'purple', 'orange'],\n",
    "     \"random2\": ['hello', 'hi', 'hey', 'goodbye', 'adios', 'byebye', 'hello_again', 'today'],\n",
    "     \"revenue\": ['502000', '20140000', '2103000', '37045000', '7535000', '21350000', '103200500', '35010320']},index = [1, 2, 3, 4, 5, 6, 7, 8])"
   ]
  },
  {
   "cell_type": "code",
   "execution_count": null,
   "metadata": {
    "collapsed": true
   },
   "outputs": [],
   "source": []
  }
 ],
 "metadata": {
  "kernelspec": {
   "display_name": "Python 3",
   "language": "python",
   "name": "python3"
  },
  "language_info": {
   "codemirror_mode": {
    "name": "ipython",
    "version": 3
   },
   "file_extension": ".py",
   "mimetype": "text/x-python",
   "name": "python",
   "nbconvert_exporter": "python",
   "pygments_lexer": "ipython3",
   "version": "3.6.1"
  }
 },
 "nbformat": 4,
 "nbformat_minor": 2
}
