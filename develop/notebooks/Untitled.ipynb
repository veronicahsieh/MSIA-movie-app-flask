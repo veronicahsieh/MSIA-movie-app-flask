{
 "cells": [
  {
   "cell_type": "code",
   "execution_count": 11,
   "metadata": {
    "collapsed": true
   },
   "outputs": [],
   "source": [
    "import pandas as pd\n",
    "import datetime"
   ]
  },
  {
   "cell_type": "code",
   "execution_count": 3,
   "metadata": {},
   "outputs": [],
   "source": [
    "test_data = pd.DataFrame(\n",
    "    {\"country\": ['Morocco', 'Japan', 'Indonesia', 'South Africa',\n",
    "                 'Brazil', 'Japan', 'Japan', 'South Africa'],\n",
    "     \"popularity\": ['150', '56', '26', '13', '16', '175', '57', '87'],\n",
    "     \"release_year\": ['2014', '2010', '2000', '2015', '2015', '2000', '2000', '2018'],\n",
    "     \"budget\": ['30000', '75000', '250000', '34500', '750000', '120000', '880950', '22500'],\n",
    "     \"random\": ['green', 'blue', 'blue', 'red', 'blue', 'red', 'purple', 'orange'],\n",
    "     \"random2\": ['hello', 'hi', 'hey', 'goodbye', 'adios', 'byebye', 'hello_again', 'today'],\n",
    "     \"revenue\": ['502000', '20140000', '2103000', '37045000', '7535000', '21350000', '103200500', '35010320']}, index=[1, 2, 3, 4, 5, 6, 7, 8])"
   ]
  },
  {
   "cell_type": "code",
   "execution_count": 4,
   "metadata": {
    "collapsed": true
   },
   "outputs": [],
   "source": [
    "def conv_to_numeric(frame):\n",
    "    \"\"\"Converts continuous variables from string to integer.\"\"\"\n",
    "\n",
    "    frame['popularity'] = pd.to_numeric(frame.popularity, errors='coerce')\n",
    "    frame['revenue'] = pd.to_numeric(frame.revenue, errors='coerce')\n",
    "    frame['budget'] = pd.to_numeric(frame.budget, errors='coerce')\n",
    "    return frame"
   ]
  },
  {
   "cell_type": "code",
   "execution_count": 9,
   "metadata": {
    "collapsed": true
   },
   "outputs": [],
   "source": [
    "def build_pred_frame(genre_code, year, runtime, popularity, rating, budget):\n",
    "    \"\"\"Creates data frame based on user input on movies homepage.\n",
    "\n",
    "    Args:\n",
    "        genre_code (str): code of the movie genre selected by the user. Code for a movie genre is extracted by a dictionary which maps a movie genre to its corresponding code.\n",
    "        year (int): release year entered by the user.\n",
    "        runtime (int): runtime of movie entered by the user.\n",
    "        popularity (int): popularity of movie entered by the user.\n",
    "        rating (int): rating of movie entered by the user.\n",
    "        budget (int): budget of movie entered by the user.\n",
    "\n",
    "    Returns:\n",
    "        Dataframe used to make movie revenue prediction. Serves as input parameter in movie_pred(user_frame) function.\n",
    "\n",
    "    \"\"\"\n",
    "    col_names = ['budget', 'runtime', 'vote_average', 'release_timespan', 'popularity_scaled', ' 10402', ' 10749', ' 10751', ' 10752',\n",
    "                 ' 10769', ' 10770', ' 12', ' 14', ' 16', ' 18', ' 27', ' 28', ' 35', ' 36', ' 37', ' 53', ' 80', ' 878', ' 9648', ' 99']\n",
    "    release_timespan = datetime.datetime.now().year - int(year)\n",
    "    new_frame = pd.DataFrame([[int(budget), int(runtime), int(rating), release_timespan, int(\n",
    "        popularity), 0, 0, 0, 0, 0, 0, 0, 0, 0, 0, 0, 0, 0, 0, 0, 0, 0, 0, 0, 0]], columns=col_names)\n",
    "    new_frame[\" \" + genre_code] = 1\n",
    "    return new_frame"
   ]
  },
  {
   "cell_type": "code",
   "execution_count": 12,
   "metadata": {},
   "outputs": [
    {
     "data": {
      "text/plain": [
       "(1, 25)"
      ]
     },
     "execution_count": 12,
     "metadata": {},
     "output_type": "execute_result"
    }
   ],
   "source": [
    "build_pred_frame('28', 2010, 400, 7, 4, 50000).shape"
   ]
  },
  {
   "cell_type": "code",
   "execution_count": 7,
   "metadata": {},
   "outputs": [
    {
     "data": {
      "text/plain": [
       "150"
      ]
     },
     "execution_count": 7,
     "metadata": {},
     "output_type": "execute_result"
    }
   ],
   "source": [
    "conv_to_numeric(test_data).popularity[1]"
   ]
  }
 ],
 "metadata": {
  "kernelspec": {
   "display_name": "Python 3",
   "language": "python",
   "name": "python3"
  },
  "language_info": {
   "codemirror_mode": {
    "name": "ipython",
    "version": 3
   },
   "file_extension": ".py",
   "mimetype": "text/x-python",
   "name": "python",
   "nbconvert_exporter": "python",
   "pygments_lexer": "ipython3",
   "version": "3.6.1"
  }
 },
 "nbformat": 4,
 "nbformat_minor": 2
}
