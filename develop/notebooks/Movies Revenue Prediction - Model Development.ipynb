{
 "cells": [
  {
   "cell_type": "markdown",
   "metadata": {},
   "source": [
    "# Purpose:\n",
    "- This notebook builds a decision tree model that will be used to predict movie box office revenue\n",
    "- __[Original dataset on Kaggle](https://www.kaggle.com/rounakbanik/the-movies-dataset/data)__"
   ]
  },
  {
   "cell_type": "code",
   "execution_count": 14,
   "metadata": {
    "collapsed": true
   },
   "outputs": [],
   "source": [
    "#loading necessary packages\n",
    "import csv\n",
    "import math\n",
    "import numpy as np\n",
    "import pandas as pd\n",
    "\n",
    "from sklearn.model_selection import train_test_split\n",
    "from sklearn.tree import DecisionTreeRegressor\n",
    "import random\n",
    "from sklearn.metrics import r2_score\n",
    "\n",
    "%matplotlib inline"
   ]
  },
  {
   "cell_type": "markdown",
   "metadata": {},
   "source": [
    "Loading in the clean dataset generated from the EDA/Data Cleansing notebook"
   ]
  },
  {
   "cell_type": "code",
   "execution_count": 2,
   "metadata": {},
   "outputs": [
    {
     "data": {
      "text/html": [
       "<div>\n",
       "<style>\n",
       "    .dataframe thead tr:only-child th {\n",
       "        text-align: right;\n",
       "    }\n",
       "\n",
       "    .dataframe thead th {\n",
       "        text-align: left;\n",
       "    }\n",
       "\n",
       "    .dataframe tbody tr th {\n",
       "        vertical-align: top;\n",
       "    }\n",
       "</style>\n",
       "<table border=\"1\" class=\"dataframe\">\n",
       "  <thead>\n",
       "    <tr style=\"text-align: right;\">\n",
       "      <th></th>\n",
       "      <th>budget</th>\n",
       "      <th>revenue</th>\n",
       "      <th>runtime</th>\n",
       "      <th>vote_average</th>\n",
       "      <th>release_timespan</th>\n",
       "      <th>popularity_scaled</th>\n",
       "      <th>10402</th>\n",
       "      <th>10749</th>\n",
       "      <th>10751</th>\n",
       "      <th>10752</th>\n",
       "      <th>...</th>\n",
       "      <th>27</th>\n",
       "      <th>28</th>\n",
       "      <th>35</th>\n",
       "      <th>36</th>\n",
       "      <th>37</th>\n",
       "      <th>53</th>\n",
       "      <th>80</th>\n",
       "      <th>878</th>\n",
       "      <th>9648</th>\n",
       "      <th>99</th>\n",
       "    </tr>\n",
       "  </thead>\n",
       "  <tbody>\n",
       "    <tr>\n",
       "      <th>0</th>\n",
       "      <td>30000000.0</td>\n",
       "      <td>373554033.0</td>\n",
       "      <td>81.0</td>\n",
       "      <td>7.7</td>\n",
       "      <td>23.0</td>\n",
       "      <td>3.088628</td>\n",
       "      <td>0</td>\n",
       "      <td>0</td>\n",
       "      <td>0</td>\n",
       "      <td>0</td>\n",
       "      <td>...</td>\n",
       "      <td>0</td>\n",
       "      <td>0</td>\n",
       "      <td>0</td>\n",
       "      <td>0</td>\n",
       "      <td>0</td>\n",
       "      <td>0</td>\n",
       "      <td>0</td>\n",
       "      <td>0</td>\n",
       "      <td>0</td>\n",
       "      <td>0</td>\n",
       "    </tr>\n",
       "    <tr>\n",
       "      <th>1</th>\n",
       "      <td>65000000.0</td>\n",
       "      <td>262797249.0</td>\n",
       "      <td>104.0</td>\n",
       "      <td>6.9</td>\n",
       "      <td>23.0</td>\n",
       "      <td>2.834127</td>\n",
       "      <td>0</td>\n",
       "      <td>0</td>\n",
       "      <td>0</td>\n",
       "      <td>0</td>\n",
       "      <td>...</td>\n",
       "      <td>0</td>\n",
       "      <td>0</td>\n",
       "      <td>0</td>\n",
       "      <td>0</td>\n",
       "      <td>0</td>\n",
       "      <td>0</td>\n",
       "      <td>0</td>\n",
       "      <td>0</td>\n",
       "      <td>0</td>\n",
       "      <td>0</td>\n",
       "    </tr>\n",
       "    <tr>\n",
       "      <th>2</th>\n",
       "      <td>16000000.0</td>\n",
       "      <td>81452156.0</td>\n",
       "      <td>127.0</td>\n",
       "      <td>6.1</td>\n",
       "      <td>23.0</td>\n",
       "      <td>1.350536</td>\n",
       "      <td>0</td>\n",
       "      <td>0</td>\n",
       "      <td>0</td>\n",
       "      <td>0</td>\n",
       "      <td>...</td>\n",
       "      <td>0</td>\n",
       "      <td>0</td>\n",
       "      <td>1</td>\n",
       "      <td>0</td>\n",
       "      <td>0</td>\n",
       "      <td>0</td>\n",
       "      <td>0</td>\n",
       "      <td>0</td>\n",
       "      <td>0</td>\n",
       "      <td>0</td>\n",
       "    </tr>\n",
       "    <tr>\n",
       "      <th>3</th>\n",
       "      <td>60000000.0</td>\n",
       "      <td>187436818.0</td>\n",
       "      <td>170.0</td>\n",
       "      <td>7.7</td>\n",
       "      <td>23.0</td>\n",
       "      <td>2.886192</td>\n",
       "      <td>0</td>\n",
       "      <td>0</td>\n",
       "      <td>0</td>\n",
       "      <td>0</td>\n",
       "      <td>...</td>\n",
       "      <td>0</td>\n",
       "      <td>1</td>\n",
       "      <td>0</td>\n",
       "      <td>0</td>\n",
       "      <td>0</td>\n",
       "      <td>0</td>\n",
       "      <td>0</td>\n",
       "      <td>0</td>\n",
       "      <td>0</td>\n",
       "      <td>0</td>\n",
       "    </tr>\n",
       "    <tr>\n",
       "      <th>4</th>\n",
       "      <td>35000000.0</td>\n",
       "      <td>64350171.0</td>\n",
       "      <td>106.0</td>\n",
       "      <td>5.5</td>\n",
       "      <td>23.0</td>\n",
       "      <td>1.654713</td>\n",
       "      <td>0</td>\n",
       "      <td>0</td>\n",
       "      <td>0</td>\n",
       "      <td>0</td>\n",
       "      <td>...</td>\n",
       "      <td>0</td>\n",
       "      <td>1</td>\n",
       "      <td>0</td>\n",
       "      <td>0</td>\n",
       "      <td>0</td>\n",
       "      <td>0</td>\n",
       "      <td>0</td>\n",
       "      <td>0</td>\n",
       "      <td>0</td>\n",
       "      <td>0</td>\n",
       "    </tr>\n",
       "  </tbody>\n",
       "</table>\n",
       "<p>5 rows × 26 columns</p>\n",
       "</div>"
      ],
      "text/plain": [
       "       budget      revenue  runtime  vote_average  release_timespan  \\\n",
       "0  30000000.0  373554033.0     81.0           7.7              23.0   \n",
       "1  65000000.0  262797249.0    104.0           6.9              23.0   \n",
       "2  16000000.0   81452156.0    127.0           6.1              23.0   \n",
       "3  60000000.0  187436818.0    170.0           7.7              23.0   \n",
       "4  35000000.0   64350171.0    106.0           5.5              23.0   \n",
       "\n",
       "   popularity_scaled   10402   10749   10751   10752 ...    27   28   35   36  \\\n",
       "0           3.088628       0       0       0       0 ...     0    0    0    0   \n",
       "1           2.834127       0       0       0       0 ...     0    0    0    0   \n",
       "2           1.350536       0       0       0       0 ...     0    0    1    0   \n",
       "3           2.886192       0       0       0       0 ...     0    1    0    0   \n",
       "4           1.654713       0       0       0       0 ...     0    1    0    0   \n",
       "\n",
       "    37   53   80   878   9648   99  \n",
       "0    0    0    0     0      0    0  \n",
       "1    0    0    0     0      0    0  \n",
       "2    0    0    0     0      0    0  \n",
       "3    0    0    0     0      0    0  \n",
       "4    0    0    0     0      0    0  \n",
       "\n",
       "[5 rows x 26 columns]"
      ]
     },
     "execution_count": 2,
     "metadata": {},
     "output_type": "execute_result"
    }
   ],
   "source": [
    "movies_features = pd.read_csv('movies_clean.csv')\n",
    "movies_features.head()"
   ]
  },
  {
   "cell_type": "markdown",
   "metadata": {},
   "source": [
    "### <font color = \"DarkMagenta\">Creating the train/test dataset</font>"
   ]
  },
  {
   "cell_type": "code",
   "execution_count": 3,
   "metadata": {
    "collapsed": true
   },
   "outputs": [],
   "source": [
    "movies_train, movies_test = train_test_split(movies_features, test_size=0.2, random_state=33)"
   ]
  },
  {
   "cell_type": "code",
   "execution_count": 4,
   "metadata": {},
   "outputs": [
    {
     "data": {
      "text/html": [
       "<div>\n",
       "<style>\n",
       "    .dataframe thead tr:only-child th {\n",
       "        text-align: right;\n",
       "    }\n",
       "\n",
       "    .dataframe thead th {\n",
       "        text-align: left;\n",
       "    }\n",
       "\n",
       "    .dataframe tbody tr th {\n",
       "        vertical-align: top;\n",
       "    }\n",
       "</style>\n",
       "<table border=\"1\" class=\"dataframe\">\n",
       "  <thead>\n",
       "    <tr style=\"text-align: right;\">\n",
       "      <th></th>\n",
       "      <th>budget</th>\n",
       "      <th>revenue</th>\n",
       "      <th>runtime</th>\n",
       "      <th>vote_average</th>\n",
       "      <th>release_timespan</th>\n",
       "      <th>popularity_scaled</th>\n",
       "      <th>10402</th>\n",
       "      <th>10749</th>\n",
       "      <th>10751</th>\n",
       "      <th>10752</th>\n",
       "      <th>...</th>\n",
       "      <th>27</th>\n",
       "      <th>28</th>\n",
       "      <th>35</th>\n",
       "      <th>36</th>\n",
       "      <th>37</th>\n",
       "      <th>53</th>\n",
       "      <th>80</th>\n",
       "      <th>878</th>\n",
       "      <th>9648</th>\n",
       "      <th>99</th>\n",
       "    </tr>\n",
       "  </thead>\n",
       "  <tbody>\n",
       "    <tr>\n",
       "      <th>3816</th>\n",
       "      <td>3200000.0</td>\n",
       "      <td>5332926.0</td>\n",
       "      <td>105.0</td>\n",
       "      <td>6.8</td>\n",
       "      <td>8.0</td>\n",
       "      <td>1.906039</td>\n",
       "      <td>0</td>\n",
       "      <td>0</td>\n",
       "      <td>0</td>\n",
       "      <td>0</td>\n",
       "      <td>...</td>\n",
       "      <td>0</td>\n",
       "      <td>0</td>\n",
       "      <td>0</td>\n",
       "      <td>0</td>\n",
       "      <td>0</td>\n",
       "      <td>0</td>\n",
       "      <td>0</td>\n",
       "      <td>0</td>\n",
       "      <td>0</td>\n",
       "      <td>0</td>\n",
       "    </tr>\n",
       "    <tr>\n",
       "      <th>3377</th>\n",
       "      <td>15000000.0</td>\n",
       "      <td>35097815.0</td>\n",
       "      <td>92.0</td>\n",
       "      <td>6.8</td>\n",
       "      <td>9.0</td>\n",
       "      <td>2.189455</td>\n",
       "      <td>0</td>\n",
       "      <td>0</td>\n",
       "      <td>0</td>\n",
       "      <td>0</td>\n",
       "      <td>...</td>\n",
       "      <td>0</td>\n",
       "      <td>0</td>\n",
       "      <td>1</td>\n",
       "      <td>0</td>\n",
       "      <td>0</td>\n",
       "      <td>0</td>\n",
       "      <td>0</td>\n",
       "      <td>0</td>\n",
       "      <td>0</td>\n",
       "      <td>0</td>\n",
       "    </tr>\n",
       "    <tr>\n",
       "      <th>3120</th>\n",
       "      <td>85000000.0</td>\n",
       "      <td>222231186.0</td>\n",
       "      <td>88.0</td>\n",
       "      <td>5.9</td>\n",
       "      <td>10.0</td>\n",
       "      <td>2.401432</td>\n",
       "      <td>0</td>\n",
       "      <td>0</td>\n",
       "      <td>0</td>\n",
       "      <td>0</td>\n",
       "      <td>...</td>\n",
       "      <td>0</td>\n",
       "      <td>0</td>\n",
       "      <td>0</td>\n",
       "      <td>0</td>\n",
       "      <td>0</td>\n",
       "      <td>0</td>\n",
       "      <td>0</td>\n",
       "      <td>0</td>\n",
       "      <td>0</td>\n",
       "      <td>0</td>\n",
       "    </tr>\n",
       "    <tr>\n",
       "      <th>635</th>\n",
       "      <td>70000000.0</td>\n",
       "      <td>164000000.0</td>\n",
       "      <td>98.0</td>\n",
       "      <td>5.6</td>\n",
       "      <td>20.0</td>\n",
       "      <td>2.908224</td>\n",
       "      <td>0</td>\n",
       "      <td>0</td>\n",
       "      <td>0</td>\n",
       "      <td>0</td>\n",
       "      <td>...</td>\n",
       "      <td>0</td>\n",
       "      <td>1</td>\n",
       "      <td>0</td>\n",
       "      <td>0</td>\n",
       "      <td>0</td>\n",
       "      <td>0</td>\n",
       "      <td>0</td>\n",
       "      <td>0</td>\n",
       "      <td>0</td>\n",
       "      <td>0</td>\n",
       "    </tr>\n",
       "    <tr>\n",
       "      <th>1949</th>\n",
       "      <td>30000000.0</td>\n",
       "      <td>33013805.0</td>\n",
       "      <td>113.0</td>\n",
       "      <td>6.6</td>\n",
       "      <td>16.0</td>\n",
       "      <td>2.427549</td>\n",
       "      <td>0</td>\n",
       "      <td>0</td>\n",
       "      <td>0</td>\n",
       "      <td>0</td>\n",
       "      <td>...</td>\n",
       "      <td>0</td>\n",
       "      <td>0</td>\n",
       "      <td>1</td>\n",
       "      <td>0</td>\n",
       "      <td>0</td>\n",
       "      <td>0</td>\n",
       "      <td>0</td>\n",
       "      <td>0</td>\n",
       "      <td>0</td>\n",
       "      <td>0</td>\n",
       "    </tr>\n",
       "  </tbody>\n",
       "</table>\n",
       "<p>5 rows × 26 columns</p>\n",
       "</div>"
      ],
      "text/plain": [
       "          budget      revenue  runtime  vote_average  release_timespan  \\\n",
       "3816   3200000.0    5332926.0    105.0           6.8               8.0   \n",
       "3377  15000000.0   35097815.0     92.0           6.8               9.0   \n",
       "3120  85000000.0  222231186.0     88.0           5.9              10.0   \n",
       "635   70000000.0  164000000.0     98.0           5.6              20.0   \n",
       "1949  30000000.0   33013805.0    113.0           6.6              16.0   \n",
       "\n",
       "      popularity_scaled   10402   10749   10751   10752 ...    27   28   35  \\\n",
       "3816           1.906039       0       0       0       0 ...     0    0    0   \n",
       "3377           2.189455       0       0       0       0 ...     0    0    1   \n",
       "3120           2.401432       0       0       0       0 ...     0    0    0   \n",
       "635            2.908224       0       0       0       0 ...     0    1    0   \n",
       "1949           2.427549       0       0       0       0 ...     0    0    1   \n",
       "\n",
       "       36   37   53   80   878   9648   99  \n",
       "3816    0    0    0    0     0      0    0  \n",
       "3377    0    0    0    0     0      0    0  \n",
       "3120    0    0    0    0     0      0    0  \n",
       "635     0    0    0    0     0      0    0  \n",
       "1949    0    0    0    0     0      0    0  \n",
       "\n",
       "[5 rows x 26 columns]"
      ]
     },
     "execution_count": 4,
     "metadata": {},
     "output_type": "execute_result"
    }
   ],
   "source": [
    "movies_train.head()"
   ]
  },
  {
   "cell_type": "code",
   "execution_count": 5,
   "metadata": {
    "collapsed": true
   },
   "outputs": [],
   "source": [
    "X = movies_train[['budget','runtime','vote_average','release_timespan','popularity_scaled',\n",
    " ' 10402',' 10749',' 10751',' 10752',' 10769',' 10770',' 12',' 14',' 16',' 18',' 27',' 28',' 35',' 36',' 37',\n",
    " ' 53',' 80',' 878',' 9648',' 99']]\n",
    "y = movies_train['revenue']"
   ]
  },
  {
   "cell_type": "code",
   "execution_count": 6,
   "metadata": {
    "collapsed": true
   },
   "outputs": [],
   "source": [
    "X_test = movies_test[['budget','runtime','vote_average','release_timespan','popularity_scaled',' 10402',' 10749',\n",
    " ' 10751',' 10752',' 10769',' 10770',' 12',' 14',' 16',' 18',' 27',' 28',' 35',' 36',' 37',' 53',' 80',' 878',' 9648',' 99']]\n",
    "y_test = movies_test['revenue']"
   ]
  },
  {
   "cell_type": "markdown",
   "metadata": {},
   "source": [
    "### <font color = \"DarkMagenta\">Fitting a decision tree</font>"
   ]
  },
  {
   "cell_type": "code",
   "execution_count": 12,
   "metadata": {},
   "outputs": [],
   "source": [
    "movies_treefit = DecisionTreeRegressor(max_depth = 8,min_samples_leaf = 7)\n",
    "movies_treefit = movies_treefit.fit(X,y)"
   ]
  },
  {
   "cell_type": "code",
   "execution_count": 15,
   "metadata": {},
   "outputs": [
    {
     "data": {
      "text/plain": [
       "0.78461298707190541"
      ]
     },
     "execution_count": 15,
     "metadata": {},
     "output_type": "execute_result"
    }
   ],
   "source": [
    "#training R-squared\n",
    "y_true = movies_train['revenue']\n",
    "y_pred = movies_treefit.predict(X)\n",
    "train_rsquared = r2_score(y_true, y_pred) \n",
    "train_rsquared"
   ]
  },
  {
   "cell_type": "code",
   "execution_count": 16,
   "metadata": {
    "scrolled": true
   },
   "outputs": [
    {
     "data": {
      "text/plain": [
       "0.56579218187532365"
      ]
     },
     "execution_count": 16,
     "metadata": {},
     "output_type": "execute_result"
    }
   ],
   "source": [
    "#test R-squared\n",
    "y_true_test = movies_test['revenue']\n",
    "y_pred_test = movies_treefit.predict(X_test)\n",
    "test_rsquared = r2_score(y_true_test, y_pred_test)\n",
    "test_rsquared"
   ]
  },
  {
   "cell_type": "markdown",
   "metadata": {},
   "source": [
    "### Saving Decision Tree Model"
   ]
  },
  {
   "cell_type": "code",
   "execution_count": 120,
   "metadata": {
    "collapsed": true
   },
   "outputs": [],
   "source": [
    "import pickle"
   ]
  },
  {
   "cell_type": "code",
   "execution_count": 123,
   "metadata": {
    "collapsed": true
   },
   "outputs": [],
   "source": [
    "movie_model_path = 'movie_tree.pkl'\n",
    " \n",
    "# Create an variable to pickle and open it in write mode\n",
    "model_pickle = open(movie_model_path, 'wb')\n",
    "pickle.dump(movies_treefit, model_pickle)\n",
    "model_pickle.close()"
   ]
  },
  {
   "cell_type": "markdown",
   "metadata": {},
   "source": [
    "### <font color='MediumOrchid'>Other related notebooks:</font>\n",
    "- **Movies Metadata - EDA & Data Cleansing:** this notebook contains the exploratory data analysis and data cleansing/manipulation on the movies metadata dataset  \n",
    "- **Movie genre mapping:** function that returns the dummy variable code based on the genre name\n",
    "- **Build prediction frame:** function that builds a dataframe which can be used as input to make new movie revenue predictions"
   ]
  }
 ],
 "metadata": {
  "kernelspec": {
   "display_name": "Python 3",
   "language": "python",
   "name": "python3"
  },
  "language_info": {
   "codemirror_mode": {
    "name": "ipython",
    "version": 3
   },
   "file_extension": ".py",
   "mimetype": "text/x-python",
   "name": "python",
   "nbconvert_exporter": "python",
   "pygments_lexer": "ipython3",
   "version": "3.6.1"
  }
 },
 "nbformat": 4,
 "nbformat_minor": 2
}
