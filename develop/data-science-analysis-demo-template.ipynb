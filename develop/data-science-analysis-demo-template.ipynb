{
 "cells": [
  {
   "cell_type": "raw",
   "metadata": {},
   "source": [
    "<script>\n",
    "code_show=true; \n",
    "function code_toggle() {\n",
    " if (code_show){\n",
    " $('div.input').hide();\n",
    " } else {\n",
    " $('div.input').show();\n",
    " }\n",
    " code_show = !code_show\n",
    "} \n",
    "$( document ).ready(code_toggle);\n",
    "</script>\n",
    "<form action=\"javascript:code_toggle()\"><input type=\"submit\" value=\"Click here to toggle on/off the raw code.\"></form>"
   ]
  },
  {
   "cell_type": "markdown",
   "metadata": {},
   "source": [
    "<img src=\"nw.png\" alt=\"Northwestern Logo\" width=\"750\" align=\"left\">\""
   ]
  },
  {
   "cell_type": "markdown",
   "metadata": {
    "toc": "true"
   },
   "source": [
    "<h1>Data Science Template<span class=\"tocSkip\"></span></h1>\n",
    "<div class=\"toc\"><ul class=\"toc-item\"><li><span><a href=\"#Introduction\" data-toc-modified-id=\"Introduction-1\"><span class=\"toc-item-num\">1&nbsp;&nbsp;</span>Introduction</a></span><ul class=\"toc-item\"><li><span><a href=\"#Purpose\" data-toc-modified-id=\"Purpose-1.1\"><span class=\"toc-item-num\">1.1&nbsp;&nbsp;</span>Purpose</a></span></li><li><span><a href=\"#Prior-work/-previous-next-steps\" data-toc-modified-id=\"Prior-work/-previous-next-steps-1.2\"><span class=\"toc-item-num\">1.2&nbsp;&nbsp;</span>Prior work/ previous next steps</a></span></li><li><span><a href=\"#Guiding-questions\" data-toc-modified-id=\"Guiding-questions-1.3\"><span class=\"toc-item-num\">1.3&nbsp;&nbsp;</span>Guiding questions</a></span></li><li><span><a href=\"#Key-findings\" data-toc-modified-id=\"Key-findings-1.4\"><span class=\"toc-item-num\">1.4&nbsp;&nbsp;</span>Key findings</a></span></li><li><span><a href=\"#Related-notebooks\" data-toc-modified-id=\"Related-notebooks-1.5\"><span class=\"toc-item-num\">1.5&nbsp;&nbsp;</span>Related notebooks</a></span></li><li><span><a href=\"#Imports-and-configurations\" data-toc-modified-id=\"Imports-and-configurations-1.6\"><span class=\"toc-item-num\">1.6&nbsp;&nbsp;</span>Imports and configurations</a></span></li></ul></li><li><span><a href=\"#Ingest-data\" data-toc-modified-id=\"Ingest-data-2\"><span class=\"toc-item-num\">2&nbsp;&nbsp;</span>Ingest data</a></span></li><li><span><a href=\"#Clean-and-process-data\" data-toc-modified-id=\"Clean-and-process-data-3\"><span class=\"toc-item-num\">3&nbsp;&nbsp;</span>Clean and process data</a></span></li><li><span><a href=\"#Exploratory-data-analysis\" data-toc-modified-id=\"Exploratory-data-analysis-4\"><span class=\"toc-item-num\">4&nbsp;&nbsp;</span>Exploratory data analysis</a></span></li><li><span><a href=\"#Model-development\" data-toc-modified-id=\"Model-development-5\"><span class=\"toc-item-num\">5&nbsp;&nbsp;</span>Model development</a></span><ul class=\"toc-item\"><li><span><a href=\"#Generate-features\" data-toc-modified-id=\"Generate-features-5.1\"><span class=\"toc-item-num\">5.1&nbsp;&nbsp;</span>Generate features</a></span></li><li><span><a href=\"#Train-model\" data-toc-modified-id=\"Train-model-5.2\"><span class=\"toc-item-num\">5.2&nbsp;&nbsp;</span>Train model</a></span></li><li><span><a href=\"#Score-model\" data-toc-modified-id=\"Score-model-5.3\"><span class=\"toc-item-num\">5.3&nbsp;&nbsp;</span>Score model</a></span></li><li><span><a href=\"#Evaluate-model\" data-toc-modified-id=\"Evaluate-model-5.4\"><span class=\"toc-item-num\">5.4&nbsp;&nbsp;</span>Evaluate model</a></span></li></ul></li><li><span><a href=\"#Post-process-and-analyze\" data-toc-modified-id=\"Post-process-and-analyze-6\"><span class=\"toc-item-num\">6&nbsp;&nbsp;</span>Post-process and analyze</a></span></li><li><span><a href=\"#Conclusions\" data-toc-modified-id=\"Conclusions-7\"><span class=\"toc-item-num\">7&nbsp;&nbsp;</span>Conclusions</a></span><ul class=\"toc-item\"><li><span><a href=\"#Key-findings\" data-toc-modified-id=\"Key-findings-7.1\"><span class=\"toc-item-num\">7.1&nbsp;&nbsp;</span>Key findings</a></span></li><li><span><a href=\"#Next-steps\" data-toc-modified-id=\"Next-steps-7.2\"><span class=\"toc-item-num\">7.2&nbsp;&nbsp;</span>Next steps</a></span></li></ul></li></ul></div>"
   ]
  },
  {
   "cell_type": "markdown",
   "metadata": {},
   "source": [
    "# Introduction"
   ]
  },
  {
   "cell_type": "markdown",
   "metadata": {},
   "source": [
    "## Purpose"
   ]
  },
  {
   "cell_type": "markdown",
   "metadata": {},
   "source": [
    "## Prior work/ previous next steps"
   ]
  },
  {
   "cell_type": "markdown",
   "metadata": {},
   "source": [
    "## Guiding questions\n",
    "* Guiding question 1\n",
    "* Guiding question 2"
   ]
  },
  {
   "cell_type": "markdown",
   "metadata": {},
   "source": [
    "## Key findings\n",
    "* Key finding 1\n",
    "* Key finding 2"
   ]
  },
  {
   "cell_type": "markdown",
   "metadata": {},
   "source": [
    "## Related notebooks\n",
    "\n",
    "* **Copied from:** N/A\n",
    "* **Purpose of copy:** N/A \n",
    "* **Copied to:** N/A\n",
    "* **Purpose of copy:** N/A\n",
    "* **Related notebooks:** N/A"
   ]
  },
  {
   "cell_type": "markdown",
   "metadata": {},
   "source": [
    "<div class=\"alert alert-info\"> Use this box for important points, reminders (blue) </div>"
   ]
  },
  {
   "cell_type": "markdown",
   "metadata": {},
   "source": [
    "<div class=\"alert alert-warning\"> Use this box for important points, reminders (yellow) </div>"
   ]
  },
  {
   "cell_type": "markdown",
   "metadata": {
    "slideshow": {
     "slide_type": "-"
    }
   },
   "source": [
    "## Imports and configurations"
   ]
  },
  {
   "cell_type": "code",
   "execution_count": 1,
   "metadata": {
    "ExecuteTime": {
     "end_time": "2016-07-19T17:16:32.895394",
     "start_time": "2016-07-19T17:16:29.778542"
    },
    "run_control": {
     "frozen": false,
     "read_only": false
    },
    "slideshow": {
     "slide_type": "-"
    }
   },
   "outputs": [],
   "source": [
    "%matplotlib inline\n",
    "from matplotlib import pyplot as plt\n",
    "import matplotlib as mpl\n",
    "import pandas as pd\n",
    "import numpy as np"
   ]
  },
  {
   "cell_type": "code",
   "execution_count": 3,
   "metadata": {
    "ExecuteTime": {
     "end_time": "2016-07-13T18:10:32.982291",
     "start_time": "2016-07-13T18:10:32.975796"
    },
    "run_control": {
     "frozen": false,
     "read_only": false
    }
   },
   "outputs": [],
   "source": [
    "# Update matplotlib defaults to create presentable figures \n",
    "colors = ['#0055A7', '#2C3E4F', '#26C5ED', '#00cc66', \n",
    "          '#D34100', '#FF9700', '#091D32']\n",
    "mpl_update = {'font.size':16,\n",
    "              'xtick.labelsize':14,'ytick.labelsize':14,\n",
    "              'figure.figsize':[12.0, 8.0],\n",
    "              'axes.labelsize':20, 'axes.labelcolor':'#677385',\n",
    "              'axes.titlesize':20, 'lines.color':'#0055A7',\n",
    "              'lines.linewidth':3, 'text.color':'#677385'}\n",
    "mpl.rcParams.update(mpl_update)"
   ]
  },
  {
   "cell_type": "markdown",
   "metadata": {},
   "source": [
    "# Ingest data"
   ]
  },
  {
   "cell_type": "markdown",
   "metadata": {},
   "source": [
    "```sql \n",
    "SELECT * \n",
    "FROM example data\n",
    "\n",
    "```"
   ]
  },
  {
   "cell_type": "markdown",
   "metadata": {},
   "source": [
    "* **File:** \n",
    "* **Description of data:**\n",
    "* **Date range covered by data:** \n",
    "* **Included population:**\n",
    "* **Associated query file:** \n",
    "* **Associated query:** "
   ]
  },
  {
   "cell_type": "markdown",
   "metadata": {},
   "source": [
    "# Clean and process data "
   ]
  },
  {
   "cell_type": "markdown",
   "metadata": {},
   "source": [
    "# Exploratory data analysis"
   ]
  },
  {
   "cell_type": "markdown",
   "metadata": {},
   "source": [
    "# Model development"
   ]
  },
  {
   "cell_type": "markdown",
   "metadata": {},
   "source": [
    "## Generate features"
   ]
  },
  {
   "cell_type": "markdown",
   "metadata": {},
   "source": [
    "## Train model"
   ]
  },
  {
   "cell_type": "markdown",
   "metadata": {},
   "source": [
    "## Score model"
   ]
  },
  {
   "cell_type": "markdown",
   "metadata": {},
   "source": [
    "## Evaluate model"
   ]
  },
  {
   "cell_type": "markdown",
   "metadata": {},
   "source": [
    "# Post-process and analyze"
   ]
  },
  {
   "cell_type": "markdown",
   "metadata": {},
   "source": [
    "# Conclusions"
   ]
  },
  {
   "cell_type": "markdown",
   "metadata": {},
   "source": [
    "## Key findings\n",
    "* Key finding 1\n",
    "* Key finding 2"
   ]
  },
  {
   "cell_type": "markdown",
   "metadata": {},
   "source": [
    "## Next steps\n",
    "* Next steps 1\n",
    "* Next steps 2"
   ]
  }
 ],
 "metadata": {
  "kernelspec": {
   "display_name": "Python 3",
   "language": "python",
   "name": "python3"
  },
  "language_info": {
   "codemirror_mode": {
    "name": "ipython",
    "version": 3
   },
   "file_extension": ".py",
   "mimetype": "text/x-python",
   "name": "python",
   "nbconvert_exporter": "python",
   "pygments_lexer": "ipython3",
   "version": "3.5.4"
  },
  "nav_menu": {},
  "toc": {
   "nav_menu": {},
   "number_sections": true,
   "sideBar": true,
   "skip_h1_title": false,
   "title_cell": "Data Science Template",
   "title_sidebar": "Contents",
   "toc_cell": true,
   "toc_position": {},
   "toc_section_display": "block",
   "toc_window_display": true
  }
 },
 "nbformat": 4,
 "nbformat_minor": 1
}
